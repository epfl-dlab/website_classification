{
 "cells": [
  {
   "cell_type": "markdown",
   "metadata": {},
   "source": [
    "# Classification using websites embeddings\n",
    "\n",
    "This notebook merge the textual and visual embeddings of websites and used them to train class-wise binary classifiers."
   ]
  },
  {
   "cell_type": "markdown",
   "metadata": {},
   "source": [
    "### Loading and pre-processing the data"
   ]
  },
  {
   "cell_type": "code",
   "execution_count": 83,
   "metadata": {},
   "outputs": [],
   "source": [
    "import pandas as pd\n",
    "import numpy as np\n",
    "import torch\n",
    "from torch import nn\n",
    "from torch.nn import functional as F\n",
    "from torch import optim\n",
    "\n",
    "import ast\n",
    "import math\n",
    "\n",
    "from tqdm import tqdm\n",
    "\n",
    "from sklearn.metrics import precision_recall_fscore_support\n",
    "\n",
    "import matplotlib.pyplot as plt\n",
    "\n",
    "from matplotlib import rcParams"
   ]
  },
  {
   "cell_type": "code",
   "execution_count": 84,
   "metadata": {},
   "outputs": [
    {
     "name": "stdout",
     "output_type": "stream",
     "text": [
      "cpu\n"
     ]
    }
   ],
   "source": [
    "device = torch.device(\"cuda:1\" if torch.cuda.is_available() else \"cpu\")\n",
    "print(device)"
   ]
  },
  {
   "cell_type": "code",
   "execution_count": 86,
   "metadata": {},
   "outputs": [
    {
     "data": {
      "text/html": [
       "<div>\n",
       "<style scoped>\n",
       "    .dataframe tbody tr th:only-of-type {\n",
       "        vertical-align: middle;\n",
       "    }\n",
       "\n",
       "    .dataframe tbody tr th {\n",
       "        vertical-align: top;\n",
       "    }\n",
       "\n",
       "    .dataframe thead th {\n",
       "        text-align: right;\n",
       "    }\n",
       "</style>\n",
       "<table border=\"1\" class=\"dataframe\">\n",
       "  <thead>\n",
       "    <tr style=\"text-align: right;\">\n",
       "      <th></th>\n",
       "      <th>uid</th>\n",
       "      <th>url</th>\n",
       "      <th>cat0</th>\n",
       "      <th>error</th>\n",
       "      <th>embed_url</th>\n",
       "      <th>embed_domain</th>\n",
       "      <th>embed_metatags</th>\n",
       "      <th>embed_text</th>\n",
       "      <th>embed_title</th>\n",
       "      <th>embed_description</th>\n",
       "      <th>embed_keywords</th>\n",
       "      <th>embed_links</th>\n",
       "    </tr>\n",
       "  </thead>\n",
       "  <tbody>\n",
       "    <tr>\n",
       "      <th>0</th>\n",
       "      <td>2424165</td>\n",
       "      <td>www.speech-and-phone.de</td>\n",
       "      <td>Computers</td>\n",
       "      <td>uimctdkl:oooooooo</td>\n",
       "      <td>[0.060655515640974045, 0.21340367197990417, -4...</td>\n",
       "      <td>[0.0, 0.0, 0.0, 0.0, 0.0, 0.0, 0.0, 0.0, 0.0, ...</td>\n",
       "      <td>[0.0, 0.0, 1.0, 0.0, 0.0, 1.0, 1.0, 0.0, 0.0, ...</td>\n",
       "      <td>[0.05247274413704872, 0.08826844394207001, 0.1...</td>\n",
       "      <td>[0.17049936950206757, 0.3826030492782593, -0.0...</td>\n",
       "      <td>[0.16197238862514496, 0.31466931104660034, -0....</td>\n",
       "      <td>[-0.008254689164459705, 0.11043740808963776, 0...</td>\n",
       "      <td>[0.031460825353860855, 0.10673479735851288, 0....</td>\n",
       "    </tr>\n",
       "    <tr>\n",
       "      <th>1</th>\n",
       "      <td>290861</td>\n",
       "      <td>www.abakus.de</td>\n",
       "      <td>Computers</td>\n",
       "      <td>uimctdkl:oooooo_o</td>\n",
       "      <td>[-0.03831346333026886, 0.11123624444007874, 0....</td>\n",
       "      <td>[0.0, 0.0, 0.0, 0.0, 0.0, 0.0, 0.0, 0.0, 0.0, ...</td>\n",
       "      <td>[1.0, 1.0, 1.0, 0.0, 0.0, 0.0, 0.0, 0.0, 0.0, ...</td>\n",
       "      <td>[0.07217922061681747, 0.1010865569114685, 0.17...</td>\n",
       "      <td>[0.25987574458122253, 0.35377758741378784, 0.2...</td>\n",
       "      <td>[-0.04988153278827667, 0.5871794819831848, -0....</td>\n",
       "      <td>NaN</td>\n",
       "      <td>[0.07821475714445114, 0.03716801851987839, 0.2...</td>\n",
       "    </tr>\n",
       "    <tr>\n",
       "      <th>2</th>\n",
       "      <td>623605</td>\n",
       "      <td>www.add-in-world.com</td>\n",
       "      <td>Computers</td>\n",
       "      <td>uimctdkl:oooooooo</td>\n",
       "      <td>[-0.14618022739887238, 0.10078339278697968, 0....</td>\n",
       "      <td>[1.0, 0.0, 0.0, 0.0, 0.0, 0.0, 0.0, 0.0, 0.0, ...</td>\n",
       "      <td>[0.0, 0.0, 1.0, 0.0, 0.0, 0.0, 1.0, 0.0, 0.0, ...</td>\n",
       "      <td>[0.07250160723924637, 0.052183691412210464, 0....</td>\n",
       "      <td>[0.0074517009779810905, 0.306285560131073, -0....</td>\n",
       "      <td>[0.1350153684616089, 0.25630608201026917, -0.1...</td>\n",
       "      <td>[-0.02077578194439411, 0.22364230453968048, 0....</td>\n",
       "      <td>[0.10269737243652344, -0.010017908178269863, 0...</td>\n",
       "    </tr>\n",
       "    <tr>\n",
       "      <th>3</th>\n",
       "      <td>906236</td>\n",
       "      <td>www.euronet.de</td>\n",
       "      <td>Computers</td>\n",
       "      <td>NaN</td>\n",
       "      <td>NaN</td>\n",
       "      <td>NaN</td>\n",
       "      <td>NaN</td>\n",
       "      <td>NaN</td>\n",
       "      <td>NaN</td>\n",
       "      <td>NaN</td>\n",
       "      <td>NaN</td>\n",
       "      <td>NaN</td>\n",
       "    </tr>\n",
       "    <tr>\n",
       "      <th>4</th>\n",
       "      <td>1662217</td>\n",
       "      <td>www.homepage4u.net</td>\n",
       "      <td>Computers</td>\n",
       "      <td>uimctdkl:ooooo___</td>\n",
       "      <td>[0.19163523614406586, -0.12171020358800888, 0....</td>\n",
       "      <td>[0.0, 0.0, 1.0, 0.0, 0.0, 0.0, 0.0, 0.0, 0.0, ...</td>\n",
       "      <td>[0.0, 0.0, 0.0, 0.0, 0.0, 0.0, 0.0, 0.0, 0.0, ...</td>\n",
       "      <td>[0.09341035783290863, 0.06160615384578705, 0.1...</td>\n",
       "      <td>[0.019808843731880188, 0.10328571498394012, 0....</td>\n",
       "      <td>NaN</td>\n",
       "      <td>NaN</td>\n",
       "      <td>NaN</td>\n",
       "    </tr>\n",
       "  </tbody>\n",
       "</table>\n",
       "</div>"
      ],
      "text/plain": [
       "       uid                      url       cat0              error  \\\n",
       "0  2424165  www.speech-and-phone.de  Computers  uimctdkl:oooooooo   \n",
       "1   290861            www.abakus.de  Computers  uimctdkl:oooooo_o   \n",
       "2   623605     www.add-in-world.com  Computers  uimctdkl:oooooooo   \n",
       "3   906236           www.euronet.de  Computers                NaN   \n",
       "4  1662217       www.homepage4u.net  Computers  uimctdkl:ooooo___   \n",
       "\n",
       "                                           embed_url  \\\n",
       "0  [0.060655515640974045, 0.21340367197990417, -4...   \n",
       "1  [-0.03831346333026886, 0.11123624444007874, 0....   \n",
       "2  [-0.14618022739887238, 0.10078339278697968, 0....   \n",
       "3                                                NaN   \n",
       "4  [0.19163523614406586, -0.12171020358800888, 0....   \n",
       "\n",
       "                                        embed_domain  \\\n",
       "0  [0.0, 0.0, 0.0, 0.0, 0.0, 0.0, 0.0, 0.0, 0.0, ...   \n",
       "1  [0.0, 0.0, 0.0, 0.0, 0.0, 0.0, 0.0, 0.0, 0.0, ...   \n",
       "2  [1.0, 0.0, 0.0, 0.0, 0.0, 0.0, 0.0, 0.0, 0.0, ...   \n",
       "3                                                NaN   \n",
       "4  [0.0, 0.0, 1.0, 0.0, 0.0, 0.0, 0.0, 0.0, 0.0, ...   \n",
       "\n",
       "                                      embed_metatags  \\\n",
       "0  [0.0, 0.0, 1.0, 0.0, 0.0, 1.0, 1.0, 0.0, 0.0, ...   \n",
       "1  [1.0, 1.0, 1.0, 0.0, 0.0, 0.0, 0.0, 0.0, 0.0, ...   \n",
       "2  [0.0, 0.0, 1.0, 0.0, 0.0, 0.0, 1.0, 0.0, 0.0, ...   \n",
       "3                                                NaN   \n",
       "4  [0.0, 0.0, 0.0, 0.0, 0.0, 0.0, 0.0, 0.0, 0.0, ...   \n",
       "\n",
       "                                          embed_text  \\\n",
       "0  [0.05247274413704872, 0.08826844394207001, 0.1...   \n",
       "1  [0.07217922061681747, 0.1010865569114685, 0.17...   \n",
       "2  [0.07250160723924637, 0.052183691412210464, 0....   \n",
       "3                                                NaN   \n",
       "4  [0.09341035783290863, 0.06160615384578705, 0.1...   \n",
       "\n",
       "                                         embed_title  \\\n",
       "0  [0.17049936950206757, 0.3826030492782593, -0.0...   \n",
       "1  [0.25987574458122253, 0.35377758741378784, 0.2...   \n",
       "2  [0.0074517009779810905, 0.306285560131073, -0....   \n",
       "3                                                NaN   \n",
       "4  [0.019808843731880188, 0.10328571498394012, 0....   \n",
       "\n",
       "                                   embed_description  \\\n",
       "0  [0.16197238862514496, 0.31466931104660034, -0....   \n",
       "1  [-0.04988153278827667, 0.5871794819831848, -0....   \n",
       "2  [0.1350153684616089, 0.25630608201026917, -0.1...   \n",
       "3                                                NaN   \n",
       "4                                                NaN   \n",
       "\n",
       "                                      embed_keywords  \\\n",
       "0  [-0.008254689164459705, 0.11043740808963776, 0...   \n",
       "1                                                NaN   \n",
       "2  [-0.02077578194439411, 0.22364230453968048, 0....   \n",
       "3                                                NaN   \n",
       "4                                                NaN   \n",
       "\n",
       "                                         embed_links  \n",
       "0  [0.031460825353860855, 0.10673479735851288, 0....  \n",
       "1  [0.07821475714445114, 0.03716801851987839, 0.2...  \n",
       "2  [0.10269737243652344, -0.010017908178269863, 0...  \n",
       "3                                                NaN  \n",
       "4                                                NaN  "
      ]
     },
     "execution_count": 86,
     "metadata": {},
     "output_type": "execute_result"
    }
   ],
   "source": [
    "# this dataframe contains the textual embeddings\n",
    "df_t = pd.read_csv('/dlabdata1/lugeon/dmozfinalset/dmoz_lang_text_embeddings.gz', index_col=0)\n",
    "df_t.head(5)"
   ]
  },
  {
   "cell_type": "markdown",
   "metadata": {},
   "source": [
    "Some urls could not be accessed and therefore are qualified as _erroneus_. In such a case, their _error_ field is set to _NaN_. Even if the url can be accessed, some features may not be computable and are set to _NaN_."
   ]
  },
  {
   "cell_type": "code",
   "execution_count": 91,
   "metadata": {},
   "outputs": [
    {
     "name": "stdout",
     "output_type": "stream",
     "text": [
      "There is 0.1716819973718791% of erroneus urls\n"
     ]
    }
   ],
   "source": [
    "print('There is {}% of erroneus urls'.format(df_t.error.isna().sum() / df_t.shape[0]))"
   ]
  },
  {
   "cell_type": "code",
   "execution_count": 4,
   "metadata": {},
   "outputs": [],
   "source": [
    "# we discard erroneus urls\n",
    "df_t = df_t[df_t.error.notna()]"
   ]
  },
  {
   "cell_type": "code",
   "execution_count": 5,
   "metadata": {},
   "outputs": [
    {
     "data": {
      "text/plain": [
       "(113463, 12)"
      ]
     },
     "execution_count": 5,
     "metadata": {},
     "output_type": "execute_result"
    }
   ],
   "source": [
    "df_t.shape"
   ]
  },
  {
   "cell_type": "markdown",
   "metadata": {},
   "source": [
    "We export the cleaned urls so that we can collect screenshots and forward them to the CVM to obtain visual embeddings"
   ]
  },
  {
   "cell_type": "code",
   "execution_count": 6,
   "metadata": {},
   "outputs": [],
   "source": [
    "df_t[['uid', 'url', 'cat0']].to_csv('/dlabdata1/lugeon/dmozfinalset/dmoz_lang_clean_urls.gz', compression='gzip')"
   ]
  },
  {
   "cell_type": "markdown",
   "metadata": {},
   "source": [
    "... collecting screenshots ... computing visual embeddings ..."
   ]
  },
  {
   "cell_type": "code",
   "execution_count": 584,
   "metadata": {},
   "outputs": [
    {
     "data": {
      "text/html": [
       "<div>\n",
       "<style scoped>\n",
       "    .dataframe tbody tr th:only-of-type {\n",
       "        vertical-align: middle;\n",
       "    }\n",
       "\n",
       "    .dataframe tbody tr th {\n",
       "        vertical-align: top;\n",
       "    }\n",
       "\n",
       "    .dataframe thead th {\n",
       "        text-align: right;\n",
       "    }\n",
       "</style>\n",
       "<table border=\"1\" class=\"dataframe\">\n",
       "  <thead>\n",
       "    <tr style=\"text-align: right;\">\n",
       "      <th></th>\n",
       "      <th>uid</th>\n",
       "      <th>embed_graph</th>\n",
       "    </tr>\n",
       "  </thead>\n",
       "  <tbody>\n",
       "    <tr>\n",
       "      <th>0</th>\n",
       "      <td>1000021</td>\n",
       "      <td>[0.8024751543998718, 0.5643119215965271, 0.498...</td>\n",
       "    </tr>\n",
       "    <tr>\n",
       "      <th>1</th>\n",
       "      <td>1000107</td>\n",
       "      <td>[0.8033103942871094, 0.46896466612815857, 0.39...</td>\n",
       "    </tr>\n",
       "    <tr>\n",
       "      <th>2</th>\n",
       "      <td>100016</td>\n",
       "      <td>[0.44025373458862305, 0.320512980222702, 0.623...</td>\n",
       "    </tr>\n",
       "    <tr>\n",
       "      <th>3</th>\n",
       "      <td>1000247</td>\n",
       "      <td>[1.6630299091339111, 0.2737491726875305, 0.331...</td>\n",
       "    </tr>\n",
       "    <tr>\n",
       "      <th>4</th>\n",
       "      <td>1000260</td>\n",
       "      <td>[0.5779597163200378, 0.024376489222049713, 0.0...</td>\n",
       "    </tr>\n",
       "  </tbody>\n",
       "</table>\n",
       "</div>"
      ],
      "text/plain": [
       "       uid                                        embed_graph\n",
       "0  1000021  [0.8024751543998718, 0.5643119215965271, 0.498...\n",
       "1  1000107  [0.8033103942871094, 0.46896466612815857, 0.39...\n",
       "2   100016  [0.44025373458862305, 0.320512980222702, 0.623...\n",
       "3  1000247  [1.6630299091339111, 0.2737491726875305, 0.331...\n",
       "4  1000260  [0.5779597163200378, 0.024376489222049713, 0.0..."
      ]
     },
     "execution_count": 584,
     "metadata": {},
     "output_type": "execute_result"
    }
   ],
   "source": [
    "# this dataframe contains the visual embeddings\n",
    "df_v = pd.read_csv('/dlabdata1/lugeon/dmozfinalset/dmoz_lang_visual_embeddings.gz', index_col=0)\n",
    "df_v.head(5)"
   ]
  },
  {
   "cell_type": "code",
   "execution_count": 8,
   "metadata": {},
   "outputs": [],
   "source": [
    "# we merge the textual and visual\n",
    "df = df_t.merge(df_v, on='uid', how='inner')"
   ]
  },
  {
   "cell_type": "code",
   "execution_count": 9,
   "metadata": {},
   "outputs": [
    {
     "data": {
      "text/html": [
       "<div>\n",
       "<style scoped>\n",
       "    .dataframe tbody tr th:only-of-type {\n",
       "        vertical-align: middle;\n",
       "    }\n",
       "\n",
       "    .dataframe tbody tr th {\n",
       "        vertical-align: top;\n",
       "    }\n",
       "\n",
       "    .dataframe thead th {\n",
       "        text-align: right;\n",
       "    }\n",
       "</style>\n",
       "<table border=\"1\" class=\"dataframe\">\n",
       "  <thead>\n",
       "    <tr style=\"text-align: right;\">\n",
       "      <th></th>\n",
       "      <th>uid</th>\n",
       "      <th>url</th>\n",
       "      <th>cat0</th>\n",
       "      <th>lang</th>\n",
       "    </tr>\n",
       "  </thead>\n",
       "  <tbody>\n",
       "    <tr>\n",
       "      <th>934747</th>\n",
       "      <td>2094851</td>\n",
       "      <td>www.gyrosystem.co.uk</td>\n",
       "      <td>Computers</td>\n",
       "      <td>English</td>\n",
       "    </tr>\n",
       "  </tbody>\n",
       "</table>\n",
       "</div>"
      ],
      "text/plain": [
       "            uid                   url       cat0     lang\n",
       "934747  2094851  www.gyrosystem.co.uk  Computers  English"
      ]
     },
     "execution_count": 9,
     "metadata": {},
     "output_type": "execute_result"
    }
   ],
   "source": [
    "# thos dataframe contains the languages of the samples\n",
    "df_lang = pd.read_csv('/dlabdata1/lugeon/dmozfinalset/dmoz_lang.gz', index_col=0)\n",
    "df_lang.head(1)"
   ]
  },
  {
   "cell_type": "code",
   "execution_count": 10,
   "metadata": {},
   "outputs": [],
   "source": [
    "# we merge with the languages\n",
    "df = df.merge(df_lang[['uid', 'lang']], how='inner', on='uid')"
   ]
  },
  {
   "cell_type": "code",
   "execution_count": 11,
   "metadata": {},
   "outputs": [
    {
     "data": {
      "text/plain": [
       "(102096, 14)"
      ]
     },
     "execution_count": 11,
     "metadata": {},
     "output_type": "execute_result"
    }
   ],
   "source": [
    "# final number of samples\n",
    "df.shape"
   ]
  },
  {
   "cell_type": "code",
   "execution_count": 12,
   "metadata": {},
   "outputs": [
    {
     "data": {
      "text/html": [
       "<div>\n",
       "<style scoped>\n",
       "    .dataframe tbody tr th:only-of-type {\n",
       "        vertical-align: middle;\n",
       "    }\n",
       "\n",
       "    .dataframe tbody tr th {\n",
       "        vertical-align: top;\n",
       "    }\n",
       "\n",
       "    .dataframe thead th {\n",
       "        text-align: right;\n",
       "    }\n",
       "</style>\n",
       "<table border=\"1\" class=\"dataframe\">\n",
       "  <thead>\n",
       "    <tr style=\"text-align: right;\">\n",
       "      <th></th>\n",
       "      <th>uid</th>\n",
       "      <th>url</th>\n",
       "      <th>cat0</th>\n",
       "      <th>error</th>\n",
       "      <th>embed_url</th>\n",
       "      <th>embed_domain</th>\n",
       "      <th>embed_metatags</th>\n",
       "      <th>embed_text</th>\n",
       "      <th>embed_title</th>\n",
       "      <th>embed_description</th>\n",
       "      <th>embed_keywords</th>\n",
       "      <th>embed_links</th>\n",
       "      <th>embed_graph</th>\n",
       "      <th>lang</th>\n",
       "    </tr>\n",
       "  </thead>\n",
       "  <tbody>\n",
       "    <tr>\n",
       "      <th>0</th>\n",
       "      <td>2424165</td>\n",
       "      <td>www.speech-and-phone.de</td>\n",
       "      <td>Computers</td>\n",
       "      <td>uimctdkl:oooooooo</td>\n",
       "      <td>[0.060655515640974045, 0.21340367197990417, -4...</td>\n",
       "      <td>[0.0, 0.0, 0.0, 0.0, 0.0, 0.0, 0.0, 0.0, 0.0, ...</td>\n",
       "      <td>[0.0, 0.0, 1.0, 0.0, 0.0, 1.0, 1.0, 0.0, 0.0, ...</td>\n",
       "      <td>[0.05247274413704872, 0.08826844394207001, 0.1...</td>\n",
       "      <td>[0.17049936950206757, 0.3826030492782593, -0.0...</td>\n",
       "      <td>[0.16197238862514496, 0.31466931104660034, -0....</td>\n",
       "      <td>[-0.008254689164459705, 0.11043740808963776, 0...</td>\n",
       "      <td>[0.031460825353860855, 0.10673479735851288, 0....</td>\n",
       "      <td>[1.0454500913619995, 0.22354736924171448, 0.11...</td>\n",
       "      <td>Deutsch</td>\n",
       "    </tr>\n",
       "  </tbody>\n",
       "</table>\n",
       "</div>"
      ],
      "text/plain": [
       "       uid                      url       cat0              error  \\\n",
       "0  2424165  www.speech-and-phone.de  Computers  uimctdkl:oooooooo   \n",
       "\n",
       "                                           embed_url  \\\n",
       "0  [0.060655515640974045, 0.21340367197990417, -4...   \n",
       "\n",
       "                                        embed_domain  \\\n",
       "0  [0.0, 0.0, 0.0, 0.0, 0.0, 0.0, 0.0, 0.0, 0.0, ...   \n",
       "\n",
       "                                      embed_metatags  \\\n",
       "0  [0.0, 0.0, 1.0, 0.0, 0.0, 1.0, 1.0, 0.0, 0.0, ...   \n",
       "\n",
       "                                          embed_text  \\\n",
       "0  [0.05247274413704872, 0.08826844394207001, 0.1...   \n",
       "\n",
       "                                         embed_title  \\\n",
       "0  [0.17049936950206757, 0.3826030492782593, -0.0...   \n",
       "\n",
       "                                   embed_description  \\\n",
       "0  [0.16197238862514496, 0.31466931104660034, -0....   \n",
       "\n",
       "                                      embed_keywords  \\\n",
       "0  [-0.008254689164459705, 0.11043740808963776, 0...   \n",
       "\n",
       "                                         embed_links  \\\n",
       "0  [0.031460825353860855, 0.10673479735851288, 0....   \n",
       "\n",
       "                                         embed_graph     lang  \n",
       "0  [1.0454500913619995, 0.22354736924171448, 0.11...  Deutsch  "
      ]
     },
     "execution_count": 12,
     "metadata": {},
     "output_type": "execute_result"
    }
   ],
   "source": [
    "df.head(1)"
   ]
  },
  {
   "cell_type": "code",
   "execution_count": 13,
   "metadata": {},
   "outputs": [
    {
     "data": {
      "text/plain": [
       "cat0\n",
       "Arts          18891\n",
       "Business      27321\n",
       "Computers      4062\n",
       "Games          3739\n",
       "Health         4151\n",
       "Home           2312\n",
       "News           1140\n",
       "Recreation     7903\n",
       "Reference      3246\n",
       "Science        3303\n",
       "Shopping       7784\n",
       "Society       12282\n",
       "Sports         5962\n",
       "Name: uid, dtype: int64"
      ]
     },
     "execution_count": 13,
     "metadata": {},
     "output_type": "execute_result"
    }
   ],
   "source": [
    "# samples per category\n",
    "cat_count = df.groupby('cat0').uid.count()\n",
    "cat_count"
   ]
  },
  {
   "cell_type": "code",
   "execution_count": 15,
   "metadata": {},
   "outputs": [
    {
     "data": {
      "text/plain": [
       "['embed_url',\n",
       " 'embed_domain',\n",
       " 'embed_metatags',\n",
       " 'embed_text',\n",
       " 'embed_title',\n",
       " 'embed_description',\n",
       " 'embed_keywords',\n",
       " 'embed_links',\n",
       " 'embed_graph']"
      ]
     },
     "execution_count": 15,
     "metadata": {},
     "output_type": "execute_result"
    }
   ],
   "source": [
    "# different kinds of embeddings we have \n",
    "embeddings = [s for s in df.columns.values if s.startswith('embed')]\n",
    "embeddings"
   ]
  },
  {
   "cell_type": "markdown",
   "metadata": {},
   "source": [
    "In the next step, we need to convert every string array of the dataframe to numpy and replace the _NaN_ features by the mean of others present xlm-r-embedded-features."
   ]
  },
  {
   "cell_type": "code",
   "execution_count": 16,
   "metadata": {},
   "outputs": [],
   "source": [
    "def convert_string_array(s):\n",
    "    if type(s) == str:\n",
    "        return np.fromstring(s[1:-1], sep=',') # need to remove the bracket for the method to work\n",
    "    else:\n",
    "        return s"
   ]
  },
  {
   "cell_type": "code",
   "execution_count": 19,
   "metadata": {},
   "outputs": [],
   "source": [
    "for e in embeddings:\n",
    "    df[e] = df[e].apply(convert_string_array)"
   ]
  },
  {
   "cell_type": "code",
   "execution_count": 20,
   "metadata": {},
   "outputs": [],
   "source": [
    "xlmr_embeddings = ['embed_url', 'embed_text', 'embed_title', 'embed_description', 'embed_keywords', 'embed_links']"
   ]
  },
  {
   "cell_type": "code",
   "execution_count": 21,
   "metadata": {},
   "outputs": [],
   "source": [
    "def xlmr_mean(row):\n",
    "    mean = np.zeros(768)\n",
    "    counter = 0\n",
    "    for e in xlmr_embeddings:\n",
    "        if type(row[e]) == np.ndarray:\n",
    "            counter += 1\n",
    "            mean += row[e]\n",
    "    return mean / counter"
   ]
  },
  {
   "cell_type": "code",
   "execution_count": 22,
   "metadata": {},
   "outputs": [],
   "source": [
    "df['xlmr_mean'] = df.apply(xlmr_mean, axis=1)"
   ]
  },
  {
   "cell_type": "code",
   "execution_count": 23,
   "metadata": {},
   "outputs": [],
   "source": [
    "def remove_nan(val):\n",
    "    if type(val) == np.ndarray:\n",
    "        return val\n",
    "    else:\n",
    "        return np.zeros(768)\n",
    "    "
   ]
  },
  {
   "cell_type": "code",
   "execution_count": 24,
   "metadata": {},
   "outputs": [],
   "source": [
    "def replace_nan(column):\n",
    "    is_nan = column.apply(lambda row: int(type(row) != np.ndarray))\n",
    "    nan_removes = column.apply(remove_nan) \n",
    "    return df.xlmr_mean * is_nan + nan_removes * (1 - is_nan)"
   ]
  },
  {
   "cell_type": "code",
   "execution_count": 25,
   "metadata": {},
   "outputs": [],
   "source": [
    "df[xlmr_embeddings] = df[xlmr_embeddings].apply(replace_nan)"
   ]
  },
  {
   "cell_type": "code",
   "execution_count": 26,
   "metadata": {},
   "outputs": [
    {
     "data": {
      "text/plain": [
       "uid                  0\n",
       "url                  0\n",
       "cat0                 0\n",
       "error                0\n",
       "embed_url            0\n",
       "embed_domain         0\n",
       "embed_metatags       0\n",
       "embed_text           0\n",
       "embed_title          0\n",
       "embed_description    0\n",
       "embed_keywords       0\n",
       "embed_links          0\n",
       "embed_graph          0\n",
       "lang                 0\n",
       "xlmr_mean            0\n",
       "dtype: int64"
      ]
     },
     "execution_count": 26,
     "metadata": {},
     "output_type": "execute_result"
    }
   ],
   "source": [
    "# check that we don't have NaN anymore\n",
    "df.isna().sum()"
   ]
  },
  {
   "cell_type": "code",
   "execution_count": 27,
   "metadata": {},
   "outputs": [
    {
     "data": {
      "text/plain": [
       "uimctdkl:ooooo__o    28392\n",
       "uimctdkl:oooooo_o    28245\n",
       "uimctdkl:oooooooo    25115\n",
       "uimctdkl:ooooo___     7932\n",
       "uimctdkl:ooooooo_     4562\n",
       "uimctdkl:oooooo__     1972\n",
       "uimctdkl:ooooo_oo     1682\n",
       "uimctdkl:ooo_____     1565\n",
       "uimctdkl:oooo____      931\n",
       "uimctdkl:oooo___o      499\n",
       "uimctdkl:ooooo_o_      465\n",
       "uimctdkl:ooo_o___      413\n",
       "uimctdkl:ooo_oo__      167\n",
       "uimctdkl:oooo_ooo       44\n",
       "uimctdkl:oooo_o_o       25\n",
       "uimctdkl:oooo_oo_       22\n",
       "uimctdkl:oooo__oo       11\n",
       "uimctdkl:ooo____o       11\n",
       "uimctdkl:ooo__oo_       10\n",
       "uimctdkl:ooo__o__        7\n",
       "uimctdkl:ooo_ooo_        7\n",
       "uimctdkl:ooo___o_        4\n",
       "uimctdkl:ooo_o_o_        3\n",
       "uimctdkl:ooo_o__o        3\n",
       "uimctdkl:oooo_o__        3\n",
       "uimctdkl:oooo__o_        2\n",
       "uimctdkl:ooo__ooo        2\n",
       "uimctdkl:ooo_oooo        1\n",
       "uimctdkl:_oooo__o        1\n",
       "Name: error, dtype: int64"
      ]
     },
     "execution_count": 27,
     "metadata": {},
     "output_type": "execute_result"
    }
   ],
   "source": [
    "# this summaries which features are missing\n",
    "df.error.value_counts()"
   ]
  },
  {
   "cell_type": "code",
   "execution_count": 77,
   "metadata": {},
   "outputs": [],
   "source": [
    "def missing_feature(error, feature):\n",
    "    return error[error.find(feature) + 9] == '_'  "
   ]
  },
  {
   "cell_type": "code",
   "execution_count": 82,
   "metadata": {},
   "outputs": [
    {
     "data": {
      "text/plain": [
       "0.17694131013947656"
      ]
     },
     "execution_count": 82,
     "metadata": {},
     "output_type": "execute_result"
    }
   ],
   "source": [
    "# percentage of missing features\n",
    "df.error.apply(lambda e: missing_feature(e, 'l')).sum() / df.shape[0]"
   ]
  },
  {
   "cell_type": "code",
   "execution_count": 28,
   "metadata": {},
   "outputs": [],
   "source": [
    "def is_valid(error):\n",
    "    #return error[12] == 'o' # we want websites with text content\n",
    "    return True"
   ]
  },
  {
   "cell_type": "code",
   "execution_count": 55,
   "metadata": {},
   "outputs": [],
   "source": [
    "df_valid = df[df.error.apply(is_valid)] \n",
    "\n",
    "df_valid.reset_index(drop=True, inplace=True)"
   ]
  },
  {
   "cell_type": "code",
   "execution_count": 30,
   "metadata": {},
   "outputs": [
    {
     "name": "stdout",
     "output_type": "stream",
     "text": [
      "There is 1.00% of valid embeddings\n"
     ]
    }
   ],
   "source": [
    "print(\"There is {:.2f}% of valid embeddings\".format(df_valid.shape[0] / df.shape[0]))"
   ]
  },
  {
   "cell_type": "markdown",
   "metadata": {},
   "source": [
    "### Classification models"
   ]
  },
  {
   "cell_type": "markdown",
   "metadata": {},
   "source": [
    "This is a standard binary classifier, defined by the dimension of the input, the number of layers and the dimension of hidden layers.\n",
    "\n"
   ]
  },
  {
   "cell_type": "code",
   "execution_count": 156,
   "metadata": {},
   "outputs": [],
   "source": [
    "class BinaryClassifier(nn.Module):\n",
    "    def __init__(self, features_dim, internal_dim, n_layers):\n",
    "        super(BinaryClassifier, self).__init__()\n",
    "        \n",
    "        if n_layers == 1:\n",
    "            layers = [torch.nn.Linear(features_dim, 1).to(device)]\n",
    "            \n",
    "        else:\n",
    "            first_layer = torch.nn.Linear(features_dim, internal_dim).to(device)\n",
    "            last_layer = torch.nn.Linear(internal_dim, 1).to(device)\n",
    "            medium_layers = (n_layers-2) * [torch.nn.Linear(internal_dim, internal_dim).to(device)]\n",
    "            layers = [first_layer] + medium_layers + [last_layer]\n",
    "            \n",
    "        self.layers = nn.ModuleList(layers)\n",
    "        \n",
    "        self.drop = torch.nn.Dropout(0.5) # dropout of 0.5 before each layer\n",
    "\n",
    "    def forward(self, x):\n",
    "        \n",
    "        x = self.drop(x)\n",
    "        \n",
    "        for l in self.layers[:-1]:\n",
    "            x = l(x)\n",
    "            x = F.relu(self.drop(x))\n",
    "            \n",
    "        x = self.layers[-1](x)\n",
    "        \n",
    "        return x"
   ]
  },
  {
   "cell_type": "markdown",
   "metadata": {},
   "source": [
    "This class implements dynamic meta-embeddings. It is defined be the size of the latent dimension and the dimensions of the different embeddings at the input."
   ]
  },
  {
   "cell_type": "code",
   "execution_count": 32,
   "metadata": {},
   "outputs": [],
   "source": [
    "\n",
    "\n",
    "class DME(nn.Module):\n",
    "    \n",
    "    def __init__(self, latent_dim, embeddings_dim):\n",
    "        \"\"\"\n",
    "        the dimensions of the prior embeddings must be passed has a list\n",
    "        \"\"\"\n",
    "        super(DME, self).__init__()\n",
    "        \n",
    "        self.n_embeddings = len(embeddings_dim) # number of prior embeddings\n",
    "        self.transforms = nn.ModuleList([torch.nn.Linear(dim, latent_dim).to(device) for dim in embeddings_dim]) # linear transformation into the latent space\n",
    "        self.attention = torch.nn.Linear(latent_dim, 1) # linear transformation defining the attention\n",
    "        self.softmax = nn.Softmax(dim=1) # to normalize the attention \n",
    "        \n",
    "    def forward(self, embeddings):\n",
    "        \"\"\"\n",
    "        The embeddings are given as tuples of the form [samples x embedding_dim]\n",
    "        \"\"\"\n",
    "        \n",
    "        # first we transform each prior embedding into the latent space\n",
    "        latent_embeddings = [transform(x) for transform, x in zip(self.transforms, embeddings)] # this is a list\n",
    "        \n",
    "        # then we apply the attention transformation to each of the latent embeddings\n",
    "        att = torch.cat([self.attention(x) for x in latent_embeddings], dim=1) # this is a tensor\n",
    "        \n",
    "        # we normalize the attention and reshape for multiplication\n",
    "        att_coeffs = self.softmax(att).reshape(-1, 1, self.n_embeddings)\n",
    "        \n",
    "        # we reshape for multiplication\n",
    "        latent_embeddings_t = torch.cat(latent_embeddings, dim=1).reshape(-1, self.n_embeddings, latent_dim)\n",
    "        \n",
    "        # the reshape is so that we multiply matrices of the form \n",
    "        # [#samples x 1 x #embeddings] @ [#samples x #embeddings x latent_dim]\n",
    "        \n",
    "        aggregation = att_coeffs.matmul(latent_embeddings_t)\n",
    "        \n",
    "        \n",
    "        return aggregation.squeeze()"
   ]
  },
  {
   "cell_type": "markdown",
   "metadata": {},
   "source": [
    "This class combine dynamic meta-embeddings with a binary classifier."
   ]
  },
  {
   "cell_type": "code",
   "execution_count": 33,
   "metadata": {},
   "outputs": [],
   "source": [
    "class DynamicClassifier(nn.Module):\n",
    "    \n",
    "    def __init__(self, embeddings_dim, latent_dim, internal_dim, n_layers):\n",
    "        super(DynamicClassifier, self).__init__()\n",
    "        \n",
    "        self.dme = DME(latent_dim, embeddings_dim)\n",
    "        self.classifier = BinaryClassifier(latent_dim, internal_dim, n_layers)\n",
    "        self.embeddings_dim = embeddings_dim\n",
    "        \n",
    "    def forward(self, x):\n",
    "        \n",
    "        splitted_embeddings = x.split(self.embeddings_dim, dim=1)\n",
    "        latent_embedding = self.dme(splitted_embeddings)\n",
    "        output = self.classifier(latent_embedding)\n",
    "        \n",
    "        return output\n"
   ]
  },
  {
   "cell_type": "markdown",
   "metadata": {},
   "source": [
    "### Training procedure"
   ]
  },
  {
   "cell_type": "code",
   "execution_count": 34,
   "metadata": {},
   "outputs": [
    {
     "data": {
      "text/html": [
       "<div>\n",
       "<style scoped>\n",
       "    .dataframe tbody tr th:only-of-type {\n",
       "        vertical-align: middle;\n",
       "    }\n",
       "\n",
       "    .dataframe tbody tr th {\n",
       "        vertical-align: top;\n",
       "    }\n",
       "\n",
       "    .dataframe thead th {\n",
       "        text-align: right;\n",
       "    }\n",
       "</style>\n",
       "<table border=\"1\" class=\"dataframe\">\n",
       "  <thead>\n",
       "    <tr style=\"text-align: right;\">\n",
       "      <th></th>\n",
       "      <th>uid</th>\n",
       "      <th>url</th>\n",
       "      <th>cat0</th>\n",
       "      <th>error</th>\n",
       "      <th>embed_url</th>\n",
       "      <th>embed_domain</th>\n",
       "      <th>embed_metatags</th>\n",
       "      <th>embed_text</th>\n",
       "      <th>embed_title</th>\n",
       "      <th>embed_description</th>\n",
       "      <th>embed_keywords</th>\n",
       "      <th>embed_links</th>\n",
       "      <th>embed_graph</th>\n",
       "      <th>lang</th>\n",
       "      <th>xlmr_mean</th>\n",
       "    </tr>\n",
       "  </thead>\n",
       "  <tbody>\n",
       "    <tr>\n",
       "      <th>0</th>\n",
       "      <td>2424165</td>\n",
       "      <td>www.speech-and-phone.de</td>\n",
       "      <td>Computers</td>\n",
       "      <td>uimctdkl:oooooooo</td>\n",
       "      <td>[0.060655515640974045, 0.21340367197990417, -4...</td>\n",
       "      <td>[0.0, 0.0, 0.0, 0.0, 0.0, 0.0, 0.0, 0.0, 0.0, ...</td>\n",
       "      <td>[0.0, 0.0, 1.0, 0.0, 0.0, 1.0, 1.0, 0.0, 0.0, ...</td>\n",
       "      <td>[0.05247274413704872, 0.08826844394207001, 0.1...</td>\n",
       "      <td>[0.17049936950206757, 0.3826030492782593, -0.0...</td>\n",
       "      <td>[0.16197238862514496, 0.31466931104660034, -0....</td>\n",
       "      <td>[-0.008254689164459705, 0.11043740808963776, 0...</td>\n",
       "      <td>[0.031460825353860855, 0.10673479735851288, 0....</td>\n",
       "      <td>[1.0454500913619995, 0.22354736924171448, 0.11...</td>\n",
       "      <td>Deutsch</td>\n",
       "      <td>[0.07813435901577274, 0.20268611361583075, 0.0...</td>\n",
       "    </tr>\n",
       "  </tbody>\n",
       "</table>\n",
       "</div>"
      ],
      "text/plain": [
       "       uid                      url       cat0              error  \\\n",
       "0  2424165  www.speech-and-phone.de  Computers  uimctdkl:oooooooo   \n",
       "\n",
       "                                           embed_url  \\\n",
       "0  [0.060655515640974045, 0.21340367197990417, -4...   \n",
       "\n",
       "                                        embed_domain  \\\n",
       "0  [0.0, 0.0, 0.0, 0.0, 0.0, 0.0, 0.0, 0.0, 0.0, ...   \n",
       "\n",
       "                                      embed_metatags  \\\n",
       "0  [0.0, 0.0, 1.0, 0.0, 0.0, 1.0, 1.0, 0.0, 0.0, ...   \n",
       "\n",
       "                                          embed_text  \\\n",
       "0  [0.05247274413704872, 0.08826844394207001, 0.1...   \n",
       "\n",
       "                                         embed_title  \\\n",
       "0  [0.17049936950206757, 0.3826030492782593, -0.0...   \n",
       "\n",
       "                                   embed_description  \\\n",
       "0  [0.16197238862514496, 0.31466931104660034, -0....   \n",
       "\n",
       "                                      embed_keywords  \\\n",
       "0  [-0.008254689164459705, 0.11043740808963776, 0...   \n",
       "\n",
       "                                         embed_links  \\\n",
       "0  [0.031460825353860855, 0.10673479735851288, 0....   \n",
       "\n",
       "                                         embed_graph     lang  \\\n",
       "0  [1.0454500913619995, 0.22354736924171448, 0.11...  Deutsch   \n",
       "\n",
       "                                           xlmr_mean  \n",
       "0  [0.07813435901577274, 0.20268611361583075, 0.0...  "
      ]
     },
     "execution_count": 34,
     "metadata": {},
     "output_type": "execute_result"
    }
   ],
   "source": [
    "df_valid.head(1)"
   ]
  },
  {
   "cell_type": "markdown",
   "metadata": {},
   "source": [
    "We select the features to use for the classification "
   ]
  },
  {
   "cell_type": "code",
   "execution_count": 523,
   "metadata": {},
   "outputs": [],
   "source": [
    "#features = ['embed_url', 'embed_domain', 'embed_metatags', 'embed_text', 'embed_title', 'embed_description', 'embed_keywords', 'embed_links']\n",
    "features = embeddings\n",
    "#features = ['embed_url', 'embed_domain']"
   ]
  },
  {
   "cell_type": "code",
   "execution_count": 524,
   "metadata": {},
   "outputs": [
    {
     "data": {
      "text/plain": [
       "(102096, 5157)"
      ]
     },
     "execution_count": 524,
     "metadata": {},
     "output_type": "execute_result"
    }
   ],
   "source": [
    "# we convert the dataframe columns into a matrix\n",
    "embeddings_sequence = [np.concatenate(df_valid[e].to_numpy()).reshape(df_valid.shape[0], -1) for e in features]\n",
    "embeddings_concatenated = np.concatenate((embeddings_sequence), axis=1)\n",
    "embeddings_concatenated.shape"
   ]
  },
  {
   "cell_type": "code",
   "execution_count": 469,
   "metadata": {},
   "outputs": [
    {
     "data": {
      "text/plain": [
       "[768, 17, 20, 768, 768, 768, 768, 768, 512]"
      ]
     },
     "execution_count": 469,
     "metadata": {},
     "output_type": "execute_result"
    }
   ],
   "source": [
    "# splits for dme\n",
    "[x.shape[0] for x in df_valid[features].iloc[0][features]]"
   ]
  },
  {
   "cell_type": "code",
   "execution_count": 152,
   "metadata": {},
   "outputs": [],
   "source": [
    "def hinge_loss(output, target):\n",
    "    return torch.mean(torch.clamp(1 - output * target, min=0))"
   ]
  },
  {
   "cell_type": "code",
   "execution_count": 153,
   "metadata": {},
   "outputs": [],
   "source": [
    "splits = [x.shape[0] for x in df_valid[features].iloc[0][features]]\n",
    "latent_dim = 300\n",
    "\n",
    "nb_epochs = 100\n",
    "batch_size = 128\n",
    "\n",
    "\n",
    "def train_procedure(n_layers, internal_dim, hingeloss, dme,\n",
    "                    train_inputs, train_targets, test_inputs, test_targets, test_langs,\n",
    "                    verbose):\n",
    "    \"\"\"\n",
    "    Train the specified model on the given inputs and targets,\n",
    "    returns the accuracy, precison, recall and languages of correctly predicted samples\n",
    "    \"\"\"\n",
    "    \n",
    "    if dme:\n",
    "        model = DynamicClassifier(splits, latent_dim, internal_dim, n_layers)\n",
    "    else:\n",
    "        model = BinaryClassifier(train_inputs[0].shape[0], internal_dim, n_layers).to(device)\n",
    "    \n",
    "\n",
    "    nb_trainable_params = sum(p.numel() for p in model.parameters() if p.requires_grad)\n",
    "    \n",
    "    #print(\"Number of parameters: {}\".format(nb_trainable_params))\n",
    "\n",
    "    if hingeloss:\n",
    "        criterion = hinge_loss\n",
    "        train_targets = 2 * train_targets - 1 \n",
    "        test_targets = 2 * test_targets - 1\n",
    "    else:\n",
    "        criterion = nn.BCEWithLogitsLoss()\n",
    "\n",
    "    optimizer = optim.Adam(model.parameters(), 1e-4)\n",
    "    scheduler = optim.lr_scheduler.ReduceLROnPlateau(optimizer, mode='max', factor=0.1, patience=10, verbose=verbose)\n",
    "    \n",
    "\n",
    "    for e in range(nb_epochs):\n",
    "\n",
    "        model.train()\n",
    "\n",
    "        for input, target in zip(train_inputs.split(batch_size), train_targets.split(batch_size)):\n",
    "\n",
    "            output = model(input).view(-1)\n",
    "            \n",
    "            loss = criterion(output, target)\n",
    "                \n",
    "            optimizer.zero_grad()\n",
    "            loss.backward()\n",
    "            optimizer.step()\n",
    "            \n",
    "        with torch.no_grad():\n",
    "\n",
    "            model.eval()\n",
    "\n",
    "            # computing test accuracy\n",
    "            test_outputs = model(test_inputs).view(-1)\n",
    "\n",
    "            if hingeloss:\n",
    "                test_preds = 2 * (test_outputs > 0).int() - 1 \n",
    "            else:\n",
    "                test_preds = torch.round(torch.sigmoid(test_outputs))\n",
    "\n",
    "            test_corrects = test_preds == test_targets\n",
    "            test_acc = torch.sum(test_corrects).item() / test_targets.shape[0]\n",
    "\n",
    "            if verbose:\n",
    "\n",
    "                train_outputs = model(train_inputs).view(-1)\n",
    "\n",
    "                train_loss = criterion(train_outputs, train_targets)\n",
    "                test_loss = criterion(test_outputs, test_targets)\n",
    "\n",
    "                if hingeloss:\n",
    "                    train_preds = 2 * (train_outputs > 0).int() - 1 \n",
    "\n",
    "                else:\n",
    "                    train_preds = torch.round(torch.sigmoid(train_outputs))\n",
    "\n",
    "                train_corrects = train_preds == train_targets\n",
    "\n",
    "                train_acc = torch.sum(train_corrects).item() / train_targets.shape[0]\n",
    "\n",
    "\n",
    "                print(\"Epoch {}\".format(e))\n",
    "                print(\"Train loss : {:.3f}\".format(train_loss) +\\\n",
    "                      \" | Test loss : {:.3f}\".format(test_loss) +\\\n",
    "                      \" | Train acc : {:.3f}\".format(train_acc) +\\\n",
    "                      \" | Test acc : {:.3f}\".format(test_acc))\n",
    "\n",
    "\n",
    "                scheduler.step(test_acc)\n",
    "        \n",
    "    # computes test metrics at the end of training\n",
    "    with torch.no_grad():\n",
    "\n",
    "            model.eval()\n",
    "\n",
    "            test_outputs = model(test_inputs).view(-1)\n",
    "\n",
    "            if hingeloss:\n",
    "                test_preds = 2 * (test_outputs > 0).int() - 1 \n",
    "\n",
    "            else:\n",
    "                test_preds = torch.round(torch.sigmoid(test_outputs))\n",
    "        \n",
    "            # precision and recall\n",
    "            metrics = precision_recall_fscore_support(test_targets.cpu().detach(), \n",
    "                                                      test_preds.cpu().detach(),\n",
    "                                                      average='binary')\n",
    "\n",
    "            # languages \n",
    "            test_langs_corrects = test_langs[test_corrects.cpu()].tolist()\n",
    "    \n",
    "    del model\n",
    "        \n",
    "    return test_acc, metrics[0], metrics[1], test_langs_corrects\n",
    "\n",
    "            "
   ]
  },
  {
   "cell_type": "markdown",
   "metadata": {},
   "source": [
    "### Japanese samples"
   ]
  },
  {
   "cell_type": "markdown",
   "metadata": {},
   "source": [
    "We'll also need japanese samples for computing the zero-shot performances. We load and pre-process japanese embeddings in the next cells"
   ]
  },
  {
   "cell_type": "code",
   "execution_count": 102,
   "metadata": {},
   "outputs": [],
   "source": [
    "df_jap_t = pd.read_csv('/dlabdata1/lugeon/dmozfinalset/dmoz_jap_text_embeddings.gz', index_col=0)"
   ]
  },
  {
   "cell_type": "code",
   "execution_count": 103,
   "metadata": {},
   "outputs": [
    {
     "data": {
      "text/html": [
       "<div>\n",
       "<style scoped>\n",
       "    .dataframe tbody tr th:only-of-type {\n",
       "        vertical-align: middle;\n",
       "    }\n",
       "\n",
       "    .dataframe tbody tr th {\n",
       "        vertical-align: top;\n",
       "    }\n",
       "\n",
       "    .dataframe thead th {\n",
       "        text-align: right;\n",
       "    }\n",
       "</style>\n",
       "<table border=\"1\" class=\"dataframe\">\n",
       "  <thead>\n",
       "    <tr style=\"text-align: right;\">\n",
       "      <th></th>\n",
       "      <th>uid</th>\n",
       "      <th>url</th>\n",
       "      <th>cat0</th>\n",
       "      <th>error</th>\n",
       "      <th>embed_url</th>\n",
       "      <th>embed_domain</th>\n",
       "      <th>embed_metatags</th>\n",
       "      <th>embed_text</th>\n",
       "      <th>embed_title</th>\n",
       "      <th>embed_description</th>\n",
       "      <th>embed_keywords</th>\n",
       "      <th>embed_links</th>\n",
       "    </tr>\n",
       "  </thead>\n",
       "  <tbody>\n",
       "    <tr>\n",
       "      <th>0</th>\n",
       "      <td>2082749</td>\n",
       "      <td>check-it.org</td>\n",
       "      <td>Games</td>\n",
       "      <td>uimctdkl:ooooo__o</td>\n",
       "      <td>[0.13966946303844452, -0.0007298514246940613, ...</td>\n",
       "      <td>[0.0, 1.0, 0.0, 0.0, 0.0, 0.0, 0.0, 0.0, 0.0, ...</td>\n",
       "      <td>[0.0, 0.0, 0.0, 0.0, 0.0, 0.0, 0.0, 0.0, 0.0, ...</td>\n",
       "      <td>[0.06329157948493958, 0.031256053596735, 0.134...</td>\n",
       "      <td>[0.2610689401626587, 0.22599197924137115, 0.11...</td>\n",
       "      <td>NaN</td>\n",
       "      <td>NaN</td>\n",
       "      <td>[0.11875490099191666, -0.06502202153205872, 0....</td>\n",
       "    </tr>\n",
       "    <tr>\n",
       "      <th>1</th>\n",
       "      <td>683810</td>\n",
       "      <td>exacapture.web.fc2.com</td>\n",
       "      <td>Games</td>\n",
       "      <td>uimctdkl:ooooo__o</td>\n",
       "      <td>[0.10781887918710709, -0.09011103957891464, 0....</td>\n",
       "      <td>[1.0, 0.0, 0.0, 0.0, 0.0, 0.0, 0.0, 0.0, 0.0, ...</td>\n",
       "      <td>[0.0, 1.0, 0.0, 0.0, 0.0, 0.0, 0.0, 0.0, 0.0, ...</td>\n",
       "      <td>[0.009637555107474327, -0.02530670538544655, 0...</td>\n",
       "      <td>[-0.011406837031245232, 0.078156016767025, 0.0...</td>\n",
       "      <td>NaN</td>\n",
       "      <td>NaN</td>\n",
       "      <td>[0.11652213335037231, 0.0039430647157132626, 0...</td>\n",
       "    </tr>\n",
       "    <tr>\n",
       "      <th>2</th>\n",
       "      <td>1379134</td>\n",
       "      <td>karuborn.net</td>\n",
       "      <td>Games</td>\n",
       "      <td>NaN</td>\n",
       "      <td>NaN</td>\n",
       "      <td>NaN</td>\n",
       "      <td>NaN</td>\n",
       "      <td>NaN</td>\n",
       "      <td>NaN</td>\n",
       "      <td>NaN</td>\n",
       "      <td>NaN</td>\n",
       "      <td>NaN</td>\n",
       "    </tr>\n",
       "    <tr>\n",
       "      <th>3</th>\n",
       "      <td>1588381</td>\n",
       "      <td>www.dc-station.com</td>\n",
       "      <td>Games</td>\n",
       "      <td>uimctdkl:oooooo_o</td>\n",
       "      <td>[0.10283076763153076, 0.05008787661790848, 0.2...</td>\n",
       "      <td>[1.0, 0.0, 0.0, 0.0, 0.0, 0.0, 0.0, 0.0, 0.0, ...</td>\n",
       "      <td>[0.0, 0.0, 1.0, 0.0, 0.0, 0.0, 0.0, 0.0, 0.0, ...</td>\n",
       "      <td>[0.07922540605068207, -0.010591729544103146, 0...</td>\n",
       "      <td>[0.25859445333480835, -0.03985521197319031, 0....</td>\n",
       "      <td>[-0.01235119253396988, 0.13617123663425446, 0....</td>\n",
       "      <td>NaN</td>\n",
       "      <td>[0.13486681878566742, -0.03432171419262886, 0....</td>\n",
       "    </tr>\n",
       "    <tr>\n",
       "      <th>4</th>\n",
       "      <td>2078566</td>\n",
       "      <td>adbiyo.web.fc2.com</td>\n",
       "      <td>Games</td>\n",
       "      <td>uimctdkl:ooooo__o</td>\n",
       "      <td>[0.10187240689992905, 0.14092285931110382, 0.1...</td>\n",
       "      <td>[1.0, 0.0, 0.0, 0.0, 0.0, 0.0, 0.0, 0.0, 0.0, ...</td>\n",
       "      <td>[0.0, 0.0, 0.0, 0.0, 0.0, 0.0, 0.0, 0.0, 0.0, ...</td>\n",
       "      <td>[-0.002973441733047366, 0.07457809150218964, 0...</td>\n",
       "      <td>[0.010755900293588638, 0.05997844785451889, 0....</td>\n",
       "      <td>NaN</td>\n",
       "      <td>NaN</td>\n",
       "      <td>[0.08551055938005447, 0.12402795255184174, 0.1...</td>\n",
       "    </tr>\n",
       "  </tbody>\n",
       "</table>\n",
       "</div>"
      ],
      "text/plain": [
       "       uid                     url   cat0              error  \\\n",
       "0  2082749            check-it.org  Games  uimctdkl:ooooo__o   \n",
       "1   683810  exacapture.web.fc2.com  Games  uimctdkl:ooooo__o   \n",
       "2  1379134            karuborn.net  Games                NaN   \n",
       "3  1588381      www.dc-station.com  Games  uimctdkl:oooooo_o   \n",
       "4  2078566      adbiyo.web.fc2.com  Games  uimctdkl:ooooo__o   \n",
       "\n",
       "                                           embed_url  \\\n",
       "0  [0.13966946303844452, -0.0007298514246940613, ...   \n",
       "1  [0.10781887918710709, -0.09011103957891464, 0....   \n",
       "2                                                NaN   \n",
       "3  [0.10283076763153076, 0.05008787661790848, 0.2...   \n",
       "4  [0.10187240689992905, 0.14092285931110382, 0.1...   \n",
       "\n",
       "                                        embed_domain  \\\n",
       "0  [0.0, 1.0, 0.0, 0.0, 0.0, 0.0, 0.0, 0.0, 0.0, ...   \n",
       "1  [1.0, 0.0, 0.0, 0.0, 0.0, 0.0, 0.0, 0.0, 0.0, ...   \n",
       "2                                                NaN   \n",
       "3  [1.0, 0.0, 0.0, 0.0, 0.0, 0.0, 0.0, 0.0, 0.0, ...   \n",
       "4  [1.0, 0.0, 0.0, 0.0, 0.0, 0.0, 0.0, 0.0, 0.0, ...   \n",
       "\n",
       "                                      embed_metatags  \\\n",
       "0  [0.0, 0.0, 0.0, 0.0, 0.0, 0.0, 0.0, 0.0, 0.0, ...   \n",
       "1  [0.0, 1.0, 0.0, 0.0, 0.0, 0.0, 0.0, 0.0, 0.0, ...   \n",
       "2                                                NaN   \n",
       "3  [0.0, 0.0, 1.0, 0.0, 0.0, 0.0, 0.0, 0.0, 0.0, ...   \n",
       "4  [0.0, 0.0, 0.0, 0.0, 0.0, 0.0, 0.0, 0.0, 0.0, ...   \n",
       "\n",
       "                                          embed_text  \\\n",
       "0  [0.06329157948493958, 0.031256053596735, 0.134...   \n",
       "1  [0.009637555107474327, -0.02530670538544655, 0...   \n",
       "2                                                NaN   \n",
       "3  [0.07922540605068207, -0.010591729544103146, 0...   \n",
       "4  [-0.002973441733047366, 0.07457809150218964, 0...   \n",
       "\n",
       "                                         embed_title  \\\n",
       "0  [0.2610689401626587, 0.22599197924137115, 0.11...   \n",
       "1  [-0.011406837031245232, 0.078156016767025, 0.0...   \n",
       "2                                                NaN   \n",
       "3  [0.25859445333480835, -0.03985521197319031, 0....   \n",
       "4  [0.010755900293588638, 0.05997844785451889, 0....   \n",
       "\n",
       "                                   embed_description embed_keywords  \\\n",
       "0                                                NaN            NaN   \n",
       "1                                                NaN            NaN   \n",
       "2                                                NaN            NaN   \n",
       "3  [-0.01235119253396988, 0.13617123663425446, 0....            NaN   \n",
       "4                                                NaN            NaN   \n",
       "\n",
       "                                         embed_links  \n",
       "0  [0.11875490099191666, -0.06502202153205872, 0....  \n",
       "1  [0.11652213335037231, 0.0039430647157132626, 0...  \n",
       "2                                                NaN  \n",
       "3  [0.13486681878566742, -0.03432171419262886, 0....  \n",
       "4  [0.08551055938005447, 0.12402795255184174, 0.1...  "
      ]
     },
     "execution_count": 103,
     "metadata": {},
     "output_type": "execute_result"
    }
   ],
   "source": [
    "df_jap_t.head(5)"
   ]
  },
  {
   "cell_type": "code",
   "execution_count": 104,
   "metadata": {},
   "outputs": [
    {
     "name": "stdout",
     "output_type": "stream",
     "text": [
      "There is 0.12913461538461538% of erroneus urls\n"
     ]
    }
   ],
   "source": [
    "print('There is {}% of erroneus urls'.format(df_jap_t.error.isna().sum() / df_jap_t.shape[0]))"
   ]
  },
  {
   "cell_type": "code",
   "execution_count": 105,
   "metadata": {},
   "outputs": [],
   "source": [
    "df_jap_t = df_jap_t[df_jap_t.error.notna()]"
   ]
  },
  {
   "cell_type": "code",
   "execution_count": 106,
   "metadata": {},
   "outputs": [],
   "source": [
    "df_jap_t[['uid', 'url', 'cat0']].to_csv('/dlabdata1/lugeon/dmozfinalset/dmoz_jap_clean_urls.gz', compression='gzip')"
   ]
  },
  {
   "cell_type": "code",
   "execution_count": 107,
   "metadata": {},
   "outputs": [],
   "source": [
    "df_jap_v = pd.read_csv('/dlabdata1/lugeon/dmozfinalset/dmoz_jap_visual_embeddings.gz', index_col=0)"
   ]
  },
  {
   "cell_type": "code",
   "execution_count": 108,
   "metadata": {},
   "outputs": [],
   "source": [
    "df_jap = df_jap_t.merge(df_jap_v, on='uid', how='inner')"
   ]
  },
  {
   "cell_type": "code",
   "execution_count": 109,
   "metadata": {},
   "outputs": [
    {
     "data": {
      "text/plain": [
       "cat0\n",
       "Arts          594\n",
       "Business      569\n",
       "Computers     593\n",
       "Games         501\n",
       "Health        578\n",
       "Home          537\n",
       "News          474\n",
       "Recreation    517\n",
       "Reference     516\n",
       "Science       598\n",
       "Shopping      554\n",
       "Society       563\n",
       "Sports        516\n",
       "Name: uid, dtype: int64"
      ]
     },
     "execution_count": 109,
     "metadata": {},
     "output_type": "execute_result"
    }
   ],
   "source": [
    "cat_count = df_jap.groupby('cat0').uid.count()\n",
    "cat_count"
   ]
  },
  {
   "cell_type": "code",
   "execution_count": 110,
   "metadata": {},
   "outputs": [],
   "source": [
    "for e in embeddings:\n",
    "    df_jap[e] = df_jap[e].apply(convert_string_array)\n",
    "    \n",
    "df_jap['xlmr_mean'] = df_jap.apply(xlmr_mean, axis=1)\n",
    "\n",
    "df_jap[xlmr_embeddings] = df_jap[xlmr_embeddings].apply(replace_nan)"
   ]
  },
  {
   "cell_type": "code",
   "execution_count": 356,
   "metadata": {},
   "outputs": [
    {
     "data": {
      "text/plain": [
       "(7110, 3877)"
      ]
     },
     "execution_count": 356,
     "metadata": {},
     "output_type": "execute_result"
    }
   ],
   "source": [
    "embeddings_sequence_jap = [np.concatenate(df_jap[e].to_numpy()).reshape(df_jap.shape[0], -1) for e in features]\n",
    "embeddings_concatenated_jap = np.concatenate((embeddings_sequence_jap), axis=1)\n",
    "embeddings_concatenated_jap.shape"
   ]
  },
  {
   "cell_type": "markdown",
   "metadata": {},
   "source": [
    "### Classification results"
   ]
  },
  {
   "cell_type": "code",
   "execution_count": 292,
   "metadata": {},
   "outputs": [],
   "source": [
    "categories = np.sort(df_valid.cat0.unique()).tolist()\n",
    "\n",
    "def compute_performances(n_layers, internal_dim, hingeloss, dme, japanese=False):\n",
    "    \"\"\"\n",
    "    Train the defined model in a 5-fold cross-validation fashion for each class,\n",
    "    return the test performances of each folds,\n",
    "    test either on last fold or on japanese samples\n",
    "    \"\"\"\n",
    "    \n",
    "    n_fold = 5\n",
    "\n",
    "    accuracies = np.zeros((len(categories), n_fold))\n",
    "    precisions = np.zeros((len(categories), n_fold))\n",
    "    recalls = np.zeros((len(categories), n_fold))\n",
    "    total_langs_corrects = []\n",
    "\n",
    "    first_cat = True\n",
    "\n",
    "    c = 0\n",
    "    for ref_cat in categories:\n",
    "\n",
    "        print(ref_cat)\n",
    "\n",
    "        nb_positive = (df_valid.cat0 == ref_cat).sum()\n",
    "        \n",
    "\n",
    "        # we select the same number of positive and negative samples \n",
    "        positive_idx = df_valid[df_valid.cat0 == ref_cat].index.values.tolist()\n",
    "        negative_idx = df_valid[df_valid.cat0 != ref_cat].sample(nb_positive, random_state=42).index.values.tolist()\n",
    "\n",
    "        df_cat = df_valid.iloc[positive_idx + negative_idx]\n",
    "        df_cat = df_cat.sample(frac=1, random_state=42) # shuffling the data\n",
    "\n",
    "        inputs = embeddings_concatenated[df_cat.index.values]\n",
    "        targets = df_cat.cat0.apply(lambda cat: int(cat == ref_cat)).values\n",
    "        langs = df_cat.lang.values\n",
    "\n",
    "        # transforming in torch tensors\n",
    "        inputs = torch.FloatTensor(inputs).to(device)\n",
    "        targets = torch.FloatTensor(targets).to(device)\n",
    "\n",
    "        samples_per_fold = math.ceil(df_cat.shape[0] / n_fold)\n",
    "\n",
    "        idx = np.arange(df_cat.shape[0]).tolist()\n",
    "\n",
    "        acc = []\n",
    "        prec = []\n",
    "        rec = []\n",
    "        langs_correct = []\n",
    "\n",
    "        for i in range(n_fold):\n",
    "\n",
    "            verbose = i == 0 and first_cat\n",
    "            #verbose = False\n",
    "\n",
    "            test_idx = idx[i*samples_per_fold: (i+1)*samples_per_fold]\n",
    "            train_idx = idx[:i*samples_per_fold] + idx[(i+1)*samples_per_fold:]\n",
    "            \n",
    "            if japanese:\n",
    "                \n",
    "                df_jap_cat = df_jap[df_jap.cat0 == ref_cat]\n",
    "                df_jap_ncat = df_jap[df_jap.cat0 != ref_cat]\n",
    "                pos_jap = df_jap_cat.index.values.tolist()\n",
    "                neg_jap = df_jap_ncat.sample(df_jap_cat.shape[0], random_state=42).index.values.tolist()\n",
    "                \n",
    "                test_inputs = embeddings_concatenated_jap[pos_jap + neg_jap]\n",
    "                test_targets = df_jap.cat0.apply(lambda cat: int(cat == ref_cat)).values[pos_jap + neg_jap]\n",
    "                \n",
    "                test_inputs = torch.FloatTensor(test_inputs).to(device)\n",
    "                test_targets = torch.FloatTensor(test_targets).to(device)\n",
    "                \n",
    "                test_langs = np.array((2 * len(pos_jap))*['Japanese'])\n",
    "                \n",
    "            else:\n",
    "                test_inputs = inputs[test_idx]\n",
    "                test_targets = targets[test_idx]\n",
    "                test_langs = langs[test_idx]\n",
    "\n",
    "            train_inputs = inputs[train_idx]\n",
    "            train_targets = targets[train_idx]\n",
    "\n",
    "            a, p, r, l = train_procedure(n_layers, internal_dim, hingeloss, dme,\n",
    "                                         train_inputs, train_targets, test_inputs, test_targets, test_langs, \n",
    "                                         verbose=verbose)\n",
    "\n",
    "            langs_correct += l\n",
    "\n",
    "            accuracies[c, i] = a\n",
    "            precisions[c, i] = p\n",
    "            recalls[c, i] = r\n",
    "            \n",
    "        total_langs_corrects += [langs_correct]\n",
    "\n",
    "        first_cat = False\n",
    "        \n",
    "        del inputs\n",
    "        del targets\n",
    "        \n",
    "        c += 1\n",
    "        \n",
    "    return accuracies, precisions, recalls, total_langs_corrects"
   ]
  },
  {
   "cell_type": "markdown",
   "metadata": {},
   "source": [
    "We can also do a grid-search to find the model with the best performances"
   ]
  },
  {
   "cell_type": "code",
   "execution_count": 45,
   "metadata": {
    "collapsed": true,
    "jupyter": {
     "outputs_hidden": true
    }
   },
   "outputs": [
    {
     "name": "stdout",
     "output_type": "stream",
     "text": [
      "hinge: False, layers: 1, internal dim: 300, dme: True\n",
      "Arts\n",
      "Business\n",
      "Computers\n",
      "Games\n",
      "Health\n",
      "Home\n",
      "News\n",
      "Recreation\n",
      "Reference\n",
      "Science\n",
      "Shopping\n",
      "Society\n",
      "Sports\n",
      "hinge: False, layers: 2, internal dim: 300, dme: True\n",
      "Arts\n",
      "Business\n",
      "Computers\n",
      "Games\n"
     ]
    },
    {
     "ename": "KeyboardInterrupt",
     "evalue": "",
     "output_type": "error",
     "traceback": [
      "\u001b[0;31m---------------------------------------------------------------------------\u001b[0m",
      "\u001b[0;31mKeyboardInterrupt\u001b[0m                         Traceback (most recent call last)",
      "\u001b[0;32m<ipython-input-45-135579a7ea57>\u001b[0m in \u001b[0;36m<module>\u001b[0;34m\u001b[0m\n\u001b[1;32m     20\u001b[0m                 \u001b[0mprint\u001b[0m\u001b[0;34m(\u001b[0m\u001b[0;34m'hinge: {}, layers: {}, internal dim: {}, dme: {}'\u001b[0m\u001b[0;34m.\u001b[0m\u001b[0mformat\u001b[0m\u001b[0;34m(\u001b[0m\u001b[0mhingeloss\u001b[0m\u001b[0;34m,\u001b[0m \u001b[0mn_layers\u001b[0m\u001b[0;34m,\u001b[0m \u001b[0minternal_dim\u001b[0m\u001b[0;34m,\u001b[0m \u001b[0mdme\u001b[0m\u001b[0;34m)\u001b[0m\u001b[0;34m)\u001b[0m\u001b[0;34m\u001b[0m\u001b[0;34m\u001b[0m\u001b[0m\n\u001b[1;32m     21\u001b[0m \u001b[0;34m\u001b[0m\u001b[0m\n\u001b[0;32m---> 22\u001b[0;31m                 \u001b[0mresults\u001b[0m \u001b[0;34m=\u001b[0m \u001b[0mcompute_performances\u001b[0m\u001b[0;34m(\u001b[0m\u001b[0mn_layers\u001b[0m\u001b[0;34m,\u001b[0m \u001b[0minternal_dim\u001b[0m\u001b[0;34m,\u001b[0m \u001b[0mhingeloss\u001b[0m\u001b[0;34m,\u001b[0m \u001b[0mdme\u001b[0m\u001b[0;34m)\u001b[0m\u001b[0;34m\u001b[0m\u001b[0;34m\u001b[0m\u001b[0m\n\u001b[0m\u001b[1;32m     23\u001b[0m                 \u001b[0maccuracies\u001b[0m\u001b[0;34m,\u001b[0m \u001b[0maccuracies_err\u001b[0m\u001b[0;34m,\u001b[0m \u001b[0mprecisions\u001b[0m\u001b[0;34m,\u001b[0m \u001b[0mprecisions_err\u001b[0m\u001b[0;34m,\u001b[0m \u001b[0mrecalls\u001b[0m\u001b[0;34m,\u001b[0m \u001b[0mrecalls_err\u001b[0m\u001b[0;34m,\u001b[0m \u001b[0mtotal_langs_corrects\u001b[0m \u001b[0;34m=\u001b[0m \u001b[0mresults\u001b[0m\u001b[0;34m\u001b[0m\u001b[0;34m\u001b[0m\u001b[0m\n\u001b[1;32m     24\u001b[0m                 \u001b[0mgrid_search\u001b[0m\u001b[0;34m[\u001b[0m\u001b[0md\u001b[0m\u001b[0;34m,\u001b[0m \u001b[0mhl\u001b[0m\u001b[0;34m,\u001b[0m \u001b[0mnl\u001b[0m\u001b[0;34m,\u001b[0m \u001b[0midim\u001b[0m\u001b[0;34m]\u001b[0m \u001b[0;34m=\u001b[0m \u001b[0mnp\u001b[0m\u001b[0;34m.\u001b[0m\u001b[0mmean\u001b[0m\u001b[0;34m(\u001b[0m\u001b[0maccuracies\u001b[0m\u001b[0;34m)\u001b[0m\u001b[0;34m\u001b[0m\u001b[0;34m\u001b[0m\u001b[0m\n",
      "\u001b[0;32m<ipython-input-42-6bf130d6e1b8>\u001b[0m in \u001b[0;36mcompute_performances\u001b[0;34m(n_layers, internal_dim, hingeloss, dme)\u001b[0m\n\u001b[1;32m     57\u001b[0m             \u001b[0mtrain_targets\u001b[0m \u001b[0;34m=\u001b[0m \u001b[0mtargets\u001b[0m\u001b[0;34m[\u001b[0m\u001b[0mtrain_idx\u001b[0m\u001b[0;34m]\u001b[0m\u001b[0;34m\u001b[0m\u001b[0;34m\u001b[0m\u001b[0m\n\u001b[1;32m     58\u001b[0m \u001b[0;34m\u001b[0m\u001b[0m\n\u001b[0;32m---> 59\u001b[0;31m             a, p, r, l = train_procedure(n_layers, internal_dim, hingeloss, dme,\n\u001b[0m\u001b[1;32m     60\u001b[0m                                          \u001b[0mtrain_inputs\u001b[0m\u001b[0;34m,\u001b[0m \u001b[0mtrain_targets\u001b[0m\u001b[0;34m,\u001b[0m \u001b[0mtest_inputs\u001b[0m\u001b[0;34m,\u001b[0m \u001b[0mtest_targets\u001b[0m\u001b[0;34m,\u001b[0m \u001b[0mtest_langs\u001b[0m\u001b[0;34m,\u001b[0m\u001b[0;34m\u001b[0m\u001b[0;34m\u001b[0m\u001b[0m\n\u001b[1;32m     61\u001b[0m                                          verbose=verbose)\n",
      "\u001b[0;32m<ipython-input-40-b6abef9e29a0>\u001b[0m in \u001b[0;36mtrain_procedure\u001b[0;34m(n_layers, internal_dim, hingeloss, dme, train_inputs, train_targets, test_inputs, test_targets, test_langs, verbose)\u001b[0m\n\u001b[1;32m     42\u001b[0m \u001b[0;34m\u001b[0m\u001b[0m\n\u001b[1;32m     43\u001b[0m             \u001b[0moptimizer\u001b[0m\u001b[0;34m.\u001b[0m\u001b[0mzero_grad\u001b[0m\u001b[0;34m(\u001b[0m\u001b[0;34m)\u001b[0m\u001b[0;34m\u001b[0m\u001b[0;34m\u001b[0m\u001b[0m\n\u001b[0;32m---> 44\u001b[0;31m             \u001b[0mloss\u001b[0m\u001b[0;34m.\u001b[0m\u001b[0mbackward\u001b[0m\u001b[0;34m(\u001b[0m\u001b[0;34m)\u001b[0m\u001b[0;34m\u001b[0m\u001b[0;34m\u001b[0m\u001b[0m\n\u001b[0m\u001b[1;32m     45\u001b[0m             \u001b[0moptimizer\u001b[0m\u001b[0;34m.\u001b[0m\u001b[0mstep\u001b[0m\u001b[0;34m(\u001b[0m\u001b[0;34m)\u001b[0m\u001b[0;34m\u001b[0m\u001b[0;34m\u001b[0m\u001b[0m\n\u001b[1;32m     46\u001b[0m \u001b[0;34m\u001b[0m\u001b[0m\n",
      "\u001b[0;32m/scratch/lugeon/basic-env/lib/python3.8/site-packages/torch/tensor.py\u001b[0m in \u001b[0;36mbackward\u001b[0;34m(self, gradient, retain_graph, create_graph)\u001b[0m\n\u001b[1;32m    219\u001b[0m                 \u001b[0mretain_graph\u001b[0m\u001b[0;34m=\u001b[0m\u001b[0mretain_graph\u001b[0m\u001b[0;34m,\u001b[0m\u001b[0;34m\u001b[0m\u001b[0;34m\u001b[0m\u001b[0m\n\u001b[1;32m    220\u001b[0m                 create_graph=create_graph)\n\u001b[0;32m--> 221\u001b[0;31m         \u001b[0mtorch\u001b[0m\u001b[0;34m.\u001b[0m\u001b[0mautograd\u001b[0m\u001b[0;34m.\u001b[0m\u001b[0mbackward\u001b[0m\u001b[0;34m(\u001b[0m\u001b[0mself\u001b[0m\u001b[0;34m,\u001b[0m \u001b[0mgradient\u001b[0m\u001b[0;34m,\u001b[0m \u001b[0mretain_graph\u001b[0m\u001b[0;34m,\u001b[0m \u001b[0mcreate_graph\u001b[0m\u001b[0;34m)\u001b[0m\u001b[0;34m\u001b[0m\u001b[0;34m\u001b[0m\u001b[0m\n\u001b[0m\u001b[1;32m    222\u001b[0m \u001b[0;34m\u001b[0m\u001b[0m\n\u001b[1;32m    223\u001b[0m     \u001b[0;32mdef\u001b[0m \u001b[0mregister_hook\u001b[0m\u001b[0;34m(\u001b[0m\u001b[0mself\u001b[0m\u001b[0;34m,\u001b[0m \u001b[0mhook\u001b[0m\u001b[0;34m)\u001b[0m\u001b[0;34m:\u001b[0m\u001b[0;34m\u001b[0m\u001b[0;34m\u001b[0m\u001b[0m\n",
      "\u001b[0;32m/scratch/lugeon/basic-env/lib/python3.8/site-packages/torch/autograd/__init__.py\u001b[0m in \u001b[0;36mbackward\u001b[0;34m(tensors, grad_tensors, retain_graph, create_graph, grad_variables)\u001b[0m\n\u001b[1;32m    128\u001b[0m         \u001b[0mretain_graph\u001b[0m \u001b[0;34m=\u001b[0m \u001b[0mcreate_graph\u001b[0m\u001b[0;34m\u001b[0m\u001b[0;34m\u001b[0m\u001b[0m\n\u001b[1;32m    129\u001b[0m \u001b[0;34m\u001b[0m\u001b[0m\n\u001b[0;32m--> 130\u001b[0;31m     Variable._execution_engine.run_backward(\n\u001b[0m\u001b[1;32m    131\u001b[0m         \u001b[0mtensors\u001b[0m\u001b[0;34m,\u001b[0m \u001b[0mgrad_tensors_\u001b[0m\u001b[0;34m,\u001b[0m \u001b[0mretain_graph\u001b[0m\u001b[0;34m,\u001b[0m \u001b[0mcreate_graph\u001b[0m\u001b[0;34m,\u001b[0m\u001b[0;34m\u001b[0m\u001b[0;34m\u001b[0m\u001b[0m\n\u001b[1;32m    132\u001b[0m         allow_unreachable=True)  # allow_unreachable flag\n",
      "\u001b[0;31mKeyboardInterrupt\u001b[0m: "
     ]
    }
   ],
   "source": [
    "n_layers_grid = [1, 2, 3]\n",
    "internal_dim_grid = [300]\n",
    "hingeloss_grid = [False]\n",
    "dme_grid = [True, False]\n",
    "\n",
    "grid_search = np.zeros((len(dme_grid), len(hingeloss_grid), len(n_layers_grid), len(internal_dim_grid)))\n",
    "\n",
    "d = 0\n",
    "for dme in dme_grid:\n",
    "    \n",
    "    hl = 0\n",
    "    for hingeloss in hingeloss_grid:\n",
    "\n",
    "        nl = 0\n",
    "        for n_layers in n_layers_grid:\n",
    "\n",
    "            idim = 0\n",
    "            for internal_dim in internal_dim_grid:\n",
    "\n",
    "                print('hinge: {}, layers: {}, internal dim: {}, dme: {}'.format(hingeloss, n_layers, internal_dim, dme))\n",
    "\n",
    "                results = compute_performances(n_layers, internal_dim, hingeloss, dme)\n",
    "                accuracies, accuracies_err, precisions, precisions_err, recalls, recalls_err, total_langs_corrects = results\n",
    "                grid_search[d, hl, nl, idim] = np.mean(accuracies)\n",
    "\n",
    "                idim += 1\n",
    "            nl += 1\n",
    "        hl += 1\n",
    "    d += 1\n",
    "        "
   ]
  },
  {
   "cell_type": "markdown",
   "metadata": {},
   "source": [
    "or go directly with a desired model"
   ]
  },
  {
   "cell_type": "code",
   "execution_count": 525,
   "metadata": {
    "collapsed": true,
    "jupyter": {
     "outputs_hidden": true
    }
   },
   "outputs": [
    {
     "name": "stdout",
     "output_type": "stream",
     "text": [
      "Arts\n",
      "Epoch 0\n",
      "Train loss : 0.488 | Test loss : 0.492 | Train acc : 0.801 | Test acc : 0.799\n",
      "Epoch 1\n",
      "Train loss : 0.437 | Test loss : 0.444 | Train acc : 0.815 | Test acc : 0.810\n",
      "Epoch 2\n",
      "Train loss : 0.415 | Test loss : 0.423 | Train acc : 0.821 | Test acc : 0.816\n",
      "Epoch 3\n",
      "Train loss : 0.402 | Test loss : 0.411 | Train acc : 0.826 | Test acc : 0.821\n",
      "Epoch 4\n",
      "Train loss : 0.393 | Test loss : 0.403 | Train acc : 0.830 | Test acc : 0.824\n",
      "Epoch 5\n",
      "Train loss : 0.387 | Test loss : 0.398 | Train acc : 0.832 | Test acc : 0.826\n",
      "Epoch 6\n",
      "Train loss : 0.382 | Test loss : 0.394 | Train acc : 0.835 | Test acc : 0.826\n",
      "Epoch 7\n",
      "Train loss : 0.378 | Test loss : 0.390 | Train acc : 0.837 | Test acc : 0.827\n",
      "Epoch 8\n",
      "Train loss : 0.375 | Test loss : 0.387 | Train acc : 0.838 | Test acc : 0.828\n",
      "Epoch 9\n",
      "Train loss : 0.372 | Test loss : 0.385 | Train acc : 0.840 | Test acc : 0.829\n",
      "Epoch 10\n",
      "Train loss : 0.369 | Test loss : 0.383 | Train acc : 0.841 | Test acc : 0.830\n",
      "Epoch 11\n",
      "Train loss : 0.367 | Test loss : 0.382 | Train acc : 0.843 | Test acc : 0.832\n",
      "Epoch 12\n",
      "Train loss : 0.365 | Test loss : 0.380 | Train acc : 0.844 | Test acc : 0.833\n",
      "Epoch 13\n",
      "Train loss : 0.363 | Test loss : 0.379 | Train acc : 0.845 | Test acc : 0.834\n",
      "Epoch 14\n",
      "Train loss : 0.362 | Test loss : 0.378 | Train acc : 0.845 | Test acc : 0.835\n",
      "Epoch 15\n",
      "Train loss : 0.360 | Test loss : 0.377 | Train acc : 0.846 | Test acc : 0.836\n",
      "Epoch 16\n",
      "Train loss : 0.359 | Test loss : 0.376 | Train acc : 0.847 | Test acc : 0.836\n",
      "Epoch 17\n",
      "Train loss : 0.358 | Test loss : 0.375 | Train acc : 0.847 | Test acc : 0.836\n",
      "Epoch 18\n",
      "Train loss : 0.356 | Test loss : 0.374 | Train acc : 0.848 | Test acc : 0.837\n",
      "Epoch 19\n",
      "Train loss : 0.355 | Test loss : 0.373 | Train acc : 0.849 | Test acc : 0.837\n",
      "Epoch 20\n",
      "Train loss : 0.354 | Test loss : 0.373 | Train acc : 0.850 | Test acc : 0.837\n",
      "Epoch 21\n",
      "Train loss : 0.353 | Test loss : 0.372 | Train acc : 0.850 | Test acc : 0.837\n",
      "Epoch 22\n",
      "Train loss : 0.352 | Test loss : 0.371 | Train acc : 0.851 | Test acc : 0.836\n",
      "Epoch 23\n",
      "Train loss : 0.351 | Test loss : 0.371 | Train acc : 0.852 | Test acc : 0.837\n",
      "Epoch 24\n",
      "Train loss : 0.350 | Test loss : 0.370 | Train acc : 0.852 | Test acc : 0.837\n",
      "Epoch 25\n",
      "Train loss : 0.349 | Test loss : 0.370 | Train acc : 0.853 | Test acc : 0.838\n",
      "Epoch 26\n",
      "Train loss : 0.349 | Test loss : 0.369 | Train acc : 0.853 | Test acc : 0.837\n",
      "Epoch 27\n",
      "Train loss : 0.348 | Test loss : 0.369 | Train acc : 0.853 | Test acc : 0.838\n",
      "Epoch 28\n",
      "Train loss : 0.347 | Test loss : 0.369 | Train acc : 0.854 | Test acc : 0.838\n",
      "Epoch 29\n",
      "Train loss : 0.346 | Test loss : 0.368 | Train acc : 0.855 | Test acc : 0.838\n",
      "Epoch 30\n",
      "Train loss : 0.346 | Test loss : 0.368 | Train acc : 0.855 | Test acc : 0.838\n",
      "Epoch 31\n",
      "Train loss : 0.345 | Test loss : 0.368 | Train acc : 0.855 | Test acc : 0.839\n",
      "Epoch 32\n",
      "Train loss : 0.344 | Test loss : 0.367 | Train acc : 0.856 | Test acc : 0.839\n",
      "Epoch 33\n",
      "Train loss : 0.344 | Test loss : 0.367 | Train acc : 0.856 | Test acc : 0.839\n",
      "Epoch 34\n",
      "Train loss : 0.343 | Test loss : 0.367 | Train acc : 0.856 | Test acc : 0.840\n",
      "Epoch 35\n",
      "Train loss : 0.343 | Test loss : 0.367 | Train acc : 0.857 | Test acc : 0.841\n",
      "Epoch 36\n",
      "Train loss : 0.342 | Test loss : 0.366 | Train acc : 0.857 | Test acc : 0.841\n",
      "Epoch 37\n",
      "Train loss : 0.341 | Test loss : 0.366 | Train acc : 0.857 | Test acc : 0.841\n",
      "Epoch 38\n",
      "Train loss : 0.341 | Test loss : 0.366 | Train acc : 0.857 | Test acc : 0.841\n",
      "Epoch 39\n",
      "Train loss : 0.340 | Test loss : 0.366 | Train acc : 0.857 | Test acc : 0.841\n",
      "Epoch 40\n",
      "Train loss : 0.340 | Test loss : 0.365 | Train acc : 0.858 | Test acc : 0.841\n",
      "Epoch 41\n",
      "Train loss : 0.339 | Test loss : 0.365 | Train acc : 0.858 | Test acc : 0.841\n",
      "Epoch 42\n",
      "Train loss : 0.339 | Test loss : 0.365 | Train acc : 0.858 | Test acc : 0.841\n",
      "Epoch 43\n",
      "Train loss : 0.338 | Test loss : 0.365 | Train acc : 0.858 | Test acc : 0.841\n",
      "Epoch 44\n",
      "Train loss : 0.338 | Test loss : 0.365 | Train acc : 0.858 | Test acc : 0.841\n",
      "Epoch 45\n",
      "Train loss : 0.337 | Test loss : 0.365 | Train acc : 0.859 | Test acc : 0.841\n",
      "Epoch 46\n",
      "Train loss : 0.337 | Test loss : 0.364 | Train acc : 0.859 | Test acc : 0.841\n",
      "Epoch 47\n",
      "Train loss : 0.336 | Test loss : 0.364 | Train acc : 0.859 | Test acc : 0.840\n",
      "Epoch 48\n",
      "Train loss : 0.336 | Test loss : 0.364 | Train acc : 0.859 | Test acc : 0.841\n",
      "Epoch 49\n",
      "Train loss : 0.336 | Test loss : 0.364 | Train acc : 0.859 | Test acc : 0.840\n",
      "Epoch 50\n",
      "Train loss : 0.335 | Test loss : 0.364 | Train acc : 0.859 | Test acc : 0.841\n",
      "Epoch    51: reducing learning rate of group 0 to 1.0000e-05.\n",
      "Epoch 51\n",
      "Train loss : 0.335 | Test loss : 0.364 | Train acc : 0.859 | Test acc : 0.841\n",
      "Epoch 52\n",
      "Train loss : 0.335 | Test loss : 0.364 | Train acc : 0.859 | Test acc : 0.841\n",
      "Epoch 53\n",
      "Train loss : 0.335 | Test loss : 0.364 | Train acc : 0.859 | Test acc : 0.841\n",
      "Epoch 54\n",
      "Train loss : 0.335 | Test loss : 0.364 | Train acc : 0.859 | Test acc : 0.840\n",
      "Epoch 55\n",
      "Train loss : 0.335 | Test loss : 0.364 | Train acc : 0.859 | Test acc : 0.840\n",
      "Epoch 56\n",
      "Train loss : 0.335 | Test loss : 0.364 | Train acc : 0.859 | Test acc : 0.841\n",
      "Epoch 57\n",
      "Train loss : 0.335 | Test loss : 0.364 | Train acc : 0.859 | Test acc : 0.841\n",
      "Epoch 58\n",
      "Train loss : 0.335 | Test loss : 0.364 | Train acc : 0.859 | Test acc : 0.841\n",
      "Epoch 59\n",
      "Train loss : 0.335 | Test loss : 0.364 | Train acc : 0.859 | Test acc : 0.841\n",
      "Epoch 60\n",
      "Train loss : 0.335 | Test loss : 0.364 | Train acc : 0.860 | Test acc : 0.841\n",
      "Epoch 61\n",
      "Train loss : 0.335 | Test loss : 0.364 | Train acc : 0.860 | Test acc : 0.841\n",
      "Epoch    62: reducing learning rate of group 0 to 1.0000e-06.\n",
      "Epoch 62\n",
      "Train loss : 0.335 | Test loss : 0.364 | Train acc : 0.860 | Test acc : 0.841\n",
      "Epoch 63\n",
      "Train loss : 0.335 | Test loss : 0.364 | Train acc : 0.860 | Test acc : 0.841\n",
      "Epoch 64\n",
      "Train loss : 0.335 | Test loss : 0.364 | Train acc : 0.860 | Test acc : 0.841\n",
      "Epoch 65\n",
      "Train loss : 0.335 | Test loss : 0.364 | Train acc : 0.860 | Test acc : 0.841\n",
      "Epoch 66\n",
      "Train loss : 0.335 | Test loss : 0.364 | Train acc : 0.860 | Test acc : 0.841\n",
      "Epoch 67\n",
      "Train loss : 0.335 | Test loss : 0.364 | Train acc : 0.860 | Test acc : 0.841\n",
      "Epoch 68\n",
      "Train loss : 0.335 | Test loss : 0.364 | Train acc : 0.860 | Test acc : 0.841\n",
      "Epoch 69\n",
      "Train loss : 0.335 | Test loss : 0.364 | Train acc : 0.860 | Test acc : 0.841\n",
      "Epoch 70\n",
      "Train loss : 0.335 | Test loss : 0.364 | Train acc : 0.860 | Test acc : 0.841\n",
      "Epoch 71\n",
      "Train loss : 0.335 | Test loss : 0.364 | Train acc : 0.860 | Test acc : 0.841\n",
      "Epoch 72\n",
      "Train loss : 0.335 | Test loss : 0.364 | Train acc : 0.860 | Test acc : 0.841\n",
      "Epoch    73: reducing learning rate of group 0 to 1.0000e-07.\n",
      "Epoch 73\n",
      "Train loss : 0.335 | Test loss : 0.364 | Train acc : 0.860 | Test acc : 0.841\n",
      "Epoch 74\n",
      "Train loss : 0.335 | Test loss : 0.364 | Train acc : 0.860 | Test acc : 0.841\n",
      "Epoch 75\n",
      "Train loss : 0.335 | Test loss : 0.364 | Train acc : 0.860 | Test acc : 0.841\n",
      "Epoch 76\n",
      "Train loss : 0.335 | Test loss : 0.364 | Train acc : 0.860 | Test acc : 0.841\n",
      "Epoch 77\n",
      "Train loss : 0.335 | Test loss : 0.364 | Train acc : 0.860 | Test acc : 0.841\n",
      "Epoch 78\n",
      "Train loss : 0.335 | Test loss : 0.364 | Train acc : 0.860 | Test acc : 0.841\n",
      "Epoch 79\n",
      "Train loss : 0.335 | Test loss : 0.364 | Train acc : 0.860 | Test acc : 0.841\n",
      "Epoch 80\n",
      "Train loss : 0.335 | Test loss : 0.364 | Train acc : 0.860 | Test acc : 0.841\n",
      "Epoch 81\n",
      "Train loss : 0.335 | Test loss : 0.364 | Train acc : 0.860 | Test acc : 0.841\n",
      "Epoch 82\n",
      "Train loss : 0.335 | Test loss : 0.364 | Train acc : 0.860 | Test acc : 0.841\n",
      "Epoch 83\n",
      "Train loss : 0.335 | Test loss : 0.364 | Train acc : 0.860 | Test acc : 0.841\n",
      "Epoch    84: reducing learning rate of group 0 to 1.0000e-08.\n",
      "Epoch 84\n",
      "Train loss : 0.335 | Test loss : 0.364 | Train acc : 0.860 | Test acc : 0.841\n",
      "Epoch 85\n",
      "Train loss : 0.335 | Test loss : 0.364 | Train acc : 0.860 | Test acc : 0.841\n",
      "Epoch 86\n",
      "Train loss : 0.335 | Test loss : 0.364 | Train acc : 0.860 | Test acc : 0.841\n",
      "Epoch 87\n",
      "Train loss : 0.335 | Test loss : 0.364 | Train acc : 0.860 | Test acc : 0.841\n",
      "Epoch 88\n",
      "Train loss : 0.335 | Test loss : 0.364 | Train acc : 0.860 | Test acc : 0.841\n",
      "Epoch 89\n",
      "Train loss : 0.335 | Test loss : 0.364 | Train acc : 0.860 | Test acc : 0.841\n",
      "Epoch 90\n",
      "Train loss : 0.335 | Test loss : 0.364 | Train acc : 0.860 | Test acc : 0.841\n",
      "Epoch 91\n",
      "Train loss : 0.335 | Test loss : 0.364 | Train acc : 0.860 | Test acc : 0.841\n",
      "Epoch 92\n",
      "Train loss : 0.335 | Test loss : 0.364 | Train acc : 0.860 | Test acc : 0.841\n",
      "Epoch 93\n",
      "Train loss : 0.335 | Test loss : 0.364 | Train acc : 0.860 | Test acc : 0.841\n",
      "Epoch 94\n",
      "Train loss : 0.335 | Test loss : 0.364 | Train acc : 0.860 | Test acc : 0.841\n",
      "Epoch 95\n",
      "Train loss : 0.335 | Test loss : 0.364 | Train acc : 0.860 | Test acc : 0.841\n",
      "Epoch 96\n",
      "Train loss : 0.335 | Test loss : 0.364 | Train acc : 0.860 | Test acc : 0.841\n",
      "Epoch 97\n",
      "Train loss : 0.335 | Test loss : 0.364 | Train acc : 0.860 | Test acc : 0.841\n",
      "Epoch 98\n",
      "Train loss : 0.335 | Test loss : 0.364 | Train acc : 0.860 | Test acc : 0.841\n",
      "Epoch 99\n",
      "Train loss : 0.335 | Test loss : 0.364 | Train acc : 0.860 | Test acc : 0.841\n",
      "Business\n",
      "Computers\n",
      "Games\n",
      "Health\n",
      "Home\n",
      "News\n",
      "Recreation\n",
      "Reference\n",
      "Science\n",
      "Shopping\n",
      "Society\n",
      "Sports\n"
     ]
    }
   ],
   "source": [
    "results = compute_performances(1, 300, hingeloss=False, dme=False, japanese=False)"
   ]
  },
  {
   "cell_type": "code",
   "execution_count": 526,
   "metadata": {},
   "outputs": [],
   "source": [
    "# results\n",
    "accuracies, precisions, recalls, total_langs_corrects = results"
   ]
  },
  {
   "cell_type": "markdown",
   "metadata": {},
   "source": [
    "From the languages of the correctly predicted samples, we compute and plot the distribution w.r.t to the languages"
   ]
  },
  {
   "cell_type": "code",
   "execution_count": 527,
   "metadata": {},
   "outputs": [],
   "source": [
    "def get_lang_fraction(langs):\n",
    "    count = pd.Series(langs).value_counts().loc[['English', 'Deutsch', 'Français', 'Italiano']].values\n",
    "    return count / count.sum()"
   ]
  },
  {
   "cell_type": "code",
   "execution_count": 576,
   "metadata": {},
   "outputs": [],
   "source": [
    "def get_lang_err(langs):\n",
    "    errs = np.zeros((13, 4))\n",
    "    for i in range(len(langs)):\n",
    "        splitted = np.array_split(total_langs_corrects[i], 5)\n",
    "        counts = [pd.Series(a).value_counts() for a in splitted]\n",
    "        fracs = [s / s.sum() for s in counts]\n",
    "        values = [s.loc[['English', 'Deutsch', 'Français', 'Italiano']].values for s in fracs]\n",
    "        err = np.concatenate(values).reshape((5, -1)).std(axis=0) * 2 / np.sqrt(5)\n",
    "        errs[i, :] = err\n",
    "    return errs"
   ]
  },
  {
   "cell_type": "code",
   "execution_count": 577,
   "metadata": {},
   "outputs": [],
   "source": [
    "lang_fraction = np.concatenate([get_lang_fraction(lang_correct) for lang_correct in total_langs_corrects]).reshape(13, 4)"
   ]
  },
  {
   "cell_type": "code",
   "execution_count": 578,
   "metadata": {},
   "outputs": [],
   "source": [
    "lang_errors = get_lang_err(total_langs_corrects)"
   ]
  },
  {
   "cell_type": "code",
   "execution_count": 583,
   "metadata": {},
   "outputs": [
    {
     "name": "stderr",
     "output_type": "stream",
     "text": [
      "<ipython-input-583-40889fa1771f>:19: UserWarning: FixedFormatter should only be used together with FixedLocator\n",
      "  ax.set_xticklabels([0, 0.2, 0.4, 0.6, 0.8, 1], fontsize=13)\n"
     ]
    },
    {
     "data": {
      "image/png": "[encoded data removed]",
      "text/plain": [
       "<Figure size 360x252 with 1 Axes>"
      ]
     },
     "metadata": {
      "needs_background": "light"
     },
     "output_type": "display_data"
    }
   ],
   "source": [
    "languages = ['English', 'German', 'French', 'Italien']\n",
    "labels = categories\n",
    "y = np.arange(len(labels))\n",
    "width = 0.6\n",
    "\n",
    "cmap = plt.cm.get_cmap('tab20')\n",
    "\n",
    "fig, ax = plt.subplots(figsize=(5, 3.5))\n",
    "\n",
    "for i in range(len(languages)):\n",
    "    if i == 0:\n",
    "        ax.barh(y, lang_fraction[:, i], width, xerr=lang_errors[:, i], label=languages[i], color=cmap(i))\n",
    "    else:\n",
    "        ax.barh(y, lang_fraction[:, i], width, xerr=lang_errors[:, i], label=languages[i], left=lang_fraction[:, :i].sum(axis=1), color=cmap(i))\n",
    "\n",
    "ax.set_yticks(y)\n",
    "ax.set_yticklabels(labels, fontsize=13)\n",
    "\n",
    "ax.set_xticklabels([0, 0.2, 0.4, 0.6, 0.8, 1], fontsize=13)\n",
    " \n",
    "\n",
    "ax.set_xlim([0,1.02])\n",
    "ax.set_ylim([-1 + 0.35, len(categories) - 0.35])\n",
    "\n",
    "ax.invert_yaxis()\n",
    "        \n",
    "ax.legend(fontsize=11, loc='upper right', bbox_to_anchor=(1.34, 1.03))\n",
    "        \n",
    "plt.show()"
   ]
  },
  {
   "cell_type": "markdown",
   "metadata": {},
   "source": [
    "Then we plot the accuracy, precision and recal for each category"
   ]
  },
  {
   "cell_type": "code",
   "execution_count": 336,
   "metadata": {},
   "outputs": [
    {
     "data": {
      "image/png": "[encoded data removed]",
      "text/plain": [
       "<Figure size 360x504 with 1 Axes>"
      ]
     },
     "metadata": {
      "needs_background": "light"
     },
     "output_type": "display_data"
    }
   ],
   "source": [
    "labels = categories\n",
    "\n",
    "x = np.arange(len(labels))  # the label locations\n",
    "width = 0.25  # the width of the bars\n",
    "capsize = 0\n",
    "\n",
    "cmap = plt.cm.get_cmap('tab20c')\n",
    "\n",
    "color1 = cmap(1)\n",
    "color2 = cmap(3)\n",
    "color3 = cmap(6)\n",
    "\n",
    "precisions_mean = precisions.mean(axis=1)\n",
    "precisions_err = precisions.std(axis=1) * 2 / np.sqrt(5)\n",
    "\n",
    "recalls_mean = recalls.mean(axis=1)\n",
    "recalls_err = recalls.std(axis=1) * 2 / np.sqrt(5)\n",
    "\n",
    "accuracies_mean = accuracies.mean(axis=1)\n",
    "accuracies_err = accuracies.std(axis=1) * 2 / np.sqrt(5)\n",
    "\n",
    "fig, ax = plt.subplots(figsize=(5, 7))\n",
    "rects1 = ax.barh(x - width, \n",
    "                precisions_mean, \n",
    "                width, \n",
    "                label='Precision', \n",
    "                xerr=precisions_err, \n",
    "                capsize=capsize, \n",
    "                color=color1)\n",
    "\n",
    "rects2 = ax.barh(x , \n",
    "                recalls_mean, \n",
    "                width, \n",
    "                label='Recall', \n",
    "                xerr=recalls_err, \n",
    "                capsize=capsize, \n",
    "                color=color2)\n",
    "\n",
    "rects3 = ax.barh(x + width, \n",
    "                accuracies_mean, \n",
    "                width, \n",
    "                label='Accuracy', \n",
    "                xerr=accuracies_err, \n",
    "                capsize=capsize, \n",
    "                color=color3)\n",
    "\n",
    "def autolabel(rects):\n",
    "    \"\"\"Attach a text label above each bar in *rects*, displaying its height.\"\"\"\n",
    "    for rect in rects:\n",
    "        height = rect.get_height()\n",
    "        ax.annotate('{:.2f}'.format(height),\n",
    "                    xy=(rect.get_x() + rect.get_width() / 2, height),\n",
    "                    xytext=(0, 3),  # 3 points vertical offset\n",
    "                    textcoords=\"offset points\",\n",
    "                    ha='center', va='bottom')\n",
    "\n",
    "\n",
    "#autolabel(rects1)\n",
    "#autolabel(rects2)\n",
    "\n",
    "\n",
    "ax.set_yticks(x)\n",
    "ax.set_yticklabels(labels, fontsize=13)\n",
    "\n",
    "ax.set_xticks([0, 0.2, 0.4, 0.5, 0.6, 0.7, 0.8, 0.9, 1])\n",
    "ax.set_xticklabels([0, 0.2, 0.4, 0.5, 0.6, 0.7, 0.8, 0.9, 1], fontsize=13)\n",
    "\n",
    "ax.invert_yaxis() \n",
    "\n",
    "ax.set_xlim([0,1])\n",
    "ax.set_ylim([-1 + 0.4, len(categories) - 0.4])\n",
    "\n",
    "ax.set_ylim(ax.get_ylim()[::-1])\n",
    "\n",
    "ax.tick_params(\n",
    "    axis='y',          # changes apply to the x-axis\n",
    "    which='both',      # both major and minor ticks are affected\n",
    "    left=False,      # ticks along the bottom edge are off\n",
    "    labelleft=True) # labels along the bottom edge are off\n",
    "\n",
    "ax.tick_params(\n",
    "    axis='x',          # changes apply to the x-axis\n",
    "    which='both',      # both major and minor ticks are affected\n",
    "    top=False,      # ticks along the bottom edge are off\n",
    "    labeltop=False,\n",
    "    bottom=True,\n",
    "    labelbottom=True) # labels along the bottom edge are off\n",
    "\n",
    "\n",
    "ax.legend(fontsize=11, loc='upper right', bbox_to_anchor=(1.36, 1.018))\n",
    "\n",
    "\n",
    "ax.vlines([0.5, 0.6, 0.7, 0.8, 0.9], ymin=-1, ymax=13, linestyles='dotted', colors='black', linewidths=1)\n",
    "\n",
    "#fig.tight_layout()\n",
    "\n",
    "#rcParams['font.family'] = 'sans-serif'\n",
    "#rcParams['font.sans-serif'] = ['Verdana']\n",
    "\n",
    "plt.savefig('prec_rec_acc.png', bbox_inches='tight')\n",
    "plt.show()"
   ]
  },
  {
   "cell_type": "code",
   "execution_count": 472,
   "metadata": {},
   "outputs": [
    {
     "data": {
      "text/plain": [
       "(0.8309058750790863, 0.8182006108565661, 0.8397586284161996)"
      ]
     },
     "execution_count": 472,
     "metadata": {},
     "output_type": "execute_result"
    }
   ],
   "source": [
    "np.mean(accuracies), np.mean(recalls), np.mean(precisions)"
   ]
  },
  {
   "cell_type": "markdown",
   "metadata": {},
   "source": [
    "Finally we run the classifiers with different sets of features and plot the performances for each set"
   ]
  },
  {
   "cell_type": "code",
   "execution_count": 473,
   "metadata": {},
   "outputs": [],
   "source": [
    "visual_accuracies = accuracies.mean(axis=0)\n",
    "visual_recalls = recalls.mean(axis=0)\n",
    "visual_precisions = precisions.mean(axis=0)"
   ]
  },
  {
   "cell_type": "code",
   "execution_count": 466,
   "metadata": {},
   "outputs": [],
   "source": [
    "text_accuracies = accuracies.mean(axis=0)\n",
    "text_recalls = recalls.mean(axis=0)\n",
    "text_precisions = precisions.mean(axis=0)"
   ]
  },
  {
   "cell_type": "code",
   "execution_count": 447,
   "metadata": {},
   "outputs": [],
   "source": [
    "meta_accuracies = accuracies.mean(axis=0)\n",
    "meta_recalls = recalls.mean(axis=0)\n",
    "meta_precisions = precisions.mean(axis=0)"
   ]
  },
  {
   "cell_type": "code",
   "execution_count": 439,
   "metadata": {},
   "outputs": [],
   "source": [
    "url_accuracies = accuracies.mean(axis=0)\n",
    "url_recalls = recalls.mean(axis=0)\n",
    "url_precisions = precisions.mean(axis=0)"
   ]
  },
  {
   "cell_type": "code",
   "execution_count": 475,
   "metadata": {},
   "outputs": [],
   "source": [
    "acc = [url_accuracies, meta_accuracies, text_accuracies, visual_accuracies]\n",
    "prec = [url_precisions, meta_precisions, text_precisions, visual_precisions]\n",
    "rec = [url_recalls, meta_recalls, text_recalls, visual_recalls]"
   ]
  },
  {
   "cell_type": "code",
   "execution_count": 516,
   "metadata": {},
   "outputs": [],
   "source": [
    "points_acc = [x.mean() for x in acc]\n",
    "points_prec = [x.mean() for x in prec]\n",
    "points_rec = [x.mean() for x in rec]\n",
    "\n",
    "err_acc = [x.std() * 2 / np.sqrt(5) for x in acc]\n",
    "err_prec = [x.std() * 2 / np.sqrt(5) for x in prec]\n",
    "err_rec = [x.std() * 2 / np.sqrt(5) for x in rec]"
   ]
  },
  {
   "cell_type": "code",
   "execution_count": 520,
   "metadata": {},
   "outputs": [
    {
     "data": {
      "image/png": "[encoded data removed]",
      "text/plain": [
       "<Figure size 360x288 with 1 Axes>"
      ]
     },
     "metadata": {
      "needs_background": "light"
     },
     "output_type": "display_data"
    }
   ],
   "source": [
    "labels = ['Offline', 'Meta', 'Text', 'Visual']\n",
    "\n",
    "x = np.arange(len(labels))\n",
    "\n",
    "cmap = plt.cm.get_cmap('tab20c')\n",
    "\n",
    "color1 = cmap(0)\n",
    "color2 = cmap(2)\n",
    "color3 = cmap(4)\n",
    "\n",
    "fig, ax = plt.subplots(figsize=(5, 4))\n",
    "\n",
    "ax.errorbar(x, points_prec, yerr=err_prec, fmt=',--', ecolor='black', color=color1, elinewidth=2, barsabove=True, label='Precision')\n",
    "ax.errorbar(x, points_acc, yerr=err_acc, fmt=',--', ecolor='black', color=color3, elinewidth=2, barsabove=True, label='Accuracy')\n",
    "ax.errorbar(x, points_rec, yerr=err_rec, fmt=',--', ecolor='black', color=color2, elinewidth=2, barsabove=True, label='Recall')\n",
    "\n",
    "\n",
    "\n",
    "\n",
    "ax.set_xticks([0, 1, 2, 3])\n",
    "ax.set_xticklabels(labels, fontsize=13)\n",
    "\n",
    "ax.set_yticks([0.6, 0.7, 0.8, 0.9])\n",
    "ax.set_yticklabels([0.6, 0.7, 0.8, 0.9], fontsize=13)\n",
    "\n",
    "#ax.set_xlabel('Complexity', fontsize=14)\n",
    "#ax.set_ylabel('Average score', fontsize=14)\n",
    "\n",
    "ax.legend(fontsize=12)\n",
    "\n",
    "plt.show()"
   ]
  },
  {
   "cell_type": "code",
   "execution_count": null,
   "metadata": {},
   "outputs": [],
   "source": []
  }
 ],
 "metadata": {
  "kernelspec": {
   "display_name": "Python 3",
   "language": "python",
   "name": "python3"
  },
  "language_info": {
   "codemirror_mode": {
    "name": "ipython",
    "version": 3
   },
   "file_extension": ".py",
   "mimetype": "text/x-python",
   "name": "python",
   "nbconvert_exporter": "python",
   "pygments_lexer": "ipython3",
   "version": "3.8.5"
  }
 },
 "nbformat": 4,
 "nbformat_minor": 4
}
