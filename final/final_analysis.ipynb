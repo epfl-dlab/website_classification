{
 "cells": [
  {
   "cell_type": "code",
   "execution_count": 2,
   "metadata": {},
   "outputs": [
    {
     "ename": "ModuleNotFoundError",
     "evalue": "No module named 'umap'",
     "output_type": "error",
     "traceback": [
      "\u001b[0;31m---------------------------------------------------------------------------\u001b[0m",
      "\u001b[0;31mModuleNotFoundError\u001b[0m                       Traceback (most recent call last)",
      "\u001b[0;32m<ipython-input-2-35d3e6e4e71a>\u001b[0m in \u001b[0;36m<module>\u001b[0;34m\u001b[0m\n\u001b[1;32m      1\u001b[0m \u001b[0;32mimport\u001b[0m \u001b[0mnumpy\u001b[0m \u001b[0;32mas\u001b[0m \u001b[0mnp\u001b[0m\u001b[0;34m\u001b[0m\u001b[0;34m\u001b[0m\u001b[0m\n\u001b[1;32m      2\u001b[0m \u001b[0;32mimport\u001b[0m \u001b[0mpandas\u001b[0m \u001b[0;32mas\u001b[0m \u001b[0mpd\u001b[0m\u001b[0;34m\u001b[0m\u001b[0;34m\u001b[0m\u001b[0m\n\u001b[0;32m----> 3\u001b[0;31m \u001b[0;32mimport\u001b[0m \u001b[0mumap\u001b[0m\u001b[0;34m\u001b[0m\u001b[0;34m\u001b[0m\u001b[0m\n\u001b[0m\u001b[1;32m      4\u001b[0m \u001b[0;32mimport\u001b[0m \u001b[0mast\u001b[0m\u001b[0;34m\u001b[0m\u001b[0;34m\u001b[0m\u001b[0m\n\u001b[1;32m      5\u001b[0m \u001b[0;32mimport\u001b[0m \u001b[0mre\u001b[0m\u001b[0;34m\u001b[0m\u001b[0;34m\u001b[0m\u001b[0m\n",
      "\u001b[0;31mModuleNotFoundError\u001b[0m: No module named 'umap'"
     ]
    }
   ],
   "source": [
    "import numpy as np\n",
    "import pandas as pd \n",
    "import umap\n",
    "import ast\n",
    "import re\n",
    "\n",
    "import matplotlib.pyplot as plt\n",
    "\n",
    "from sklearn.manifold import TSNE\n",
    "from sklearn.decomposition import PCA"
   ]
  },
  {
   "cell_type": "code",
   "execution_count": 333,
   "metadata": {},
   "outputs": [],
   "source": [
    "def convert_string_array(s):\n",
    "    if type(s) == str:\n",
    "        return np.array(ast.literal_eval(s))\n",
    "    else:\n",
    "        return s"
   ]
  },
  {
   "cell_type": "code",
   "execution_count": 1,
   "metadata": {},
   "outputs": [
    {
     "ename": "NameError",
     "evalue": "name 'pd' is not defined",
     "output_type": "error",
     "traceback": [
      "\u001b[0;31m---------------------------------------------------------------------------\u001b[0m",
      "\u001b[0;31mNameError\u001b[0m                                 Traceback (most recent call last)",
      "\u001b[0;32m<ipython-input-1-3bbdce50fc5a>\u001b[0m in \u001b[0;36m<module>\u001b[0;34m\u001b[0m\n\u001b[0;32m----> 1\u001b[0;31m \u001b[0mdf_t\u001b[0m \u001b[0;34m=\u001b[0m \u001b[0mpd\u001b[0m\u001b[0;34m.\u001b[0m\u001b[0mread_csv\u001b[0m\u001b[0;34m(\u001b[0m\u001b[0;34m'/dlabdata1/lugeon/dmozfinalset/dmoz_en_full_train_finalemb.gz'\u001b[0m\u001b[0;34m,\u001b[0m \u001b[0mindex_col\u001b[0m\u001b[0;34m=\u001b[0m\u001b[0;36m0\u001b[0m\u001b[0;34m)\u001b[0m\u001b[0;34m\u001b[0m\u001b[0;34m\u001b[0m\u001b[0m\n\u001b[0m\u001b[1;32m      2\u001b[0m \u001b[0mdf_t\u001b[0m\u001b[0;34m.\u001b[0m\u001b[0mhead\u001b[0m\u001b[0;34m(\u001b[0m\u001b[0;36m5\u001b[0m\u001b[0;34m)\u001b[0m\u001b[0;34m\u001b[0m\u001b[0;34m\u001b[0m\u001b[0m\n",
      "\u001b[0;31mNameError\u001b[0m: name 'pd' is not defined"
     ]
    }
   ],
   "source": [
    "df_t = pd.read_csv('/dlabdata1/lugeon/dmozfinalset/dmoz_en_full_train_finalemb.gz', index_col=0)\n",
    "df_t.head(5)"
   ]
  },
  {
   "cell_type": "code",
   "execution_count": 346,
   "metadata": {},
   "outputs": [],
   "source": [
    "df_t = df_t[df_t.error.notna()]\n",
    "df_t.reset_index(drop=True, inplace=True)"
   ]
  },
  {
   "cell_type": "code",
   "execution_count": 347,
   "metadata": {},
   "outputs": [
    {
     "data": {
      "text/plain": [
       "(839, 12)"
      ]
     },
     "execution_count": 347,
     "metadata": {},
     "output_type": "execute_result"
    }
   ],
   "source": [
    "df_t.shape"
   ]
  },
  {
   "cell_type": "code",
   "execution_count": 348,
   "metadata": {},
   "outputs": [],
   "source": [
    "df_t[['uid', 'url', 'cat0']].to_csv('/dlabdata1/lugeon/dmozfinalset/dmoz_lang_final_clean_urls.gz', compression='gzip')"
   ]
  },
  {
   "cell_type": "markdown",
   "metadata": {},
   "source": [
    "... Computing visual embeddings ..."
   ]
  },
  {
   "cell_type": "code",
   "execution_count": 349,
   "metadata": {},
   "outputs": [
    {
     "data": {
      "text/html": [
       "<div>\n",
       "<style scoped>\n",
       "    .dataframe tbody tr th:only-of-type {\n",
       "        vertical-align: middle;\n",
       "    }\n",
       "\n",
       "    .dataframe tbody tr th {\n",
       "        vertical-align: top;\n",
       "    }\n",
       "\n",
       "    .dataframe thead th {\n",
       "        text-align: right;\n",
       "    }\n",
       "</style>\n",
       "<table border=\"1\" class=\"dataframe\">\n",
       "  <thead>\n",
       "    <tr style=\"text-align: right;\">\n",
       "      <th></th>\n",
       "      <th>uid</th>\n",
       "      <th>embed_graph</th>\n",
       "    </tr>\n",
       "  </thead>\n",
       "  <tbody>\n",
       "    <tr>\n",
       "      <th>0</th>\n",
       "      <td>1000753</td>\n",
       "      <td>[0.8285545706748962, 0.204240083694458, 0.5238...</td>\n",
       "    </tr>\n",
       "    <tr>\n",
       "      <th>1</th>\n",
       "      <td>1037990</td>\n",
       "      <td>[0.1015053540468216, 1.2699116468429565, 0.580...</td>\n",
       "    </tr>\n",
       "    <tr>\n",
       "      <th>2</th>\n",
       "      <td>1061845</td>\n",
       "      <td>[0.902267575263977, 0.5432012677192688, 0.3332...</td>\n",
       "    </tr>\n",
       "    <tr>\n",
       "      <th>3</th>\n",
       "      <td>1072071</td>\n",
       "      <td>[1.0590864419937134, 1.7227996587753296, 1.381...</td>\n",
       "    </tr>\n",
       "    <tr>\n",
       "      <th>4</th>\n",
       "      <td>1073520</td>\n",
       "      <td>[0.5807888507843018, 0.42421793937683105, 0.87...</td>\n",
       "    </tr>\n",
       "  </tbody>\n",
       "</table>\n",
       "</div>"
      ],
      "text/plain": [
       "       uid                                        embed_graph\n",
       "0  1000753  [0.8285545706748962, 0.204240083694458, 0.5238...\n",
       "1  1037990  [0.1015053540468216, 1.2699116468429565, 0.580...\n",
       "2  1061845  [0.902267575263977, 0.5432012677192688, 0.3332...\n",
       "3  1072071  [1.0590864419937134, 1.7227996587753296, 1.381...\n",
       "4  1073520  [0.5807888507843018, 0.42421793937683105, 0.87..."
      ]
     },
     "execution_count": 349,
     "metadata": {},
     "output_type": "execute_result"
    }
   ],
   "source": [
    "df_v = pd.read_csv('/dlabdata1/lugeon/dmozfinalset/dmoz_lang_final_visual_embeddings.gz', index_col=0)\n",
    "df_v.head(5)"
   ]
  },
  {
   "cell_type": "code",
   "execution_count": 353,
   "metadata": {},
   "outputs": [
    {
     "data": {
      "text/plain": [
       "(839, 12)"
      ]
     },
     "execution_count": 353,
     "metadata": {},
     "output_type": "execute_result"
    }
   ],
   "source": [
    "df_t.shape"
   ]
  },
  {
   "cell_type": "code",
   "execution_count": 350,
   "metadata": {},
   "outputs": [],
   "source": [
    "df = df_t.merge(df_v, on='uid')"
   ]
  },
  {
   "cell_type": "code",
   "execution_count": 355,
   "metadata": {},
   "outputs": [
    {
     "data": {
      "text/plain": [
       "(807, 13)"
      ]
     },
     "execution_count": 355,
     "metadata": {},
     "output_type": "execute_result"
    }
   ],
   "source": [
    "df.shape"
   ]
  },
  {
   "cell_type": "code",
   "execution_count": 356,
   "metadata": {},
   "outputs": [
    {
     "data": {
      "text/html": [
       "<div>\n",
       "<style scoped>\n",
       "    .dataframe tbody tr th:only-of-type {\n",
       "        vertical-align: middle;\n",
       "    }\n",
       "\n",
       "    .dataframe tbody tr th {\n",
       "        vertical-align: top;\n",
       "    }\n",
       "\n",
       "    .dataframe thead th {\n",
       "        text-align: right;\n",
       "    }\n",
       "</style>\n",
       "<table border=\"1\" class=\"dataframe\">\n",
       "  <thead>\n",
       "    <tr style=\"text-align: right;\">\n",
       "      <th></th>\n",
       "      <th>uid</th>\n",
       "      <th>url</th>\n",
       "      <th>cat0</th>\n",
       "      <th>error</th>\n",
       "      <th>embed_url</th>\n",
       "      <th>embed_domain</th>\n",
       "      <th>embed_metatags</th>\n",
       "      <th>embed_text</th>\n",
       "      <th>embed_title</th>\n",
       "      <th>embed_description</th>\n",
       "      <th>embed_keywords</th>\n",
       "      <th>embed_links</th>\n",
       "      <th>embed_graph</th>\n",
       "    </tr>\n",
       "  </thead>\n",
       "  <tbody>\n",
       "    <tr>\n",
       "      <th>0</th>\n",
       "      <td>1674552</td>\n",
       "      <td>www.alain-zenthner.com</td>\n",
       "      <td>Arts</td>\n",
       "      <td>uimctdkl:ooooo___</td>\n",
       "      <td>[0.02712850086390972, 0.17805646359920502, 0.1...</td>\n",
       "      <td>[1.0, 0.0, 0.0, 0.0, 0.0, 0.0, 0.0, 0.0, 0.0, ...</td>\n",
       "      <td>[0.0, 0.0, 1.0, 0.0, 0.0, 1.0, 1.0, 0.0, 0.0, ...</td>\n",
       "      <td>[0.04973355680704117, 0.03871486708521843, 0.1...</td>\n",
       "      <td>[0.02431866154074669, 0.03919200971722603, 0.1...</td>\n",
       "      <td>NaN</td>\n",
       "      <td>NaN</td>\n",
       "      <td>NaN</td>\n",
       "      <td>[0.2583775222301483, 0.6421558260917664, 1.406...</td>\n",
       "    </tr>\n",
       "  </tbody>\n",
       "</table>\n",
       "</div>"
      ],
      "text/plain": [
       "       uid                     url  cat0              error  \\\n",
       "0  1674552  www.alain-zenthner.com  Arts  uimctdkl:ooooo___   \n",
       "\n",
       "                                           embed_url  \\\n",
       "0  [0.02712850086390972, 0.17805646359920502, 0.1...   \n",
       "\n",
       "                                        embed_domain  \\\n",
       "0  [1.0, 0.0, 0.0, 0.0, 0.0, 0.0, 0.0, 0.0, 0.0, ...   \n",
       "\n",
       "                                      embed_metatags  \\\n",
       "0  [0.0, 0.0, 1.0, 0.0, 0.0, 1.0, 1.0, 0.0, 0.0, ...   \n",
       "\n",
       "                                          embed_text  \\\n",
       "0  [0.04973355680704117, 0.03871486708521843, 0.1...   \n",
       "\n",
       "                                         embed_title embed_description  \\\n",
       "0  [0.02431866154074669, 0.03919200971722603, 0.1...               NaN   \n",
       "\n",
       "  embed_keywords embed_links  \\\n",
       "0            NaN         NaN   \n",
       "\n",
       "                                         embed_graph  \n",
       "0  [0.2583775222301483, 0.6421558260917664, 1.406...  "
      ]
     },
     "execution_count": 356,
     "metadata": {},
     "output_type": "execute_result"
    }
   ],
   "source": [
    "df.head(1)"
   ]
  },
  {
   "cell_type": "code",
   "execution_count": 357,
   "metadata": {},
   "outputs": [
    {
     "data": {
      "text/plain": [
       "['embed_url',\n",
       " 'embed_domain',\n",
       " 'embed_metatags',\n",
       " 'embed_text',\n",
       " 'embed_title',\n",
       " 'embed_description',\n",
       " 'embed_keywords',\n",
       " 'embed_links',\n",
       " 'embed_graph']"
      ]
     },
     "execution_count": 357,
     "metadata": {},
     "output_type": "execute_result"
    }
   ],
   "source": [
    "embeddings = [s for s in df.columns.values if s.startswith('embed')]\n",
    "embeddings"
   ]
  },
  {
   "cell_type": "code",
   "execution_count": 358,
   "metadata": {},
   "outputs": [],
   "source": [
    "for e in embeddings:\n",
    "    df[e] = df[e].apply(convert_string_array)"
   ]
  },
  {
   "cell_type": "code",
   "execution_count": 359,
   "metadata": {},
   "outputs": [
    {
     "data": {
      "text/plain": [
       "uimctdkl:oooooo_o    236\n",
       "uimctdkl:ooooo__o    221\n",
       "uimctdkl:oooooooo    202\n",
       "uimctdkl:ooooo___     52\n",
       "uimctdkl:ooooooo_     34\n",
       "uimctdkl:oooooo__     15\n",
       "uimctdkl:ooooo_oo     15\n",
       "uimctdkl:ooo_____     13\n",
       "uimctdkl:ooo_o___      5\n",
       "uimctdkl:ooooo_o_      5\n",
       "uimctdkl:oooo____      4\n",
       "uimctdkl:oooo_ooo      2\n",
       "uimctdkl:oooo_o_o      2\n",
       "uimctdkl:oooo___o      1\n",
       "Name: error, dtype: int64"
      ]
     },
     "execution_count": 359,
     "metadata": {},
     "output_type": "execute_result"
    }
   ],
   "source": [
    "df.error.value_counts()"
   ]
  },
  {
   "cell_type": "code",
   "execution_count": 360,
   "metadata": {},
   "outputs": [],
   "source": [
    "xlmr_embeddings = ['embed_url', 'embed_text', 'embed_title', 'embed_description', 'embed_keywords', 'embed_links']"
   ]
  },
  {
   "cell_type": "code",
   "execution_count": 361,
   "metadata": {},
   "outputs": [],
   "source": [
    "def xlmr_mean(row):\n",
    "    mean = np.zeros(768)\n",
    "    counter = 0\n",
    "    for e in xlmr_embeddings:\n",
    "        if type(row[e]) == np.ndarray:\n",
    "            counter += 1\n",
    "            mean += row[e]\n",
    "    return mean / counter"
   ]
  },
  {
   "cell_type": "code",
   "execution_count": 363,
   "metadata": {},
   "outputs": [],
   "source": [
    "df['xlmr_mean'] = df.apply(xlmr_mean, axis=1)"
   ]
  },
  {
   "cell_type": "code",
   "execution_count": 365,
   "metadata": {},
   "outputs": [],
   "source": [
    "def remove_nan(val):\n",
    "    if type(val) == np.ndarray:\n",
    "        return val\n",
    "    else:\n",
    "        return np.zeros(768)\n",
    "    "
   ]
  },
  {
   "cell_type": "code",
   "execution_count": 366,
   "metadata": {},
   "outputs": [],
   "source": [
    "def replace_nan(column):\n",
    "    is_nan = column.apply(lambda row: int(type(row) != np.ndarray))\n",
    "    nan_removes = column.apply(remove_nan) \n",
    "    return df.xlmr_mean * is_nan + nan_removes * (1 - is_nan)"
   ]
  },
  {
   "cell_type": "code",
   "execution_count": 367,
   "metadata": {},
   "outputs": [],
   "source": [
    "df[xlmr_embeddings] = df[xlmr_embeddings].apply(replace_nan)"
   ]
  },
  {
   "cell_type": "code",
   "execution_count": 368,
   "metadata": {},
   "outputs": [
    {
     "data": {
      "text/plain": [
       "uid                  0\n",
       "url                  0\n",
       "cat0                 0\n",
       "error                0\n",
       "embed_url            0\n",
       "embed_domain         0\n",
       "embed_metatags       0\n",
       "embed_text           0\n",
       "embed_title          0\n",
       "embed_description    0\n",
       "embed_keywords       0\n",
       "embed_links          0\n",
       "embed_graph          0\n",
       "xlmr_mean            0\n",
       "dtype: int64"
      ]
     },
     "execution_count": 368,
     "metadata": {},
     "output_type": "execute_result"
    }
   ],
   "source": [
    "df.isna().sum()"
   ]
  },
  {
   "cell_type": "code",
   "execution_count": 369,
   "metadata": {},
   "outputs": [
    {
     "data": {
      "text/html": [
       "<div>\n",
       "<style scoped>\n",
       "    .dataframe tbody tr th:only-of-type {\n",
       "        vertical-align: middle;\n",
       "    }\n",
       "\n",
       "    .dataframe tbody tr th {\n",
       "        vertical-align: top;\n",
       "    }\n",
       "\n",
       "    .dataframe thead th {\n",
       "        text-align: right;\n",
       "    }\n",
       "</style>\n",
       "<table border=\"1\" class=\"dataframe\">\n",
       "  <thead>\n",
       "    <tr style=\"text-align: right;\">\n",
       "      <th></th>\n",
       "      <th>uid</th>\n",
       "      <th>url</th>\n",
       "      <th>cat0</th>\n",
       "      <th>error</th>\n",
       "      <th>embed_url</th>\n",
       "      <th>embed_domain</th>\n",
       "      <th>embed_metatags</th>\n",
       "      <th>embed_text</th>\n",
       "      <th>embed_title</th>\n",
       "      <th>embed_description</th>\n",
       "      <th>embed_keywords</th>\n",
       "      <th>embed_links</th>\n",
       "      <th>embed_graph</th>\n",
       "      <th>xlmr_mean</th>\n",
       "    </tr>\n",
       "  </thead>\n",
       "  <tbody>\n",
       "    <tr>\n",
       "      <th>0</th>\n",
       "      <td>1674552</td>\n",
       "      <td>www.alain-zenthner.com</td>\n",
       "      <td>Arts</td>\n",
       "      <td>uimctdkl:ooooo___</td>\n",
       "      <td>[0.02712850086390972, 0.17805646359920502, 0.1...</td>\n",
       "      <td>[1.0, 0.0, 0.0, 0.0, 0.0, 0.0, 0.0, 0.0, 0.0, ...</td>\n",
       "      <td>[0.0, 0.0, 1.0, 0.0, 0.0, 1.0, 1.0, 0.0, 0.0, ...</td>\n",
       "      <td>[0.04973355680704117, 0.03871486708521843, 0.1...</td>\n",
       "      <td>[0.02431866154074669, 0.03919200971722603, 0.1...</td>\n",
       "      <td>[0.03372690640389919, 0.08532111346721649, 0.1...</td>\n",
       "      <td>[0.03372690640389919, 0.08532111346721649, 0.1...</td>\n",
       "      <td>[0.03372690640389919, 0.08532111346721649, 0.1...</td>\n",
       "      <td>[0.2583775222301483, 0.6421558260917664, 1.406...</td>\n",
       "      <td>[0.03372690640389919, 0.08532111346721649, 0.1...</td>\n",
       "    </tr>\n",
       "  </tbody>\n",
       "</table>\n",
       "</div>"
      ],
      "text/plain": [
       "       uid                     url  cat0              error  \\\n",
       "0  1674552  www.alain-zenthner.com  Arts  uimctdkl:ooooo___   \n",
       "\n",
       "                                           embed_url  \\\n",
       "0  [0.02712850086390972, 0.17805646359920502, 0.1...   \n",
       "\n",
       "                                        embed_domain  \\\n",
       "0  [1.0, 0.0, 0.0, 0.0, 0.0, 0.0, 0.0, 0.0, 0.0, ...   \n",
       "\n",
       "                                      embed_metatags  \\\n",
       "0  [0.0, 0.0, 1.0, 0.0, 0.0, 1.0, 1.0, 0.0, 0.0, ...   \n",
       "\n",
       "                                          embed_text  \\\n",
       "0  [0.04973355680704117, 0.03871486708521843, 0.1...   \n",
       "\n",
       "                                         embed_title  \\\n",
       "0  [0.02431866154074669, 0.03919200971722603, 0.1...   \n",
       "\n",
       "                                   embed_description  \\\n",
       "0  [0.03372690640389919, 0.08532111346721649, 0.1...   \n",
       "\n",
       "                                      embed_keywords  \\\n",
       "0  [0.03372690640389919, 0.08532111346721649, 0.1...   \n",
       "\n",
       "                                         embed_links  \\\n",
       "0  [0.03372690640389919, 0.08532111346721649, 0.1...   \n",
       "\n",
       "                                         embed_graph  \\\n",
       "0  [0.2583775222301483, 0.6421558260917664, 1.406...   \n",
       "\n",
       "                                           xlmr_mean  \n",
       "0  [0.03372690640389919, 0.08532111346721649, 0.1...  "
      ]
     },
     "execution_count": 369,
     "metadata": {},
     "output_type": "execute_result"
    }
   ],
   "source": [
    "df.head(1)"
   ]
  },
  {
   "cell_type": "code",
   "execution_count": 312,
   "metadata": {},
   "outputs": [],
   "source": [
    "def concat_embeddings(row):\n",
    "    emb = np.array([])\n",
    "    for e in embeddings:\n",
    "        emb = np.concatenate((emb, row[e]))\n",
    "        \n",
    "    return emb"
   ]
  },
  {
   "cell_type": "code",
   "execution_count": 370,
   "metadata": {},
   "outputs": [],
   "source": [
    "df['embedding'] = df.apply(concat_embeddings, axis=1)"
   ]
  },
  {
   "cell_type": "code",
   "execution_count": 371,
   "metadata": {},
   "outputs": [],
   "source": [
    "embs = np.column_stack(df.embedding.values)\n",
    "embs = embs.transpose()"
   ]
  },
  {
   "cell_type": "code",
   "execution_count": 372,
   "metadata": {},
   "outputs": [
    {
     "data": {
      "text/plain": [
       "6.431870937347412"
      ]
     },
     "execution_count": 372,
     "metadata": {},
     "output_type": "execute_result"
    }
   ],
   "source": [
    "max(embs.flatten())"
   ]
  },
  {
   "cell_type": "code",
   "execution_count": 373,
   "metadata": {},
   "outputs": [
    {
     "data": {
      "text/plain": [
       "-1.4118852615356445"
      ]
     },
     "execution_count": 373,
     "metadata": {},
     "output_type": "execute_result"
    }
   ],
   "source": [
    "min(embs.flatten())"
   ]
  },
  {
   "cell_type": "code",
   "execution_count": 374,
   "metadata": {},
   "outputs": [
    {
     "data": {
      "image/png": "[encoded data removed]",
      "text/plain": [
       "<Figure size 432x288 with 1 Axes>"
      ]
     },
     "metadata": {
      "needs_background": "light"
     },
     "output_type": "display_data"
    }
   ],
   "source": [
    "plt.hist(embs.flatten(), bins=100);"
   ]
  },
  {
   "cell_type": "code",
   "execution_count": 375,
   "metadata": {},
   "outputs": [],
   "source": [
    "pca = PCA(n_components=688)\n",
    "embs = pca.fit_transform(embs)"
   ]
  },
  {
   "cell_type": "code",
   "execution_count": 376,
   "metadata": {},
   "outputs": [],
   "source": [
    "_umap = umap.UMAP(n_components=2)\n",
    "_tsne = TSNE(n_components=2)"
   ]
  },
  {
   "cell_type": "code",
   "execution_count": 377,
   "metadata": {},
   "outputs": [
    {
     "data": {
      "text/plain": [
       "(807, 688)"
      ]
     },
     "execution_count": 377,
     "metadata": {},
     "output_type": "execute_result"
    }
   ],
   "source": [
    "embs.shape"
   ]
  },
  {
   "cell_type": "code",
   "execution_count": 378,
   "metadata": {},
   "outputs": [],
   "source": [
    "x = _tsne.fit_transform(embs)"
   ]
  },
  {
   "cell_type": "code",
   "execution_count": 379,
   "metadata": {},
   "outputs": [
    {
     "data": {
      "text/plain": [
       "array([[ -9.661812 ,   1.2945883],\n",
       "       [  6.891525 ,  -6.9893646],\n",
       "       [ -9.09895  ,  -7.107668 ],\n",
       "       ...,\n",
       "       [ 10.296582 , -11.222055 ],\n",
       "       [  5.735669 , -11.024166 ],\n",
       "       [ -1.6827891,  -3.8500466]], dtype=float32)"
      ]
     },
     "execution_count": 379,
     "metadata": {},
     "output_type": "execute_result"
    }
   ],
   "source": [
    "x"
   ]
  },
  {
   "cell_type": "code",
   "execution_count": 380,
   "metadata": {},
   "outputs": [
    {
     "data": {
      "image/png": "[encoded data removed]",
      "text/plain": [
       "<Figure size 1152x720 with 1 Axes>"
      ]
     },
     "metadata": {
      "needs_background": "light"
     },
     "output_type": "display_data"
    }
   ],
   "source": [
    "categories = np.sort(df.cat0.unique())\n",
    "\n",
    "colormap = plt.get_cmap('tab20')\n",
    "\n",
    "opacity = 1\n",
    "marker_size = 20\n",
    "marker = 'o'\n",
    "\n",
    "fig, ax = plt.subplots(figsize=(16, 10))\n",
    "\n",
    "n = 0\n",
    "ncat = len(categories)\n",
    "\n",
    "for cat in categories:\n",
    "    ix = df[df.cat0 == cat].index\n",
    "    x_val = x[ix][:,0]\n",
    "    y_val = x[ix][:,1]\n",
    "    plt.scatter(x_val, y_val, color=colormap(n), marker=marker, s=marker_size, alpha=opacity, label=cat)\n",
    "    \n",
    "    n += 1\n",
    "\n",
    "#ax.set_xlim([5,15])\n",
    "#ax.set_ylim([-5,10])\n",
    "\n",
    "#ax.set_xticks([], [])\n",
    "#ax.set_yticks([], [])\n",
    "    \n",
    "#plt.title('t-SNE decomposition of description content in meta tags')\n",
    "plt.legend(markerscale=2, fontsize=10)\n",
    "plt.plot();"
   ]
  },
  {
   "cell_type": "code",
   "execution_count": null,
   "metadata": {},
   "outputs": [],
   "source": []
  }
 ],
 "metadata": {
  "kernelspec": {
   "display_name": "Python 3",
   "language": "python",
   "name": "python3"
  },
  "language_info": {
   "codemirror_mode": {
    "name": "ipython",
    "version": 3
   },
   "file_extension": ".py",
   "mimetype": "text/x-python",
   "name": "python",
   "nbconvert_exporter": "python",
   "pygments_lexer": "ipython3",
   "version": "3.8.5"
  }
 },
 "nbformat": 4,
 "nbformat_minor": 4
}
