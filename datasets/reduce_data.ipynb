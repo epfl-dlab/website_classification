{
 "cells": [
  {
   "cell_type": "code",
   "execution_count": 3,
   "metadata": {},
   "outputs": [],
   "source": [
    "import numpy as np\n",
    "import pandas as pd\n",
    "import matplotlib.pyplot as plt"
   ]
  },
  {
   "cell_type": "code",
   "execution_count": 5,
   "metadata": {},
   "outputs": [],
   "source": [
    "folder = '/dlabdata1/lugeon/datasets/'\n",
    "#folder = '../data/'\n",
    "name = 'websites_dmoz_multi'\n",
    "ext = '.gz'\n",
    "data = pd.read_csv(folder + name + ext, header=0)"
   ]
  },
  {
   "cell_type": "code",
   "execution_count": 6,
   "metadata": {},
   "outputs": [],
   "source": [
    "data.drop('Unnamed: 0', axis=1, inplace=True)"
   ]
  },
  {
   "cell_type": "code",
   "execution_count": 7,
   "metadata": {},
   "outputs": [
    {
     "data": {
      "text/html": [
       "<div>\n",
       "<style scoped>\n",
       "    .dataframe tbody tr th:only-of-type {\n",
       "        vertical-align: middle;\n",
       "    }\n",
       "\n",
       "    .dataframe tbody tr th {\n",
       "        vertical-align: top;\n",
       "    }\n",
       "\n",
       "    .dataframe thead th {\n",
       "        text-align: right;\n",
       "    }\n",
       "</style>\n",
       "<table border=\"1\" class=\"dataframe\">\n",
       "  <thead>\n",
       "    <tr style=\"text-align: right;\">\n",
       "      <th></th>\n",
       "      <th>uid</th>\n",
       "      <th>url</th>\n",
       "      <th>lang</th>\n",
       "      <th>lang_id</th>\n",
       "      <th>cat0</th>\n",
       "    </tr>\n",
       "  </thead>\n",
       "  <tbody>\n",
       "    <tr>\n",
       "      <th>0</th>\n",
       "      <td>184</td>\n",
       "      <td>www.delphipraxis.net</td>\n",
       "      <td>Deutsch</td>\n",
       "      <td>de</td>\n",
       "      <td>Computers</td>\n",
       "    </tr>\n",
       "    <tr>\n",
       "      <th>1</th>\n",
       "      <td>263</td>\n",
       "      <td>www.central-it.de</td>\n",
       "      <td>Deutsch</td>\n",
       "      <td>de</td>\n",
       "      <td>Computers</td>\n",
       "    </tr>\n",
       "    <tr>\n",
       "      <th>2</th>\n",
       "      <td>731</td>\n",
       "      <td>www.aus-wandern.de</td>\n",
       "      <td>Deutsch</td>\n",
       "      <td>de</td>\n",
       "      <td>Computers</td>\n",
       "    </tr>\n",
       "    <tr>\n",
       "      <th>3</th>\n",
       "      <td>1072</td>\n",
       "      <td>blog.cvjm-nuernberg.de</td>\n",
       "      <td>Deutsch</td>\n",
       "      <td>de</td>\n",
       "      <td>Computers</td>\n",
       "    </tr>\n",
       "    <tr>\n",
       "      <th>4</th>\n",
       "      <td>1101</td>\n",
       "      <td>www.ges-training.de</td>\n",
       "      <td>Deutsch</td>\n",
       "      <td>de</td>\n",
       "      <td>Computers</td>\n",
       "    </tr>\n",
       "  </tbody>\n",
       "</table>\n",
       "</div>"
      ],
      "text/plain": [
       "    uid                     url     lang lang_id       cat0\n",
       "0   184    www.delphipraxis.net  Deutsch      de  Computers\n",
       "1   263       www.central-it.de  Deutsch      de  Computers\n",
       "2   731      www.aus-wandern.de  Deutsch      de  Computers\n",
       "3  1072  blog.cvjm-nuernberg.de  Deutsch      de  Computers\n",
       "4  1101     www.ges-training.de  Deutsch      de  Computers"
      ]
     },
     "execution_count": 7,
     "metadata": {},
     "output_type": "execute_result"
    }
   ],
   "source": [
    "data.head()"
   ]
  },
  {
   "cell_type": "code",
   "execution_count": 8,
   "metadata": {},
   "outputs": [
    {
     "data": {
      "text/plain": [
       "13"
      ]
     },
     "execution_count": 8,
     "metadata": {},
     "output_type": "execute_result"
    }
   ],
   "source": [
    "data.cat0.nunique() # number of categories"
   ]
  },
  {
   "cell_type": "code",
   "execution_count": 9,
   "metadata": {},
   "outputs": [],
   "source": [
    "def is_homepage(link):\n",
    "    return not('/' in link) or (link.count('/') == 1 and link.endswith('/'))"
   ]
  },
  {
   "cell_type": "code",
   "execution_count": 10,
   "metadata": {},
   "outputs": [
    {
     "data": {
      "text/plain": [
       "True    1025181\n",
       "Name: url, dtype: int64"
      ]
     },
     "execution_count": 10,
     "metadata": {},
     "output_type": "execute_result"
    }
   ],
   "source": [
    "is_hp = data.url.apply(is_homepage)\n",
    "is_hp.value_counts()"
   ]
  },
  {
   "cell_type": "code",
   "execution_count": 11,
   "metadata": {},
   "outputs": [
    {
     "data": {
      "text/plain": [
       "1025181"
      ]
     },
     "execution_count": 11,
     "metadata": {},
     "output_type": "execute_result"
    }
   ],
   "source": [
    "data.shape[0] "
   ]
  },
  {
   "cell_type": "code",
   "execution_count": 12,
   "metadata": {},
   "outputs": [
    {
     "data": {
      "text/plain": [
       "(Business      148144\n",
       " Society        82079\n",
       " Arts           66721\n",
       " Shopping       54062\n",
       " Recreation     46095\n",
       " Computers      45194\n",
       " Sports         34890\n",
       " Science        28138\n",
       " Health         24218\n",
       " Reference      21663\n",
       " Games          10246\n",
       " Home            6952\n",
       " News            3696\n",
       " Name: cat0, dtype: int64,\n",
       " (572098, 3))"
      ]
     },
     "execution_count": 12,
     "metadata": {},
     "output_type": "execute_result"
    }
   ],
   "source": [
    "df_en = data[data.lang_id == 'en'][['uid', 'url', 'cat0']]\n",
    "df_en.cat0.value_counts(), df_en.shape"
   ]
  },
  {
   "cell_type": "code",
   "execution_count": 13,
   "metadata": {},
   "outputs": [],
   "source": [
    "df_red = pd.DataFrame([])\n",
    "\n",
    "samples_per_cat = 10_000\n",
    "\n",
    "for cat in df_en.cat0.unique():\n",
    "        df_cat = df_en[df_en.cat0 == cat]\n",
    "        n_samples = min(samples_per_cat, df_cat.shape[0])\n",
    "        df_cat = df_cat.sample(n_samples, random_state=42)\n",
    "        df_red = pd.concat((df_red, df_cat))"
   ]
  },
  {
   "cell_type": "code",
   "execution_count": 14,
   "metadata": {},
   "outputs": [
    {
     "data": {
      "text/plain": [
       "Recreation    10000\n",
       "Games         10000\n",
       "Computers     10000\n",
       "Sports        10000\n",
       "Health        10000\n",
       "Society       10000\n",
       "Shopping      10000\n",
       "Science       10000\n",
       "Arts          10000\n",
       "Business      10000\n",
       "Reference     10000\n",
       "Home           6952\n",
       "News           3696\n",
       "Name: cat0, dtype: int64"
      ]
     },
     "execution_count": 14,
     "metadata": {},
     "output_type": "execute_result"
    }
   ],
   "source": [
    "df_red.cat0.value_counts()"
   ]
  },
  {
   "cell_type": "code",
   "execution_count": 15,
   "metadata": {},
   "outputs": [],
   "source": [
    "test_size = 2000\n",
    "df_test = df_red.groupby('cat0').sample(test_size, random_state=42)\n",
    "\n",
    "def in_test(uid):\n",
    "    return not(uid in df_test.uid.values)\n",
    "\n",
    "train_mask = df_red.uid.apply(in_test)\n",
    "df_train = df_red[train_mask]"
   ]
  },
  {
   "cell_type": "code",
   "execution_count": 16,
   "metadata": {},
   "outputs": [
    {
     "data": {
      "text/plain": [
       "((26000, 3), (94648, 3))"
      ]
     },
     "execution_count": 16,
     "metadata": {},
     "output_type": "execute_result"
    }
   ],
   "source": [
    "df_test.shape, df_train.shape"
   ]
  },
  {
   "cell_type": "code",
   "execution_count": 17,
   "metadata": {},
   "outputs": [
    {
     "data": {
      "text/html": [
       "<div>\n",
       "<style scoped>\n",
       "    .dataframe tbody tr th:only-of-type {\n",
       "        vertical-align: middle;\n",
       "    }\n",
       "\n",
       "    .dataframe tbody tr th {\n",
       "        vertical-align: top;\n",
       "    }\n",
       "\n",
       "    .dataframe thead th {\n",
       "        text-align: right;\n",
       "    }\n",
       "</style>\n",
       "<table border=\"1\" class=\"dataframe\">\n",
       "  <thead>\n",
       "    <tr style=\"text-align: right;\">\n",
       "      <th></th>\n",
       "      <th>uid</th>\n",
       "      <th>url</th>\n",
       "      <th>cat0</th>\n",
       "    </tr>\n",
       "  </thead>\n",
       "  <tbody>\n",
       "    <tr>\n",
       "      <th>721336</th>\n",
       "      <td>1173390</td>\n",
       "      <td>www.mfaust.de</td>\n",
       "      <td>Arts</td>\n",
       "    </tr>\n",
       "    <tr>\n",
       "      <th>996475</th>\n",
       "      <td>2364463</td>\n",
       "      <td>www.johnheinrich.net</td>\n",
       "      <td>Arts</td>\n",
       "    </tr>\n",
       "    <tr>\n",
       "      <th>1024437</th>\n",
       "      <td>2484946</td>\n",
       "      <td>writersliving.com</td>\n",
       "      <td>Arts</td>\n",
       "    </tr>\n",
       "    <tr>\n",
       "      <th>846520</th>\n",
       "      <td>1709909</td>\n",
       "      <td>www.polemusic.net</td>\n",
       "      <td>Arts</td>\n",
       "    </tr>\n",
       "    <tr>\n",
       "      <th>636138</th>\n",
       "      <td>800354</td>\n",
       "      <td>www.buddhabellystudio.com</td>\n",
       "      <td>Arts</td>\n",
       "    </tr>\n",
       "  </tbody>\n",
       "</table>\n",
       "</div>"
      ],
      "text/plain": [
       "             uid                        url  cat0\n",
       "721336   1173390              www.mfaust.de  Arts\n",
       "996475   2364463       www.johnheinrich.net  Arts\n",
       "1024437  2484946          writersliving.com  Arts\n",
       "846520   1709909          www.polemusic.net  Arts\n",
       "636138    800354  www.buddhabellystudio.com  Arts"
      ]
     },
     "execution_count": 17,
     "metadata": {},
     "output_type": "execute_result"
    }
   ],
   "source": [
    "df_test.head()"
   ]
  },
  {
   "cell_type": "code",
   "execution_count": 83,
   "metadata": {},
   "outputs": [],
   "source": [
    "df_train.to_csv('/dlabdata1/lugeon/dmozfinalset/dmoz_en_full_train.gz', compression='gzip')\n",
    "df_test.to_csv('/dlabdata1/lugeon/dmozfinalset/dmoz_en_full_valid.gz', compression='gzip')"
   ]
  },
  {
   "cell_type": "markdown",
   "metadata": {},
   "source": [
    "## Multilingual "
   ]
  },
  {
   "cell_type": "code",
   "execution_count": 18,
   "metadata": {},
   "outputs": [
    {
     "data": {
      "text/plain": [
       "array(['Deutsch', 'Français', 'Russian', 'Español', 'Türkçe', 'Japanese',\n",
       "       'Português', 'Chinese_Simplified', 'Italiano', 'English'],\n",
       "      dtype=object)"
      ]
     },
     "execution_count": 18,
     "metadata": {},
     "output_type": "execute_result"
    }
   ],
   "source": [
    "data.lang.unique()"
   ]
  },
  {
   "cell_type": "code",
   "execution_count": 19,
   "metadata": {},
   "outputs": [
    {
     "data": {
      "text/plain": [
       "lang\n",
       "English               572098\n",
       "Deutsch               182911\n",
       "Japanese               64500\n",
       "Français               58271\n",
       "Russian                44348\n",
       "Italiano               43425\n",
       "Türkçe                 21199\n",
       "Español                19833\n",
       "Chinese_Simplified     14481\n",
       "Português               4115\n",
       "Name: uid, dtype: int64"
      ]
     },
     "execution_count": 19,
     "metadata": {},
     "output_type": "execute_result"
    }
   ],
   "source": [
    "data.groupby('lang').uid.count().sort_values(ascending=False)"
   ]
  },
  {
   "cell_type": "code",
   "execution_count": 20,
   "metadata": {},
   "outputs": [],
   "source": [
    "langs = ['English', 'Deutsch', 'Français', 'Italiano']"
   ]
  },
  {
   "cell_type": "code",
   "execution_count": 21,
   "metadata": {},
   "outputs": [],
   "source": [
    "df_multi = data[data.lang.apply(lambda x: x in langs)]"
   ]
  },
  {
   "cell_type": "code",
   "execution_count": 22,
   "metadata": {},
   "outputs": [
    {
     "data": {
      "text/plain": [
       "lang      cat0     \n",
       "Italiano  News          367\n",
       "Français  News          531\n",
       "Italiano  Home          751\n",
       "          Reference    1173\n",
       "          Games        1207\n",
       "          Science      1296\n",
       "          Computers    1303\n",
       "          Health       1428\n",
       "Français  Home         1628\n",
       "Deutsch   News         1684\n",
       "Name: uid, dtype: int64"
      ]
     },
     "execution_count": 22,
     "metadata": {},
     "output_type": "execute_result"
    }
   ],
   "source": [
    "df_multi.groupby(['lang', 'cat0']).uid.count().sort_values()[:10]"
   ]
  },
  {
   "cell_type": "code",
   "execution_count": 23,
   "metadata": {},
   "outputs": [],
   "source": [
    "df_lang_balanced = pd.DataFrame([])\n",
    "\n",
    "categories = df_multi.cat0.unique()\n",
    "\n",
    "for cat in categories:\n",
    "    df_cat = df_multi[df_multi.cat0 == cat]\n",
    "    min_samples = df_cat.groupby('lang').uid.count().min()\n",
    "    for lang in langs:\n",
    "        df_cat_lang = df_cat[df_cat.lang == lang]\n",
    "        nsamples = df_cat_lang.shape[0]\n",
    "        df_cat_lang = df_cat_lang.sample(min(nsamples, 1 * min_samples), random_state=42)\n",
    "        df_lang_balanced = pd.concat((df_lang_balanced, df_cat_lang))"
   ]
  },
  {
   "cell_type": "code",
   "execution_count": 24,
   "metadata": {},
   "outputs": [
    {
     "data": {
      "text/plain": [
       "cat0\n",
       "News           1468\n",
       "Home           3004\n",
       "Reference      4692\n",
       "Games          4828\n",
       "Science        5184\n",
       "Computers      5212\n",
       "Health         5712\n",
       "Sports         8344\n",
       "Shopping       9880\n",
       "Recreation    10060\n",
       "Society       17568\n",
       "Arts          25292\n",
       "Business      35736\n",
       "Name: uid, dtype: int64"
      ]
     },
     "execution_count": 24,
     "metadata": {},
     "output_type": "execute_result"
    }
   ],
   "source": [
    "df_lang_balanced.groupby('cat0').uid.count().sort_values()"
   ]
  },
  {
   "cell_type": "code",
   "execution_count": 25,
   "metadata": {},
   "outputs": [],
   "source": [
    "df_lang_balanced = df_lang_balanced[['uid', 'url', 'cat0', 'lang']]"
   ]
  },
  {
   "cell_type": "code",
   "execution_count": 26,
   "metadata": {},
   "outputs": [
    {
     "data": {
      "text/plain": [
       "(136980, 4)"
      ]
     },
     "execution_count": 26,
     "metadata": {},
     "output_type": "execute_result"
    }
   ],
   "source": [
    "df_lang_balanced.shape"
   ]
  },
  {
   "cell_type": "code",
   "execution_count": 19,
   "metadata": {},
   "outputs": [],
   "source": [
    "df_lang_balanced.to_csv('/dlabdata1/lugeon/dmozfinalset/dmoz_lang.gz', compression='gzip')"
   ]
  },
  {
   "cell_type": "code",
   "execution_count": 122,
   "metadata": {},
   "outputs": [
    {
     "data": {
      "image/png": "[encoded data removed]",
      "text/plain": [
       "<Figure size 288x252 with 1 Axes>"
      ]
     },
     "metadata": {
      "needs_background": "light"
     },
     "output_type": "display_data"
    }
   ],
   "source": [
    "fig, ax = plt.subplots(figsize=(4,3.5))\n",
    "\n",
    "cmap = plt.cm.get_cmap('tab20c')\n",
    "color1 = cmap(1)\n",
    "\n",
    "height=0.5\n",
    "\n",
    "cat_count = df_lang_balanced.groupby('cat0').uid.count()\n",
    "\n",
    "values = cat_count.values\n",
    "\n",
    "\n",
    "labels = cat_count.index.values\n",
    "y = np.arange(len(labels))\n",
    "\n",
    "\n",
    "rects = ax.barh(y=y, width=values, height=height, color=color1)\n",
    "\n",
    "ax.set_yticks(y)\n",
    "ax.set_yticklabels(labels, fontsize=13)\n",
    "\n",
    "ax.set_xticks([0, 10_000, 20_000, 30_000, 40_000, 50_000])\n",
    "ax.set_xticklabels([\"0\", \"10,000\", \"20,000\", \"30,000\", \"40,000\", \"50,000\"], fontsize=10)\n",
    "\n",
    "#plt.xscale('log')\n",
    "\n",
    "ax.tick_params(\n",
    "    axis='y',          # changes apply to the x-axis\n",
    "    which='both',      # both major and minor ticks are affected\n",
    "    left=False,      # ticks along the bottom edge are off\n",
    "    labelleft=True) # labels along the bottom edge are off\n",
    "\n",
    "ax.tick_params(\n",
    "    axis='x',          # changes apply to the x-axis\n",
    "    which='both',      # both major and minor ticks are affected\n",
    "    top=False,      # ticks along the bottom edge are off\n",
    "    labeltop=False,\n",
    "    bottom=True,\n",
    "    labelbottom=True) # labels along the bottom edge are off\n",
    "\n",
    "\n",
    "ax.set_ylim([-1 + 0.3, len(labels) - 0.3])\n",
    "\n",
    "ax.invert_yaxis() \n",
    "\n",
    "def autolabel(rects):\n",
    "    \"\"\"Attach a text label above each bar in *rects*, displaying its height.\"\"\"\n",
    "    for rect in rects:\n",
    "        width = rect.get_width()\n",
    "        ax.annotate('{:<6,}'.format(width),\n",
    "                    xy=(width, rect.get_y() + rect.get_height() / 2),\n",
    "                    xytext=(22, -6),  # 3 points vertical offset\n",
    "                    textcoords=\"offset points\",\n",
    "                    ha='center', va='bottom',\n",
    "                    fontsize=10)\n",
    "\n",
    "autolabel(rects)\n",
    "\n",
    "#ax.vlines([10_000, 20_000, 30_000], ymin=-1, ymax=13, linestyles='dotted', colors='black', linewidths=1)\n",
    "\n",
    "plt.savefig('nb_samples_experiment.png', bbox_inches='tight')\n",
    "\n",
    "plt.show()"
   ]
  },
  {
   "cell_type": "markdown",
   "metadata": {},
   "source": [
    "## English samples for the visual model"
   ]
  },
  {
   "cell_type": "code",
   "execution_count": 112,
   "metadata": {},
   "outputs": [
    {
     "data": {
      "text/html": [
       "<div>\n",
       "<style scoped>\n",
       "    .dataframe tbody tr th:only-of-type {\n",
       "        vertical-align: middle;\n",
       "    }\n",
       "\n",
       "    .dataframe tbody tr th {\n",
       "        vertical-align: top;\n",
       "    }\n",
       "\n",
       "    .dataframe thead th {\n",
       "        text-align: right;\n",
       "    }\n",
       "</style>\n",
       "<table border=\"1\" class=\"dataframe\">\n",
       "  <thead>\n",
       "    <tr style=\"text-align: right;\">\n",
       "      <th></th>\n",
       "      <th>uid</th>\n",
       "      <th>url</th>\n",
       "      <th>cat0</th>\n",
       "      <th>lang</th>\n",
       "    </tr>\n",
       "  </thead>\n",
       "  <tbody>\n",
       "    <tr>\n",
       "      <th>934747</th>\n",
       "      <td>2094851</td>\n",
       "      <td>www.gyrosystem.co.uk</td>\n",
       "      <td>Computers</td>\n",
       "      <td>English</td>\n",
       "    </tr>\n",
       "    <tr>\n",
       "      <th>888399</th>\n",
       "      <td>1892699</td>\n",
       "      <td>www.capegraphics.com</td>\n",
       "      <td>Computers</td>\n",
       "      <td>English</td>\n",
       "    </tr>\n",
       "    <tr>\n",
       "      <th>610948</th>\n",
       "      <td>691456</td>\n",
       "      <td>jsutils.sourceforge.net</td>\n",
       "      <td>Computers</td>\n",
       "      <td>English</td>\n",
       "    </tr>\n",
       "    <tr>\n",
       "      <th>514655</th>\n",
       "      <td>267211</td>\n",
       "      <td>www.gwei.org</td>\n",
       "      <td>Computers</td>\n",
       "      <td>English</td>\n",
       "    </tr>\n",
       "    <tr>\n",
       "      <th>596136</th>\n",
       "      <td>624824</td>\n",
       "      <td>www.simplewire.com</td>\n",
       "      <td>Computers</td>\n",
       "      <td>English</td>\n",
       "    </tr>\n",
       "    <tr>\n",
       "      <th>...</th>\n",
       "      <td>...</td>\n",
       "      <td>...</td>\n",
       "      <td>...</td>\n",
       "      <td>...</td>\n",
       "    </tr>\n",
       "    <tr>\n",
       "      <th>452403</th>\n",
       "      <td>250787</td>\n",
       "      <td>www.laretedellemamme.it</td>\n",
       "      <td>Home</td>\n",
       "      <td>Italiano</td>\n",
       "    </tr>\n",
       "    <tr>\n",
       "      <th>452438</th>\n",
       "      <td>369156</td>\n",
       "      <td>www.spaziomutui.com</td>\n",
       "      <td>Home</td>\n",
       "      <td>Italiano</td>\n",
       "    </tr>\n",
       "    <tr>\n",
       "      <th>452602</th>\n",
       "      <td>865101</td>\n",
       "      <td>www.prodotti-per-capelli.it</td>\n",
       "      <td>Home</td>\n",
       "      <td>Italiano</td>\n",
       "    </tr>\n",
       "    <tr>\n",
       "      <th>452767</th>\n",
       "      <td>1436606</td>\n",
       "      <td>www.infanziaweb.it</td>\n",
       "      <td>Home</td>\n",
       "      <td>Italiano</td>\n",
       "    </tr>\n",
       "    <tr>\n",
       "      <th>452434</th>\n",
       "      <td>352155</td>\n",
       "      <td>www.nonsoloprestiti.com</td>\n",
       "      <td>Home</td>\n",
       "      <td>Italiano</td>\n",
       "    </tr>\n",
       "  </tbody>\n",
       "</table>\n",
       "<p>136980 rows × 4 columns</p>\n",
       "</div>"
      ],
      "text/plain": [
       "            uid                          url       cat0      lang\n",
       "934747  2094851         www.gyrosystem.co.uk  Computers   English\n",
       "888399  1892699         www.capegraphics.com  Computers   English\n",
       "610948   691456      jsutils.sourceforge.net  Computers   English\n",
       "514655   267211                 www.gwei.org  Computers   English\n",
       "596136   624824           www.simplewire.com  Computers   English\n",
       "...         ...                          ...        ...       ...\n",
       "452403   250787      www.laretedellemamme.it       Home  Italiano\n",
       "452438   369156          www.spaziomutui.com       Home  Italiano\n",
       "452602   865101  www.prodotti-per-capelli.it       Home  Italiano\n",
       "452767  1436606           www.infanziaweb.it       Home  Italiano\n",
       "452434   352155      www.nonsoloprestiti.com       Home  Italiano\n",
       "\n",
       "[136980 rows x 4 columns]"
      ]
     },
     "execution_count": 112,
     "metadata": {},
     "output_type": "execute_result"
    }
   ],
   "source": [
    "df_lang_balanced"
   ]
  },
  {
   "cell_type": "code",
   "execution_count": 113,
   "metadata": {},
   "outputs": [],
   "source": [
    "mask = df_en.uid.apply(lambda x: x in df_lang_balanced.uid.values)"
   ]
  },
  {
   "cell_type": "code",
   "execution_count": 114,
   "metadata": {},
   "outputs": [],
   "source": [
    "df_visual = df_en[~mask]"
   ]
  },
  {
   "cell_type": "code",
   "execution_count": 115,
   "metadata": {},
   "outputs": [
    {
     "data": {
      "text/plain": [
       "(Business      139210\n",
       " Society        77687\n",
       " Arts           60398\n",
       " Shopping       51592\n",
       " Computers      43891\n",
       " Recreation     43580\n",
       " Sports         32804\n",
       " Science        26842\n",
       " Health         22790\n",
       " Reference      20490\n",
       " Games           9039\n",
       " Home            6201\n",
       " News            3329\n",
       " Name: cat0, dtype: int64,\n",
       " (537853, 3))"
      ]
     },
     "execution_count": 115,
     "metadata": {},
     "output_type": "execute_result"
    }
   ],
   "source": [
    "df_visual.cat0.value_counts(), df_visual.shape"
   ]
  },
  {
   "cell_type": "code",
   "execution_count": 116,
   "metadata": {},
   "outputs": [],
   "source": [
    "max_n_samples = 20_000\n",
    "\n",
    "df_visual = df_visual.groupby('cat0').apply(lambda c: c.sample(min(max_n_samples, c.uid.count()), random_state=42))\n",
    "\n",
    "df_visual.index = np.arange(df_visual.shape[0])"
   ]
  },
  {
   "cell_type": "code",
   "execution_count": 117,
   "metadata": {},
   "outputs": [
    {
     "data": {
      "text/plain": [
       "Recreation    20000\n",
       "Computers     20000\n",
       "Shopping      20000\n",
       "Arts          20000\n",
       "Sports        20000\n",
       "Health        20000\n",
       "Society       20000\n",
       "Science       20000\n",
       "Business      20000\n",
       "Reference     20000\n",
       "Games          9039\n",
       "Home           6201\n",
       "News           3329\n",
       "Name: cat0, dtype: int64"
      ]
     },
     "execution_count": 117,
     "metadata": {},
     "output_type": "execute_result"
    }
   ],
   "source": [
    "df_visual.cat0.value_counts()"
   ]
  },
  {
   "cell_type": "code",
   "execution_count": 118,
   "metadata": {},
   "outputs": [
    {
     "data": {
      "text/html": [
       "<div>\n",
       "<style scoped>\n",
       "    .dataframe tbody tr th:only-of-type {\n",
       "        vertical-align: middle;\n",
       "    }\n",
       "\n",
       "    .dataframe tbody tr th {\n",
       "        vertical-align: top;\n",
       "    }\n",
       "\n",
       "    .dataframe thead th {\n",
       "        text-align: right;\n",
       "    }\n",
       "</style>\n",
       "<table border=\"1\" class=\"dataframe\">\n",
       "  <thead>\n",
       "    <tr style=\"text-align: right;\">\n",
       "      <th></th>\n",
       "      <th>uid</th>\n",
       "      <th>url</th>\n",
       "      <th>cat0</th>\n",
       "    </tr>\n",
       "  </thead>\n",
       "  <tbody>\n",
       "    <tr>\n",
       "      <th>0</th>\n",
       "      <td>802185</td>\n",
       "      <td>www.rvbulck.com</td>\n",
       "      <td>Arts</td>\n",
       "    </tr>\n",
       "    <tr>\n",
       "      <th>1</th>\n",
       "      <td>1627438</td>\n",
       "      <td>www.littleredhot.bizland.com</td>\n",
       "      <td>Arts</td>\n",
       "    </tr>\n",
       "    <tr>\n",
       "      <th>2</th>\n",
       "      <td>1468320</td>\n",
       "      <td>www.kinema.uwaterloo.ca</td>\n",
       "      <td>Arts</td>\n",
       "    </tr>\n",
       "    <tr>\n",
       "      <th>3</th>\n",
       "      <td>2019775</td>\n",
       "      <td>www.cops.com</td>\n",
       "      <td>Arts</td>\n",
       "    </tr>\n",
       "    <tr>\n",
       "      <th>4</th>\n",
       "      <td>1462539</td>\n",
       "      <td>www.mindness.net</td>\n",
       "      <td>Arts</td>\n",
       "    </tr>\n",
       "    <tr>\n",
       "      <th>...</th>\n",
       "      <td>...</td>\n",
       "      <td>...</td>\n",
       "      <td>...</td>\n",
       "    </tr>\n",
       "    <tr>\n",
       "      <th>218564</th>\n",
       "      <td>258754</td>\n",
       "      <td>northeastkarate.com</td>\n",
       "      <td>Sports</td>\n",
       "    </tr>\n",
       "    <tr>\n",
       "      <th>218565</th>\n",
       "      <td>2204926</td>\n",
       "      <td>www.premieregolfsolutions.com</td>\n",
       "      <td>Sports</td>\n",
       "    </tr>\n",
       "    <tr>\n",
       "      <th>218566</th>\n",
       "      <td>1856386</td>\n",
       "      <td>www.hudsonvalleylacrosse.com</td>\n",
       "      <td>Sports</td>\n",
       "    </tr>\n",
       "    <tr>\n",
       "      <th>218567</th>\n",
       "      <td>2175584</td>\n",
       "      <td>www.mantiskungfu.bravepages.com</td>\n",
       "      <td>Sports</td>\n",
       "    </tr>\n",
       "    <tr>\n",
       "      <th>218568</th>\n",
       "      <td>604405</td>\n",
       "      <td>www.slugger.com</td>\n",
       "      <td>Sports</td>\n",
       "    </tr>\n",
       "  </tbody>\n",
       "</table>\n",
       "<p>218569 rows × 3 columns</p>\n",
       "</div>"
      ],
      "text/plain": [
       "            uid                              url    cat0\n",
       "0        802185                  www.rvbulck.com    Arts\n",
       "1       1627438     www.littleredhot.bizland.com    Arts\n",
       "2       1468320          www.kinema.uwaterloo.ca    Arts\n",
       "3       2019775                     www.cops.com    Arts\n",
       "4       1462539                 www.mindness.net    Arts\n",
       "...         ...                              ...     ...\n",
       "218564   258754              northeastkarate.com  Sports\n",
       "218565  2204926    www.premieregolfsolutions.com  Sports\n",
       "218566  1856386     www.hudsonvalleylacrosse.com  Sports\n",
       "218567  2175584  www.mantiskungfu.bravepages.com  Sports\n",
       "218568   604405                  www.slugger.com  Sports\n",
       "\n",
       "[218569 rows x 3 columns]"
      ]
     },
     "execution_count": 118,
     "metadata": {},
     "output_type": "execute_result"
    }
   ],
   "source": [
    "df_visual"
   ]
  },
  {
   "cell_type": "code",
   "execution_count": 119,
   "metadata": {},
   "outputs": [],
   "source": [
    "df_visual_valid = df_visual.groupby('cat0').sample(frac=0.2, random_state=42)\n",
    "\n",
    "mask = df_visual.uid.apply(lambda x: x in df_visual_valid.uid.values)\n",
    "\n",
    "df_visual_train = df_visual[~mask]\n"
   ]
  },
  {
   "cell_type": "code",
   "execution_count": 144,
   "metadata": {},
   "outputs": [
    {
     "data": {
      "text/plain": [
       "Sports        4000\n",
       "Reference     4000\n",
       "Recreation    4000\n",
       "Shopping      4000\n",
       "Science       4000\n",
       "Society       4000\n",
       "Health        4000\n",
       "Business      4000\n",
       "Arts          4000\n",
       "Computers     4000\n",
       "Games         1808\n",
       "Home          1240\n",
       "News           666\n",
       "Name: cat0, dtype: int64"
      ]
     },
     "execution_count": 144,
     "metadata": {},
     "output_type": "execute_result"
    }
   ],
   "source": [
    "df_visual_valid.cat0.value_counts()"
   ]
  },
  {
   "cell_type": "code",
   "execution_count": 145,
   "metadata": {},
   "outputs": [
    {
     "data": {
      "text/plain": [
       "Science       16000\n",
       "Sports        16000\n",
       "Reference     16000\n",
       "Society       16000\n",
       "Arts          16000\n",
       "Health        16000\n",
       "Computers     16000\n",
       "Recreation    16000\n",
       "Shopping      16000\n",
       "Business      16000\n",
       "Games          7231\n",
       "Home           4961\n",
       "News           2663\n",
       "Name: cat0, dtype: int64"
      ]
     },
     "execution_count": 145,
     "metadata": {},
     "output_type": "execute_result"
    }
   ],
   "source": [
    "df_visual_train.cat0.value_counts()"
   ]
  },
  {
   "cell_type": "code",
   "execution_count": 146,
   "metadata": {},
   "outputs": [],
   "source": [
    "df_visual_train.to_csv('/dlabdata1/lugeon/dmozfinalset/dmoz_visual_train.gz', compression='gzip')\n",
    "df_visual_valid.to_csv('/dlabdata1/lugeon/dmozfinalset/dmoz_visual_valid.gz', compression='gzip')"
   ]
  },
  {
   "cell_type": "code",
   "execution_count": 121,
   "metadata": {},
   "outputs": [
    {
     "data": {
      "image/png": "[encoded data removed]",
      "text/plain": [
       "<Figure size 288x252 with 1 Axes>"
      ]
     },
     "metadata": {
      "needs_background": "light"
     },
     "output_type": "display_data"
    }
   ],
   "source": [
    "fig, ax = plt.subplots(figsize=(4,3.5))\n",
    "\n",
    "cmap = plt.cm.get_cmap('tab20c')\n",
    "color1 = cmap(1)\n",
    "\n",
    "height=0.5\n",
    "\n",
    "cat_count = df_visual.groupby('cat0').uid.count()\n",
    "\n",
    "values = cat_count.values\n",
    "\n",
    "\n",
    "labels = cat_count.index.values\n",
    "y = np.arange(len(labels))\n",
    "\n",
    "\n",
    "rects = ax.barh(y=y, width=values, height=height, color=color1)\n",
    "\n",
    "ax.set_yticks(y)\n",
    "ax.set_yticklabels(labels, fontsize=13)\n",
    "\n",
    "ax.set_xticks([0, 10_000, 20_000, 30_000, 40_000, 50_000])\n",
    "ax.set_xticklabels([\"0\", \"10,000\", \"20,000\", \"30,000\", \"40,000\", \"50,000\"], fontsize=10)\n",
    "\n",
    "#plt.xscale('log')\n",
    "\n",
    "ax.tick_params(\n",
    "    axis='y',          # changes apply to the x-axis\n",
    "    which='both',      # both major and minor ticks are affected\n",
    "    left=False,      # ticks along the bottom edge are off\n",
    "    labelleft=True) # labels along the bottom edge are off\n",
    "\n",
    "ax.tick_params(\n",
    "    axis='x',          # changes apply to the x-axis\n",
    "    which='both',      # both major and minor ticks are affected\n",
    "    top=False,      # ticks along the bottom edge are off\n",
    "    labeltop=False,\n",
    "    bottom=True,\n",
    "    labelbottom=True) # labels along the bottom edge are off\n",
    "\n",
    "\n",
    "ax.set_ylim([-1 + 0.3, len(labels) - 0.3])\n",
    "\n",
    "ax.invert_yaxis() \n",
    "\n",
    "def autolabel(rects):\n",
    "    \"\"\"Attach a text label above each bar in *rects*, displaying its height.\"\"\"\n",
    "    for rect in rects:\n",
    "        width = rect.get_width()\n",
    "        ax.annotate('{:<6,}'.format(width),\n",
    "                    xy=(width, rect.get_y() + rect.get_height() / 2),\n",
    "                    xytext=(22, -6),  # 3 points vertical offset\n",
    "                    textcoords=\"offset points\",\n",
    "                    ha='center', va='bottom',\n",
    "                    fontsize=10)\n",
    "\n",
    "autolabel(rects)\n",
    "\n",
    "#ax.vlines([10_000, 20_000, 30_000], ymin=-1, ymax=13, linestyles='dotted', colors='black', linewidths=1)\n",
    "\n",
    "plt.savefig('nb_samples_visual.png', bbox_inches='tight')\n",
    "\n",
    "plt.show()"
   ]
  },
  {
   "cell_type": "markdown",
   "metadata": {},
   "source": [
    "## Multi langual visual set"
   ]
  },
  {
   "cell_type": "code",
   "execution_count": 40,
   "metadata": {},
   "outputs": [],
   "source": [
    "mask = df_multi.uid.apply(lambda x: x in df_lang_balanced.uid.values)"
   ]
  },
  {
   "cell_type": "code",
   "execution_count": 41,
   "metadata": {},
   "outputs": [],
   "source": [
    "df_visual_lang = df_multi[~mask]"
   ]
  },
  {
   "cell_type": "code",
   "execution_count": 42,
   "metadata": {},
   "outputs": [
    {
     "data": {
      "text/plain": [
       "Business      183910\n",
       "Society        95478\n",
       "Arts           80114\n",
       "Recreation     63001\n",
       "Shopping       61975\n",
       "Computers      58269\n",
       "Sports         48865\n",
       "Health         44037\n",
       "Science        34598\n",
       "Reference      24685\n",
       "Games          11904\n",
       "Home            8079\n",
       "News            4810\n",
       "Name: cat0, dtype: int64"
      ]
     },
     "execution_count": 42,
     "metadata": {},
     "output_type": "execute_result"
    }
   ],
   "source": [
    "df_visual_lang.cat0.value_counts()"
   ]
  },
  {
   "cell_type": "code",
   "execution_count": 43,
   "metadata": {},
   "outputs": [
    {
     "data": {
      "text/html": [
       "<div>\n",
       "<style scoped>\n",
       "    .dataframe tbody tr th:only-of-type {\n",
       "        vertical-align: middle;\n",
       "    }\n",
       "\n",
       "    .dataframe tbody tr th {\n",
       "        vertical-align: top;\n",
       "    }\n",
       "\n",
       "    .dataframe thead th {\n",
       "        text-align: right;\n",
       "    }\n",
       "</style>\n",
       "<table border=\"1\" class=\"dataframe\">\n",
       "  <thead>\n",
       "    <tr style=\"text-align: right;\">\n",
       "      <th></th>\n",
       "      <th>uid</th>\n",
       "      <th>url</th>\n",
       "      <th>lang</th>\n",
       "      <th>lang_id</th>\n",
       "      <th>cat0</th>\n",
       "    </tr>\n",
       "  </thead>\n",
       "  <tbody>\n",
       "    <tr>\n",
       "      <th>0</th>\n",
       "      <td>184</td>\n",
       "      <td>www.delphipraxis.net</td>\n",
       "      <td>Deutsch</td>\n",
       "      <td>de</td>\n",
       "      <td>Computers</td>\n",
       "    </tr>\n",
       "  </tbody>\n",
       "</table>\n",
       "</div>"
      ],
      "text/plain": [
       "   uid                   url     lang lang_id       cat0\n",
       "0  184  www.delphipraxis.net  Deutsch      de  Computers"
      ]
     },
     "execution_count": 43,
     "metadata": {},
     "output_type": "execute_result"
    }
   ],
   "source": [
    "df_visual_lang.head(1)"
   ]
  },
  {
   "cell_type": "code",
   "execution_count": 44,
   "metadata": {},
   "outputs": [
    {
     "data": {
      "text/plain": [
       "cat0       lang    \n",
       "Sports     Italiano     111\n",
       "News       Français     164\n",
       "Shopping   Italiano     172\n",
       "Games      Français     802\n",
       "Home       Français     877\n",
       "           Deutsch     1001\n",
       "News       Deutsch     1317\n",
       "Reference  Français    1558\n",
       "Games      Deutsch     2063\n",
       "Health     Français    2626\n",
       "Name: uid, dtype: int64"
      ]
     },
     "execution_count": 44,
     "metadata": {},
     "output_type": "execute_result"
    }
   ],
   "source": [
    "df_visual_lang.groupby(['cat0', 'lang']).uid.count().sort_values()[:10]"
   ]
  },
  {
   "cell_type": "code",
   "execution_count": 45,
   "metadata": {},
   "outputs": [
    {
     "data": {
      "text/plain": [
       "English     537853\n",
       "Deutsch     148666\n",
       "Français     24026\n",
       "Italiano      9180\n",
       "Name: lang, dtype: int64"
      ]
     },
     "execution_count": 45,
     "metadata": {},
     "output_type": "execute_result"
    }
   ],
   "source": [
    "df_visual_lang.lang.value_counts()"
   ]
  },
  {
   "cell_type": "code",
   "execution_count": 46,
   "metadata": {},
   "outputs": [],
   "source": [
    "df_visual_lang_ = pd.DataFrame()\n",
    "\n",
    "for l in df_visual_lang.lang.unique():\n",
    "    df_l = df_visual_lang[df_visual_lang.lang == l]\n",
    "    max_samples = df_l.shape[0]\n",
    "    df_l = df_l.sample(min(max_samples, 80_000), random_state=42)\n",
    "    df_visual_lang_ = pd.concat((df_visual_lang_, df_l))\n",
    "    "
   ]
  },
  {
   "cell_type": "code",
   "execution_count": 47,
   "metadata": {},
   "outputs": [
    {
     "data": {
      "text/plain": [
       "(193206, 5)"
      ]
     },
     "execution_count": 47,
     "metadata": {},
     "output_type": "execute_result"
    }
   ],
   "source": [
    "df_visual_lang_.shape"
   ]
  },
  {
   "cell_type": "code",
   "execution_count": 48,
   "metadata": {},
   "outputs": [
    {
     "data": {
      "text/plain": [
       "English     80000\n",
       "Deutsch     80000\n",
       "Français    24026\n",
       "Italiano     9180\n",
       "Name: lang, dtype: int64"
      ]
     },
     "execution_count": 48,
     "metadata": {},
     "output_type": "execute_result"
    }
   ],
   "source": [
    "df_visual_lang_.lang.value_counts()"
   ]
  },
  {
   "cell_type": "code",
   "execution_count": 49,
   "metadata": {},
   "outputs": [
    {
     "data": {
      "text/plain": [
       "Business      48672\n",
       "Society       22616\n",
       "Arts          21913\n",
       "Recreation    18818\n",
       "Health        16100\n",
       "Computers     15668\n",
       "Sports        13569\n",
       "Shopping      13383\n",
       "Science        9555\n",
       "Reference      6004\n",
       "Games          3269\n",
       "Home           2275\n",
       "News           1364\n",
       "Name: cat0, dtype: int64"
      ]
     },
     "execution_count": 49,
     "metadata": {},
     "output_type": "execute_result"
    }
   ],
   "source": [
    "df_visual_lang_.cat0.value_counts()"
   ]
  },
  {
   "cell_type": "code",
   "execution_count": 50,
   "metadata": {},
   "outputs": [],
   "source": [
    "df_visual_lang_valid = df_visual_lang_.groupby('cat0').sample(frac=0.2, random_state=42)\n",
    "\n",
    "mask = df_visual_lang_.uid.apply(lambda x: x in df_visual_lang_valid.uid.values)\n",
    "\n",
    "df_visual_lang_train = df_visual_lang_[~mask]"
   ]
  },
  {
   "cell_type": "code",
   "execution_count": 51,
   "metadata": {},
   "outputs": [
    {
     "data": {
      "text/plain": [
       "((38643, 5), (154563, 5))"
      ]
     },
     "execution_count": 51,
     "metadata": {},
     "output_type": "execute_result"
    }
   ],
   "source": [
    "df_visual_lang_valid.shape, df_visual_lang_train.shape"
   ]
  },
  {
   "cell_type": "code",
   "execution_count": 55,
   "metadata": {},
   "outputs": [],
   "source": [
    "df_visual_lang_train[['uid', 'url', 'cat0']].to_csv('/dlabdata1/lugeon/dmozfinalset/dmoz_visual_lang_train.gz', compression='gzip')\n",
    "df_visual_lang_valid[['uid', 'url', 'cat0']].to_csv('/dlabdata1/lugeon/dmozfinalset/dmoz_visual_lang_valid.gz', compression='gzip')"
   ]
  },
  {
   "cell_type": "markdown",
   "metadata": {},
   "source": [
    "## Japanese testing set"
   ]
  },
  {
   "cell_type": "code",
   "execution_count": 56,
   "metadata": {},
   "outputs": [],
   "source": [
    "df_jap = data[data.lang_id == 'ja']"
   ]
  },
  {
   "cell_type": "code",
   "execution_count": 57,
   "metadata": {},
   "outputs": [
    {
     "data": {
      "text/plain": [
       "Business      28969\n",
       "Arts           9471\n",
       "Society        5417\n",
       "Sports         4302\n",
       "Shopping       4095\n",
       "Recreation     2751\n",
       "Health         2556\n",
       "Science        1649\n",
       "Reference      1202\n",
       "Computers      1175\n",
       "Games          1092\n",
       "News            954\n",
       "Home            867\n",
       "Name: cat0, dtype: int64"
      ]
     },
     "execution_count": 57,
     "metadata": {},
     "output_type": "execute_result"
    }
   ],
   "source": [
    "df_jap.cat0.value_counts()"
   ]
  },
  {
   "cell_type": "code",
   "execution_count": 58,
   "metadata": {},
   "outputs": [],
   "source": [
    "df_jap = df_jap.groupby('cat0').sample(800, random_state=42)"
   ]
  },
  {
   "cell_type": "code",
   "execution_count": 59,
   "metadata": {},
   "outputs": [
    {
     "data": {
      "text/html": [
       "<div>\n",
       "<style scoped>\n",
       "    .dataframe tbody tr th:only-of-type {\n",
       "        vertical-align: middle;\n",
       "    }\n",
       "\n",
       "    .dataframe tbody tr th {\n",
       "        vertical-align: top;\n",
       "    }\n",
       "\n",
       "    .dataframe thead th {\n",
       "        text-align: right;\n",
       "    }\n",
       "</style>\n",
       "<table border=\"1\" class=\"dataframe\">\n",
       "  <thead>\n",
       "    <tr style=\"text-align: right;\">\n",
       "      <th></th>\n",
       "      <th>uid</th>\n",
       "      <th>url</th>\n",
       "      <th>lang</th>\n",
       "      <th>lang_id</th>\n",
       "      <th>cat0</th>\n",
       "    </tr>\n",
       "  </thead>\n",
       "  <tbody>\n",
       "    <tr>\n",
       "      <th>362897</th>\n",
       "      <td>205759</td>\n",
       "      <td>www.kinder.co.jp</td>\n",
       "      <td>Japanese</td>\n",
       "      <td>ja</td>\n",
       "      <td>Arts</td>\n",
       "    </tr>\n",
       "    <tr>\n",
       "      <th>366748</th>\n",
       "      <td>1207394</td>\n",
       "      <td>www.hdc-dance.jp</td>\n",
       "      <td>Japanese</td>\n",
       "      <td>ja</td>\n",
       "      <td>Arts</td>\n",
       "    </tr>\n",
       "    <tr>\n",
       "      <th>368337</th>\n",
       "      <td>1629800</td>\n",
       "      <td>hayashiyasometa.ec-net.jp</td>\n",
       "      <td>Japanese</td>\n",
       "      <td>ja</td>\n",
       "      <td>Arts</td>\n",
       "    </tr>\n",
       "    <tr>\n",
       "      <th>368588</th>\n",
       "      <td>1695107</td>\n",
       "      <td>www.makken.com</td>\n",
       "      <td>Japanese</td>\n",
       "      <td>ja</td>\n",
       "      <td>Arts</td>\n",
       "    </tr>\n",
       "    <tr>\n",
       "      <th>364485</th>\n",
       "      <td>607658</td>\n",
       "      <td>www.tmaa.jp</td>\n",
       "      <td>Japanese</td>\n",
       "      <td>ja</td>\n",
       "      <td>Arts</td>\n",
       "    </tr>\n",
       "  </tbody>\n",
       "</table>\n",
       "</div>"
      ],
      "text/plain": [
       "            uid                        url      lang lang_id  cat0\n",
       "362897   205759           www.kinder.co.jp  Japanese      ja  Arts\n",
       "366748  1207394           www.hdc-dance.jp  Japanese      ja  Arts\n",
       "368337  1629800  hayashiyasometa.ec-net.jp  Japanese      ja  Arts\n",
       "368588  1695107             www.makken.com  Japanese      ja  Arts\n",
       "364485   607658                www.tmaa.jp  Japanese      ja  Arts"
      ]
     },
     "execution_count": 59,
     "metadata": {},
     "output_type": "execute_result"
    }
   ],
   "source": [
    "df_jap.head(5)"
   ]
  },
  {
   "cell_type": "code",
   "execution_count": 123,
   "metadata": {},
   "outputs": [],
   "source": [
    "df_jap = df_jap[['uid', 'url', 'cat0']]"
   ]
  },
  {
   "cell_type": "code",
   "execution_count": 124,
   "metadata": {},
   "outputs": [
    {
     "data": {
      "text/plain": [
       "(10400, 3)"
      ]
     },
     "execution_count": 124,
     "metadata": {},
     "output_type": "execute_result"
    }
   ],
   "source": [
    "df_jap.shape"
   ]
  },
  {
   "cell_type": "code",
   "execution_count": 127,
   "metadata": {},
   "outputs": [],
   "source": [
    "df_jap.to_csv('/dlabdata1/lugeon/dmozfinalset/dmoz_jap.gz', compression='gzip')"
   ]
  },
  {
   "cell_type": "code",
   "execution_count": 128,
   "metadata": {},
   "outputs": [
    {
     "data": {
      "text/html": [
       "<div>\n",
       "<style scoped>\n",
       "    .dataframe tbody tr th:only-of-type {\n",
       "        vertical-align: middle;\n",
       "    }\n",
       "\n",
       "    .dataframe tbody tr th {\n",
       "        vertical-align: top;\n",
       "    }\n",
       "\n",
       "    .dataframe thead th {\n",
       "        text-align: right;\n",
       "    }\n",
       "</style>\n",
       "<table border=\"1\" class=\"dataframe\">\n",
       "  <thead>\n",
       "    <tr style=\"text-align: right;\">\n",
       "      <th></th>\n",
       "      <th>uid</th>\n",
       "      <th>url</th>\n",
       "      <th>cat0</th>\n",
       "    </tr>\n",
       "  </thead>\n",
       "  <tbody>\n",
       "    <tr>\n",
       "      <th>362897</th>\n",
       "      <td>205759</td>\n",
       "      <td>www.kinder.co.jp</td>\n",
       "      <td>Arts</td>\n",
       "    </tr>\n",
       "    <tr>\n",
       "      <th>366748</th>\n",
       "      <td>1207394</td>\n",
       "      <td>www.hdc-dance.jp</td>\n",
       "      <td>Arts</td>\n",
       "    </tr>\n",
       "    <tr>\n",
       "      <th>368337</th>\n",
       "      <td>1629800</td>\n",
       "      <td>hayashiyasometa.ec-net.jp</td>\n",
       "      <td>Arts</td>\n",
       "    </tr>\n",
       "    <tr>\n",
       "      <th>368588</th>\n",
       "      <td>1695107</td>\n",
       "      <td>www.makken.com</td>\n",
       "      <td>Arts</td>\n",
       "    </tr>\n",
       "    <tr>\n",
       "      <th>364485</th>\n",
       "      <td>607658</td>\n",
       "      <td>www.tmaa.jp</td>\n",
       "      <td>Arts</td>\n",
       "    </tr>\n",
       "    <tr>\n",
       "      <th>...</th>\n",
       "      <td>...</td>\n",
       "      <td>...</td>\n",
       "      <td>...</td>\n",
       "    </tr>\n",
       "    <tr>\n",
       "      <th>386797</th>\n",
       "      <td>1719542</td>\n",
       "      <td>www.jkf-hs.com</td>\n",
       "      <td>Sports</td>\n",
       "    </tr>\n",
       "    <tr>\n",
       "      <th>385366</th>\n",
       "      <td>885747</td>\n",
       "      <td>www.beckham.jp</td>\n",
       "      <td>Sports</td>\n",
       "    </tr>\n",
       "    <tr>\n",
       "      <th>387281</th>\n",
       "      <td>1992841</td>\n",
       "      <td>www.tara.or.jp</td>\n",
       "      <td>Sports</td>\n",
       "    </tr>\n",
       "    <tr>\n",
       "      <th>385792</th>\n",
       "      <td>1151055</td>\n",
       "      <td>www.jbsa.jp</td>\n",
       "      <td>Sports</td>\n",
       "    </tr>\n",
       "    <tr>\n",
       "      <th>387833</th>\n",
       "      <td>2305497</td>\n",
       "      <td>www.gogo-billiards.com</td>\n",
       "      <td>Sports</td>\n",
       "    </tr>\n",
       "  </tbody>\n",
       "</table>\n",
       "<p>10400 rows × 3 columns</p>\n",
       "</div>"
      ],
      "text/plain": [
       "            uid                        url    cat0\n",
       "362897   205759           www.kinder.co.jp    Arts\n",
       "366748  1207394           www.hdc-dance.jp    Arts\n",
       "368337  1629800  hayashiyasometa.ec-net.jp    Arts\n",
       "368588  1695107             www.makken.com    Arts\n",
       "364485   607658                www.tmaa.jp    Arts\n",
       "...         ...                        ...     ...\n",
       "386797  1719542             www.jkf-hs.com  Sports\n",
       "385366   885747             www.beckham.jp  Sports\n",
       "387281  1992841             www.tara.or.jp  Sports\n",
       "385792  1151055                www.jbsa.jp  Sports\n",
       "387833  2305497     www.gogo-billiards.com  Sports\n",
       "\n",
       "[10400 rows x 3 columns]"
      ]
     },
     "execution_count": 128,
     "metadata": {},
     "output_type": "execute_result"
    }
   ],
   "source": [
    "df_jap"
   ]
  },
  {
   "cell_type": "code",
   "execution_count": null,
   "metadata": {},
   "outputs": [],
   "source": []
  }
 ],
 "metadata": {
  "kernelspec": {
   "display_name": "Python 3",
   "language": "python",
   "name": "python3"
  },
  "language_info": {
   "codemirror_mode": {
    "name": "ipython",
    "version": 3
   },
   "file_extension": ".py",
   "mimetype": "text/x-python",
   "name": "python",
   "nbconvert_exporter": "python",
   "pygments_lexer": "ipython3",
   "version": "3.8.5"
  }
 },
 "nbformat": 4,
 "nbformat_minor": 4
}
