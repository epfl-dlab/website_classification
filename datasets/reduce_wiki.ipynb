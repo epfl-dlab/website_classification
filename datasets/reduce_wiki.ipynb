{
 "cells": [
  {
   "cell_type": "code",
   "execution_count": 2,
   "metadata": {},
   "outputs": [],
   "source": [
    "import pandas as pd\n",
    "import numpy as np\n",
    "import ast\n",
    "import re"
   ]
  },
  {
   "cell_type": "code",
   "execution_count": 3,
   "metadata": {},
   "outputs": [],
   "source": [
    "df = pd.read_csv('/dlabdata1/lugeon/datasets/wikilinks.gz', index_col=0)"
   ]
  },
  {
   "cell_type": "code",
   "execution_count": 4,
   "metadata": {},
   "outputs": [
    {
     "data": {
      "text/html": [
       "<div>\n",
       "<style scoped>\n",
       "    .dataframe tbody tr th:only-of-type {\n",
       "        vertical-align: middle;\n",
       "    }\n",
       "\n",
       "    .dataframe tbody tr th {\n",
       "        vertical-align: top;\n",
       "    }\n",
       "\n",
       "    .dataframe thead th {\n",
       "        text-align: right;\n",
       "    }\n",
       "</style>\n",
       "<table border=\"1\" class=\"dataframe\">\n",
       "  <thead>\n",
       "    <tr style=\"text-align: right;\">\n",
       "      <th></th>\n",
       "      <th>page_id</th>\n",
       "      <th>title</th>\n",
       "      <th>link</th>\n",
       "      <th>fullcat</th>\n",
       "      <th>cat1</th>\n",
       "      <th>cat2</th>\n",
       "      <th>cat3</th>\n",
       "    </tr>\n",
       "  </thead>\n",
       "  <tbody>\n",
       "    <tr>\n",
       "      <th>0</th>\n",
       "      <td>6632119</td>\n",
       "      <td>Gladstone Pottery Museum</td>\n",
       "      <td>www.stokemuseums.org.uk/visit/gpm</td>\n",
       "      <td>Culture.Visual arts.Architecture,Culture.Visua...</td>\n",
       "      <td>Culture</td>\n",
       "      <td>Visual arts</td>\n",
       "      <td>Architecture,Visual arts*</td>\n",
       "    </tr>\n",
       "  </tbody>\n",
       "</table>\n",
       "</div>"
      ],
      "text/plain": [
       "   page_id                     title                               link  \\\n",
       "0  6632119  Gladstone Pottery Museum  www.stokemuseums.org.uk/visit/gpm   \n",
       "\n",
       "                                             fullcat     cat1         cat2  \\\n",
       "0  Culture.Visual arts.Architecture,Culture.Visua...  Culture  Visual arts   \n",
       "\n",
       "                        cat3  \n",
       "0  Architecture,Visual arts*  "
      ]
     },
     "execution_count": 4,
     "metadata": {},
     "output_type": "execute_result"
    }
   ],
   "source": [
    "df.head(1)"
   ]
  },
  {
   "cell_type": "code",
   "execution_count": 23,
   "metadata": {},
   "outputs": [],
   "source": [
    "df = df[df.cat1.notna()]\n",
    "df = df[df.cat2.notna()]\n",
    "df = df[df.link.notna()]"
   ]
  },
  {
   "cell_type": "code",
   "execution_count": 29,
   "metadata": {},
   "outputs": [],
   "source": [
    "def clean_url(url):\n",
    "    url = re.sub(r\"www.|http://|https://|-|_\", '', url)\n",
    "    return url.split('.')[0]"
   ]
  },
  {
   "cell_type": "code",
   "execution_count": 33,
   "metadata": {},
   "outputs": [],
   "source": [
    "df.link = df.link.apply(lambda url: re.sub(r\"http://|https://\", '', url.strip()))"
   ]
  },
  {
   "cell_type": "markdown",
   "metadata": {},
   "source": [
    "### Exploring the links"
   ]
  },
  {
   "cell_type": "code",
   "execution_count": 34,
   "metadata": {},
   "outputs": [
    {
     "data": {
      "text/plain": [
       "True     353577\n",
       "False    144642\n",
       "Name: link, dtype: int64"
      ]
     },
     "execution_count": 34,
     "metadata": {},
     "output_type": "execute_result"
    }
   ],
   "source": [
    "df.link.apply(lambda x: x.startswith('www')).value_counts()"
   ]
  },
  {
   "cell_type": "code",
   "execution_count": 35,
   "metadata": {},
   "outputs": [
    {
     "data": {
      "text/plain": [
       "False    498216\n",
       "True          3\n",
       "Name: link, dtype: int64"
      ]
     },
     "execution_count": 35,
     "metadata": {},
     "output_type": "execute_result"
    }
   ],
   "source": [
    "df.link.apply(lambda x: x.startswith('http')).value_counts()"
   ]
  },
  {
   "cell_type": "code",
   "execution_count": 38,
   "metadata": {},
   "outputs": [
    {
     "data": {
      "text/plain": [
       "False    497963\n",
       "True        256\n",
       "Name: link, dtype: int64"
      ]
     },
     "execution_count": 38,
     "metadata": {},
     "output_type": "execute_result"
    }
   ],
   "source": [
    "df.link.apply(lambda x: '//' in x).value_counts()"
   ]
  },
  {
   "cell_type": "code",
   "execution_count": 40,
   "metadata": {},
   "outputs": [
    {
     "data": {
      "text/html": [
       "<div>\n",
       "<style scoped>\n",
       "    .dataframe tbody tr th:only-of-type {\n",
       "        vertical-align: middle;\n",
       "    }\n",
       "\n",
       "    .dataframe tbody tr th {\n",
       "        vertical-align: top;\n",
       "    }\n",
       "\n",
       "    .dataframe thead th {\n",
       "        text-align: right;\n",
       "    }\n",
       "</style>\n",
       "<table border=\"1\" class=\"dataframe\">\n",
       "  <thead>\n",
       "    <tr style=\"text-align: right;\">\n",
       "      <th></th>\n",
       "      <th>page_id</th>\n",
       "      <th>title</th>\n",
       "      <th>link</th>\n",
       "      <th>fullcat</th>\n",
       "      <th>cat1</th>\n",
       "      <th>cat2</th>\n",
       "      <th>cat3</th>\n",
       "    </tr>\n",
       "  </thead>\n",
       "  <tbody>\n",
       "    <tr>\n",
       "      <th>3707</th>\n",
       "      <td>10896890</td>\n",
       "      <td>RusNet</td>\n",
       "      <td>irc://irc.rus-net.org</td>\n",
       "      <td>Geography.Regions.Asia.Asia*,Geography.Regions...</td>\n",
       "      <td>Culture,Geography</td>\n",
       "      <td>Internet culture,Regions</td>\n",
       "      <td>Asia,Europe</td>\n",
       "    </tr>\n",
       "    <tr>\n",
       "      <th>4794</th>\n",
       "      <td>7713775</td>\n",
       "      <td>Pemberton Township High School</td>\n",
       "      <td>pemberton.schoolwires.net//site/Default.aspx?P...</td>\n",
       "      <td>History and Society.Education,Geography.Region...</td>\n",
       "      <td>Geography,History and Society</td>\n",
       "      <td>Education,Regions</td>\n",
       "      <td>Americas</td>\n",
       "    </tr>\n",
       "    <tr>\n",
       "      <th>5436</th>\n",
       "      <td>1155769</td>\n",
       "      <td>SlashNET</td>\n",
       "      <td>irc://irc.slashnet.org</td>\n",
       "      <td>Culture.Internet culture</td>\n",
       "      <td>Culture</td>\n",
       "      <td>Internet culture</td>\n",
       "      <td>NaN</td>\n",
       "    </tr>\n",
       "    <tr>\n",
       "      <th>9161</th>\n",
       "      <td>398847</td>\n",
       "      <td>Apache Nutch</td>\n",
       "      <td>//nutch.apache.org</td>\n",
       "      <td>STEM.Technology,Culture.Media.Media*,Culture.M...</td>\n",
       "      <td>Culture,STEM</td>\n",
       "      <td>Computing,Media,STEM*,Technology</td>\n",
       "      <td>Media*,Software</td>\n",
       "    </tr>\n",
       "    <tr>\n",
       "      <th>9308</th>\n",
       "      <td>23477385</td>\n",
       "      <td>KAJT</td>\n",
       "      <td>mms://206.192.61.163/sonlife</td>\n",
       "      <td>Geography.Regions.Americas.North America,Cultu...</td>\n",
       "      <td>Culture,Geography</td>\n",
       "      <td>Media,Regions</td>\n",
       "      <td>Americas,Media*,Radio</td>\n",
       "    </tr>\n",
       "  </tbody>\n",
       "</table>\n",
       "</div>"
      ],
      "text/plain": [
       "       page_id                           title  \\\n",
       "3707  10896890                          RusNet   \n",
       "4794   7713775  Pemberton Township High School   \n",
       "5436   1155769                        SlashNET   \n",
       "9161    398847                    Apache Nutch   \n",
       "9308  23477385                            KAJT   \n",
       "\n",
       "                                                   link  \\\n",
       "3707                              irc://irc.rus-net.org   \n",
       "4794  pemberton.schoolwires.net//site/Default.aspx?P...   \n",
       "5436                             irc://irc.slashnet.org   \n",
       "9161                                 //nutch.apache.org   \n",
       "9308                       mms://206.192.61.163/sonlife   \n",
       "\n",
       "                                                fullcat  \\\n",
       "3707  Geography.Regions.Asia.Asia*,Geography.Regions...   \n",
       "4794  History and Society.Education,Geography.Region...   \n",
       "5436                           Culture.Internet culture   \n",
       "9161  STEM.Technology,Culture.Media.Media*,Culture.M...   \n",
       "9308  Geography.Regions.Americas.North America,Cultu...   \n",
       "\n",
       "                               cat1                              cat2  \\\n",
       "3707              Culture,Geography          Internet culture,Regions   \n",
       "4794  Geography,History and Society                 Education,Regions   \n",
       "5436                        Culture                  Internet culture   \n",
       "9161                   Culture,STEM  Computing,Media,STEM*,Technology   \n",
       "9308              Culture,Geography                     Media,Regions   \n",
       "\n",
       "                       cat3  \n",
       "3707            Asia,Europe  \n",
       "4794               Americas  \n",
       "5436                    NaN  \n",
       "9161        Media*,Software  \n",
       "9308  Americas,Media*,Radio  "
      ]
     },
     "execution_count": 40,
     "metadata": {},
     "output_type": "execute_result"
    }
   ],
   "source": [
    "df[df.link.apply(lambda x: '//' in x)].head(5)"
   ]
  },
  {
   "cell_type": "code",
   "execution_count": 41,
   "metadata": {},
   "outputs": [],
   "source": [
    "def is_homepage(link):\n",
    "    return not('/' in link) or (link.count('/') == 1 and link.endswith('/'))"
   ]
  },
  {
   "cell_type": "code",
   "execution_count": 44,
   "metadata": {},
   "outputs": [
    {
     "data": {
      "text/plain": [
       "True     399046\n",
       "False     99173\n",
       "Name: link, dtype: int64"
      ]
     },
     "execution_count": 44,
     "metadata": {},
     "output_type": "execute_result"
    }
   ],
   "source": [
    "df.link.apply(is_homepage).value_counts()"
   ]
  },
  {
   "cell_type": "code",
   "execution_count": 45,
   "metadata": {},
   "outputs": [],
   "source": [
    "df_hp = df[df.link.apply(is_homepage)]"
   ]
  },
  {
   "cell_type": "markdown",
   "metadata": {},
   "source": [
    "### Using cat 1"
   ]
  },
  {
   "cell_type": "code",
   "execution_count": 66,
   "metadata": {},
   "outputs": [
    {
     "data": {
      "text/plain": [
       "1    195590\n",
       "2    161528\n",
       "3     39552\n",
       "4      2376\n",
       "Name: cat1, dtype: int64"
      ]
     },
     "execution_count": 66,
     "metadata": {},
     "output_type": "execute_result"
    }
   ],
   "source": [
    "df_hp.cat1.apply(lambda x: x.split(',')).apply(lambda x: len(x)).value_counts()"
   ]
  },
  {
   "cell_type": "code",
   "execution_count": 67,
   "metadata": {},
   "outputs": [],
   "source": [
    "mask_cat1_unique = df_hp.cat1.apply(lambda x: x.split(',')).apply(lambda x: len(x)) == 1\n",
    "df_cat1 = df_hp[mask_cat1_unique]"
   ]
  },
  {
   "cell_type": "code",
   "execution_count": 68,
   "metadata": {},
   "outputs": [
    {
     "data": {
      "text/plain": [
       "Geography              121415\n",
       "Culture                 57242\n",
       "History and Society     12173\n",
       "STEM                     4760\n",
       "Name: cat1, dtype: int64"
      ]
     },
     "execution_count": 68,
     "metadata": {},
     "output_type": "execute_result"
    }
   ],
   "source": [
    "df_cat1.cat1.value_counts()"
   ]
  },
  {
   "cell_type": "code",
   "execution_count": 69,
   "metadata": {},
   "outputs": [
    {
     "data": {
      "text/plain": [
       "False    366267\n",
       "True      32779\n",
       "Name: cat1, dtype: int64"
      ]
     },
     "execution_count": 69,
     "metadata": {},
     "output_type": "execute_result"
    }
   ],
   "source": [
    "df_hp.cat1.apply(lambda x: 'STEM' in x).value_counts()"
   ]
  },
  {
   "cell_type": "code",
   "execution_count": 70,
   "metadata": {},
   "outputs": [],
   "source": [
    "df_hp.reset_index(inplace=True, drop=True)"
   ]
  },
  {
   "cell_type": "code",
   "execution_count": 71,
   "metadata": {},
   "outputs": [],
   "source": [
    "categories = df_cat1.cat1.unique()\n",
    "\n",
    "df_train = pd.DataFrame([])\n",
    "df_test = pd.DataFrame([])\n",
    "\n",
    "nsamples = 30_000\n",
    "test_frac = 0.2\n",
    "\n",
    "for c in categories:\n",
    "    mask = df_hp.cat1.apply(lambda x: c in x)\n",
    "    df_c = df_hp[mask]\n",
    "    df_c = df_c.sample(nsamples)[['page_id', 'link']]\n",
    "    df_c['cat1'] = [re.sub(r' ', '_', c)] * nsamples\n",
    "    ix = np.arange(nsamples)\n",
    "    np.random.shuffle(ix)\n",
    "    sep = int(nsamples * test_frac)\n",
    "    df_train = pd.concat((df_train, df_c.iloc[ix[sep:]]))\n",
    "    df_test = pd.concat((df_test, df_c.iloc[ix[:sep]]))"
   ]
  },
  {
   "cell_type": "code",
   "execution_count": 72,
   "metadata": {},
   "outputs": [
    {
     "data": {
      "text/html": [
       "<div>\n",
       "<style scoped>\n",
       "    .dataframe tbody tr th:only-of-type {\n",
       "        vertical-align: middle;\n",
       "    }\n",
       "\n",
       "    .dataframe tbody tr th {\n",
       "        vertical-align: top;\n",
       "    }\n",
       "\n",
       "    .dataframe thead th {\n",
       "        text-align: right;\n",
       "    }\n",
       "</style>\n",
       "<table border=\"1\" class=\"dataframe\">\n",
       "  <thead>\n",
       "    <tr style=\"text-align: right;\">\n",
       "      <th></th>\n",
       "      <th>page_id</th>\n",
       "      <th>link</th>\n",
       "      <th>cat1</th>\n",
       "    </tr>\n",
       "  </thead>\n",
       "  <tbody>\n",
       "    <tr>\n",
       "      <th>390526</th>\n",
       "      <td>7305916</td>\n",
       "      <td>columbiacitypaper.com</td>\n",
       "      <td>Culture</td>\n",
       "    </tr>\n",
       "    <tr>\n",
       "      <th>83322</th>\n",
       "      <td>18586680</td>\n",
       "      <td>key.smtown.com</td>\n",
       "      <td>Culture</td>\n",
       "    </tr>\n",
       "    <tr>\n",
       "      <th>62575</th>\n",
       "      <td>19094997</td>\n",
       "      <td>www.nativefederation.org</td>\n",
       "      <td>Culture</td>\n",
       "    </tr>\n",
       "    <tr>\n",
       "      <th>14958</th>\n",
       "      <td>17368275</td>\n",
       "      <td>www.scandal-4.com</td>\n",
       "      <td>Culture</td>\n",
       "    </tr>\n",
       "    <tr>\n",
       "      <th>72569</th>\n",
       "      <td>47437477</td>\n",
       "      <td>www.pakswim.com</td>\n",
       "      <td>Culture</td>\n",
       "    </tr>\n",
       "  </tbody>\n",
       "</table>\n",
       "</div>"
      ],
      "text/plain": [
       "         page_id                      link     cat1\n",
       "390526   7305916     columbiacitypaper.com  Culture\n",
       "83322   18586680            key.smtown.com  Culture\n",
       "62575   19094997  www.nativefederation.org  Culture\n",
       "14958   17368275         www.scandal-4.com  Culture\n",
       "72569   47437477           www.pakswim.com  Culture"
      ]
     },
     "execution_count": 72,
     "metadata": {},
     "output_type": "execute_result"
    }
   ],
   "source": [
    "df_train.head(5)"
   ]
  },
  {
   "cell_type": "code",
   "execution_count": 73,
   "metadata": {},
   "outputs": [
    {
     "data": {
      "text/html": [
       "<div>\n",
       "<style scoped>\n",
       "    .dataframe tbody tr th:only-of-type {\n",
       "        vertical-align: middle;\n",
       "    }\n",
       "\n",
       "    .dataframe tbody tr th {\n",
       "        vertical-align: top;\n",
       "    }\n",
       "\n",
       "    .dataframe thead th {\n",
       "        text-align: right;\n",
       "    }\n",
       "</style>\n",
       "<table border=\"1\" class=\"dataframe\">\n",
       "  <thead>\n",
       "    <tr style=\"text-align: right;\">\n",
       "      <th></th>\n",
       "      <th>page_id</th>\n",
       "      <th>link</th>\n",
       "      <th>cat1</th>\n",
       "    </tr>\n",
       "  </thead>\n",
       "  <tbody>\n",
       "    <tr>\n",
       "      <th>173715</th>\n",
       "      <td>3781075</td>\n",
       "      <td>www.restarts.co.uk</td>\n",
       "      <td>Culture</td>\n",
       "    </tr>\n",
       "    <tr>\n",
       "      <th>97519</th>\n",
       "      <td>10952024</td>\n",
       "      <td>ftisland-official.jp</td>\n",
       "      <td>Culture</td>\n",
       "    </tr>\n",
       "    <tr>\n",
       "      <th>79318</th>\n",
       "      <td>13940895</td>\n",
       "      <td>www.tylorstown.rfc.wales</td>\n",
       "      <td>Culture</td>\n",
       "    </tr>\n",
       "    <tr>\n",
       "      <th>244939</th>\n",
       "      <td>2288327</td>\n",
       "      <td>sarahdash.net</td>\n",
       "      <td>Culture</td>\n",
       "    </tr>\n",
       "    <tr>\n",
       "      <th>76026</th>\n",
       "      <td>40749041</td>\n",
       "      <td>www.overvaalstereo.co.za</td>\n",
       "      <td>Culture</td>\n",
       "    </tr>\n",
       "  </tbody>\n",
       "</table>\n",
       "</div>"
      ],
      "text/plain": [
       "         page_id                      link     cat1\n",
       "173715   3781075        www.restarts.co.uk  Culture\n",
       "97519   10952024      ftisland-official.jp  Culture\n",
       "79318   13940895  www.tylorstown.rfc.wales  Culture\n",
       "244939   2288327             sarahdash.net  Culture\n",
       "76026   40749041  www.overvaalstereo.co.za  Culture"
      ]
     },
     "execution_count": 73,
     "metadata": {},
     "output_type": "execute_result"
    }
   ],
   "source": [
    "df_test.head(5)"
   ]
  },
  {
   "cell_type": "code",
   "execution_count": 74,
   "metadata": {},
   "outputs": [
    {
     "data": {
      "text/plain": [
       "((96000, 3), (24000, 3))"
      ]
     },
     "execution_count": 74,
     "metadata": {},
     "output_type": "execute_result"
    }
   ],
   "source": [
    "df_train.shape, df_test.shape"
   ]
  },
  {
   "cell_type": "code",
   "execution_count": 75,
   "metadata": {},
   "outputs": [],
   "source": [
    "df_train.to_csv('/dlabdata1/lugeon/websites_wiki_30000_4cat1_train.gz', compression='gzip')\n",
    "df_test.to_csv('/dlabdata1/lugeon/websites_wiki_30000_4cat1_valid.gz', compression='gzip')"
   ]
  },
  {
   "cell_type": "markdown",
   "metadata": {},
   "source": [
    "### Using cat 2"
   ]
  },
  {
   "cell_type": "code",
   "execution_count": 41,
   "metadata": {},
   "outputs": [],
   "source": [
    "allcat2 = pd.Series([c_ for c in df.cat2 for c_ in ast.literal_eval(c)])"
   ]
  },
  {
   "cell_type": "code",
   "execution_count": 42,
   "metadata": {},
   "outputs": [
    {
     "data": {
      "text/plain": [
       "Regions                    380155\n",
       "Media                      100931\n",
       "Biography                   97726\n",
       "Education                   53101\n",
       "Business and economics      48285\n",
       "STEM*                       46325\n",
       "Sports                      36357\n",
       "Politics and government     32568\n",
       "Geographical                30846\n",
       "Visual arts                 24130\n",
       "Transportation              19324\n",
       "Philosophy and religion     15187\n",
       "Literature                  14738\n",
       "Technology                  13740\n",
       "Society                     13699\n",
       "Engineering                 10177\n",
       "Computing                    9441\n",
       "Internet culture             8708\n",
       "Medicine & Health            6377\n",
       "Food and drink               6013\n",
       "Military and warfare         4776\n",
       "History                      3848\n",
       "Biology                      3268\n",
       "Performing arts              3086\n",
       "Earth and environment        1956\n",
       "Libraries & Information      1923\n",
       "Space                        1897\n",
       "Linguistics                   777\n",
       "Physics                       572\n",
       "Chemistry                     519\n",
       "Mathematics                   317\n",
       "dtype: int64"
      ]
     },
     "execution_count": 42,
     "metadata": {},
     "output_type": "execute_result"
    }
   ],
   "source": [
    "allcat2.value_counts()"
   ]
  },
  {
   "cell_type": "code",
   "execution_count": 79,
   "metadata": {},
   "outputs": [],
   "source": [
    "selected_cat2 = ['Biography', 'Business and economics', 'Education', 'Visual arts', 'Geographical', 'Politics and government', 'Sports', 'Transportation']"
   ]
  },
  {
   "cell_type": "code",
   "execution_count": 80,
   "metadata": {},
   "outputs": [
    {
     "data": {
      "text/plain": [
       "True     402278\n",
       "False    100778\n",
       "Name: link, dtype: int64"
      ]
     },
     "execution_count": 80,
     "metadata": {},
     "output_type": "execute_result"
    }
   ],
   "source": [
    "df.link.apply(lambda url: not('/' in str(url))).value_counts()"
   ]
  },
  {
   "cell_type": "code",
   "execution_count": 81,
   "metadata": {},
   "outputs": [
    {
     "name": "stdout",
     "output_type": "stream",
     "text": [
      "Biography : 81330 valid urls\n",
      "Business and economics : 43255 valid urls\n",
      "Education : 43122 valid urls\n",
      "Visual arts : 18429 valid urls\n",
      "Geographical : 24289 valid urls\n",
      "Politics and government : 25189 valid urls\n",
      "Sports : 29908 valid urls\n",
      "Transportation : 10678 valid urls\n"
     ]
    }
   ],
   "source": [
    "for c in selected_cat2:\n",
    "    mask = df.cat2.apply(lambda x: c in x)\n",
    "    df_c = df[mask]\n",
    "    df_c = df_c[df_c.link.apply(lambda url: not('/' in str(url)))]\n",
    "    print('{} : {} valid urls'.format(c, df_c.shape[0]))"
   ]
  },
  {
   "cell_type": "code",
   "execution_count": 95,
   "metadata": {},
   "outputs": [
    {
     "name": "stdout",
     "output_type": "stream",
     "text": [
      "[5001 7350 5608 ... 2379 5090 2225]\n",
      "[4106 4973 2717 ... 7893  769 8140]\n",
      "[6388 4582 4443 ... 5843  641 8586]\n",
      "[6925 6345 9058 ...  660 1904 3562]\n",
      "[7726 1137 6345 ... 6843 5224 6945]\n",
      "[1870 4038 2941 ... 6683  333 2938]\n",
      "[3968  459 9344 ... 2714 7677 9583]\n",
      "[3483 6638 2514 ... 5314 8686 1023]\n"
     ]
    }
   ],
   "source": [
    "df_train = pd.DataFrame([])\n",
    "df_test = pd.DataFrame([])\n",
    "\n",
    "nsamples = 10_000\n",
    "test_frac = 0.2\n",
    "\n",
    "for c in selected_cat2:\n",
    "    mask = df.cat2.apply(lambda x: c in x)\n",
    "    df_c = df[mask]\n",
    "    df_c = df_c[df_c.link.apply(lambda url: not('/' in str(url)))]\n",
    "    df_c = df_c.sample(nsamples)[['page_id', 'link']]\n",
    "    df_c['cat2'] = [re.sub(r' ', '_', c)] * nsamples\n",
    "    ix = np.arange(nsamples)\n",
    "    np.random.shuffle(ix)\n",
    "    sep = int(nsamples * test_frac)\n",
    "    df_train = pd.concat((df_train, df_c.iloc[ix[sep:]]))\n",
    "    df_test = pd.concat((df_test, df_c.iloc[ix[:sep]]))"
   ]
  },
  {
   "cell_type": "code",
   "execution_count": 83,
   "metadata": {},
   "outputs": [
    {
     "data": {
      "text/plain": [
       "(64000, 3)"
      ]
     },
     "execution_count": 83,
     "metadata": {},
     "output_type": "execute_result"
    }
   ],
   "source": [
    "df_train.shape"
   ]
  },
  {
   "cell_type": "code",
   "execution_count": 84,
   "metadata": {},
   "outputs": [
    {
     "data": {
      "text/plain": [
       "(16000, 3)"
      ]
     },
     "execution_count": 84,
     "metadata": {},
     "output_type": "execute_result"
    }
   ],
   "source": [
    "df_test.shape"
   ]
  },
  {
   "cell_type": "code",
   "execution_count": 85,
   "metadata": {},
   "outputs": [],
   "source": [
    "df_train = df_train.reset_index(drop=True)\n",
    "df_test = df_test.reset_index(drop=True)"
   ]
  },
  {
   "cell_type": "code",
   "execution_count": 91,
   "metadata": {},
   "outputs": [],
   "source": [
    "df_train.to_csv('/dlabdata1/lugeon/websites_wiki_10_000_9cat_train.gz', compression='gzip')\n",
    "df_test.to_csv('/dlabdata1/lugeon/websites_wiki_10_000_9cat_valid.gz', compression='gzip')"
   ]
  },
  {
   "cell_type": "code",
   "execution_count": 92,
   "metadata": {},
   "outputs": [
    {
     "data": {
      "text/html": [
       "<div>\n",
       "<style scoped>\n",
       "    .dataframe tbody tr th:only-of-type {\n",
       "        vertical-align: middle;\n",
       "    }\n",
       "\n",
       "    .dataframe tbody tr th {\n",
       "        vertical-align: top;\n",
       "    }\n",
       "\n",
       "    .dataframe thead th {\n",
       "        text-align: right;\n",
       "    }\n",
       "</style>\n",
       "<table border=\"1\" class=\"dataframe\">\n",
       "  <thead>\n",
       "    <tr style=\"text-align: right;\">\n",
       "      <th></th>\n",
       "      <th>uid</th>\n",
       "      <th>url</th>\n",
       "      <th>cat0</th>\n",
       "    </tr>\n",
       "  </thead>\n",
       "  <tbody>\n",
       "    <tr>\n",
       "      <th>0</th>\n",
       "      <td>53444543</td>\n",
       "      <td>vvnijnsel.nl</td>\n",
       "      <td>Biography</td>\n",
       "    </tr>\n",
       "    <tr>\n",
       "      <th>1</th>\n",
       "      <td>408803</td>\n",
       "      <td>www.petestark.com</td>\n",
       "      <td>Biography</td>\n",
       "    </tr>\n",
       "    <tr>\n",
       "      <th>2</th>\n",
       "      <td>56769455</td>\n",
       "      <td>www.ghostlightband.com</td>\n",
       "      <td>Biography</td>\n",
       "    </tr>\n",
       "    <tr>\n",
       "      <th>3</th>\n",
       "      <td>25293838</td>\n",
       "      <td>www.thecoalporters.com</td>\n",
       "      <td>Biography</td>\n",
       "    </tr>\n",
       "    <tr>\n",
       "      <th>4</th>\n",
       "      <td>41082806</td>\n",
       "      <td>senatorpeterwirth.com</td>\n",
       "      <td>Biography</td>\n",
       "    </tr>\n",
       "    <tr>\n",
       "      <th>...</th>\n",
       "      <td>...</td>\n",
       "      <td>...</td>\n",
       "      <td>...</td>\n",
       "    </tr>\n",
       "    <tr>\n",
       "      <th>63995</th>\n",
       "      <td>23121059</td>\n",
       "      <td>www.polestar.com</td>\n",
       "      <td>Transportation</td>\n",
       "    </tr>\n",
       "    <tr>\n",
       "      <th>63996</th>\n",
       "      <td>47528895</td>\n",
       "      <td>en.motcmpb.gov.tw</td>\n",
       "      <td>Transportation</td>\n",
       "    </tr>\n",
       "    <tr>\n",
       "      <th>63997</th>\n",
       "      <td>275681</td>\n",
       "      <td>www.ansett.com.au</td>\n",
       "      <td>Transportation</td>\n",
       "    </tr>\n",
       "    <tr>\n",
       "      <th>63998</th>\n",
       "      <td>4579741</td>\n",
       "      <td>www.vag.de</td>\n",
       "      <td>Transportation</td>\n",
       "    </tr>\n",
       "    <tr>\n",
       "      <th>63999</th>\n",
       "      <td>607811</td>\n",
       "      <td>fastnet.rorc.org</td>\n",
       "      <td>Transportation</td>\n",
       "    </tr>\n",
       "  </tbody>\n",
       "</table>\n",
       "<p>64000 rows × 3 columns</p>\n",
       "</div>"
      ],
      "text/plain": [
       "            uid                     url            cat0\n",
       "0      53444543            vvnijnsel.nl       Biography\n",
       "1        408803       www.petestark.com       Biography\n",
       "2      56769455  www.ghostlightband.com       Biography\n",
       "3      25293838  www.thecoalporters.com       Biography\n",
       "4      41082806   senatorpeterwirth.com       Biography\n",
       "...         ...                     ...             ...\n",
       "63995  23121059        www.polestar.com  Transportation\n",
       "63996  47528895       en.motcmpb.gov.tw  Transportation\n",
       "63997    275681       www.ansett.com.au  Transportation\n",
       "63998   4579741              www.vag.de  Transportation\n",
       "63999    607811        fastnet.rorc.org  Transportation\n",
       "\n",
       "[64000 rows x 3 columns]"
      ]
     },
     "execution_count": 92,
     "metadata": {},
     "output_type": "execute_result"
    }
   ],
   "source": [
    "pd.read_csv('/dlabdata1/lugeon/websites_wiki_10_000_9cat_train.gz', header=0, names=['uid', 'url', 'cat0'])"
   ]
  },
  {
   "cell_type": "code",
   "execution_count": null,
   "metadata": {},
   "outputs": [],
   "source": []
  }
 ],
 "metadata": {
  "kernelspec": {
   "display_name": "Python [conda env:basic-env] *",
   "language": "python",
   "name": "conda-env-basic-env-py"
  },
  "language_info": {
   "codemirror_mode": {
    "name": "ipython",
    "version": 3
   },
   "file_extension": ".py",
   "mimetype": "text/x-python",
   "name": "python",
   "nbconvert_exporter": "python",
   "pygments_lexer": "ipython3",
   "version": "3.8.5"
  }
 },
 "nbformat": 4,
 "nbformat_minor": 4
}
