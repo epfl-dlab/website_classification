{
 "cells": [
  {
   "cell_type": "code",
   "execution_count": 1,
   "metadata": {},
   "outputs": [],
   "source": [
    "import pandas as pd\n",
    "import numpy as np\n",
    "from bs4 import BeautifulSoup\n",
    "import matplotlib.pyplot as plt\n",
    "import requests"
   ]
  },
  {
   "cell_type": "code",
   "execution_count": 9,
   "metadata": {},
   "outputs": [],
   "source": [
    "def get_meta(body, attr):\n",
    "    soup = BeautifulSoup(body, parser='lxml')\n",
    "    metatags = soup.findAll('meta')\n",
    "    attr_ = [m.get(attr, None) for m in metatags]\n",
    "    attr = [a.lower() for a in attr_ if a != None]\n",
    "    \n",
    "    return np.unique(attr)"
   ]
  },
  {
   "cell_type": "code",
   "execution_count": 2,
   "metadata": {},
   "outputs": [],
   "source": [
    "df = pd.read_json('/dlabdata1/lugeon/dmozfinalset/dmoz_lang_html.json.gz', orient='records', lines=True)"
   ]
  },
  {
   "cell_type": "code",
   "execution_count": 3,
   "metadata": {},
   "outputs": [
    {
     "data": {
      "text/html": [
       "<div>\n",
       "<style scoped>\n",
       "    .dataframe tbody tr th:only-of-type {\n",
       "        vertical-align: middle;\n",
       "    }\n",
       "\n",
       "    .dataframe tbody tr th {\n",
       "        vertical-align: top;\n",
       "    }\n",
       "\n",
       "    .dataframe thead th {\n",
       "        text-align: right;\n",
       "    }\n",
       "</style>\n",
       "<table border=\"1\" class=\"dataframe\">\n",
       "  <thead>\n",
       "    <tr style=\"text-align: right;\">\n",
       "      <th></th>\n",
       "      <th>uid</th>\n",
       "      <th>url</th>\n",
       "      <th>html</th>\n",
       "      <th>errcode</th>\n",
       "      <th>content</th>\n",
       "      <th>cat0</th>\n",
       "    </tr>\n",
       "  </thead>\n",
       "  <tbody>\n",
       "    <tr>\n",
       "      <th>0</th>\n",
       "      <td>2424165</td>\n",
       "      <td>www.speech-and-phone.de</td>\n",
       "      <td>&lt;!DOCTYPE html PUBLIC \"-//W3C//DTD XHTML 1.0 S...</td>\n",
       "      <td>200.0</td>\n",
       "      <td>text/html</td>\n",
       "      <td>Computers</td>\n",
       "    </tr>\n",
       "  </tbody>\n",
       "</table>\n",
       "</div>"
      ],
      "text/plain": [
       "       uid                      url  \\\n",
       "0  2424165  www.speech-and-phone.de   \n",
       "\n",
       "                                                html  errcode    content  \\\n",
       "0  <!DOCTYPE html PUBLIC \"-//W3C//DTD XHTML 1.0 S...    200.0  text/html   \n",
       "\n",
       "        cat0  \n",
       "0  Computers  "
      ]
     },
     "execution_count": 3,
     "metadata": {},
     "output_type": "execute_result"
    }
   ],
   "source": [
    "df.head(1)"
   ]
  },
  {
   "cell_type": "code",
   "execution_count": 4,
   "metadata": {},
   "outputs": [],
   "source": [
    "def is_valid(code, content):\n",
    "    return code == 200 and content.startswith('text/html')"
   ]
  },
  {
   "cell_type": "code",
   "execution_count": 5,
   "metadata": {},
   "outputs": [],
   "source": [
    "df = df[df.apply(lambda row: is_valid(row.errcode, row.content), axis=1)]"
   ]
  },
  {
   "cell_type": "code",
   "execution_count": 6,
   "metadata": {},
   "outputs": [
    {
     "data": {
      "text/plain": [
       "(113463, 6)"
      ]
     },
     "execution_count": 6,
     "metadata": {},
     "output_type": "execute_result"
    }
   ],
   "source": [
    "df.shape"
   ]
  },
  {
   "cell_type": "code",
   "execution_count": 7,
   "metadata": {},
   "outputs": [],
   "source": [
    "df = df.sample(10_000, random_state=42)"
   ]
  },
  {
   "cell_type": "code",
   "execution_count": 10,
   "metadata": {},
   "outputs": [],
   "source": [
    "df['meta_name'] = df.apply(lambda row: get_meta(row.html, 'name'), axis=1)"
   ]
  },
  {
   "cell_type": "code",
   "execution_count": 11,
   "metadata": {},
   "outputs": [
    {
     "data": {
      "text/html": [
       "<div>\n",
       "<style scoped>\n",
       "    .dataframe tbody tr th:only-of-type {\n",
       "        vertical-align: middle;\n",
       "    }\n",
       "\n",
       "    .dataframe tbody tr th {\n",
       "        vertical-align: top;\n",
       "    }\n",
       "\n",
       "    .dataframe thead th {\n",
       "        text-align: right;\n",
       "    }\n",
       "</style>\n",
       "<table border=\"1\" class=\"dataframe\">\n",
       "  <thead>\n",
       "    <tr style=\"text-align: right;\">\n",
       "      <th></th>\n",
       "      <th>uid</th>\n",
       "      <th>url</th>\n",
       "      <th>html</th>\n",
       "      <th>errcode</th>\n",
       "      <th>content</th>\n",
       "      <th>cat0</th>\n",
       "      <th>meta_name</th>\n",
       "    </tr>\n",
       "  </thead>\n",
       "  <tbody>\n",
       "    <tr>\n",
       "      <th>1201</th>\n",
       "      <td>2143348</td>\n",
       "      <td>www.ibbrugg.ch</td>\n",
       "      <td>&lt;!DOCTYPE html&gt;\\n  &lt;!--[if IEMobile 7]&gt;&lt;html c...</td>\n",
       "      <td>200.0</td>\n",
       "      <td>text/html; charset=utf-8</td>\n",
       "      <td>Computers</td>\n",
       "      <td>[description, msapplication-tilecolor, msappli...</td>\n",
       "    </tr>\n",
       "  </tbody>\n",
       "</table>\n",
       "</div>"
      ],
      "text/plain": [
       "          uid             url  \\\n",
       "1201  2143348  www.ibbrugg.ch   \n",
       "\n",
       "                                                   html  errcode  \\\n",
       "1201  <!DOCTYPE html>\\n  <!--[if IEMobile 7]><html c...    200.0   \n",
       "\n",
       "                       content       cat0  \\\n",
       "1201  text/html; charset=utf-8  Computers   \n",
       "\n",
       "                                              meta_name  \n",
       "1201  [description, msapplication-tilecolor, msappli...  "
      ]
     },
     "execution_count": 11,
     "metadata": {},
     "output_type": "execute_result"
    }
   ],
   "source": [
    "df.head(1)"
   ]
  },
  {
   "cell_type": "code",
   "execution_count": 12,
   "metadata": {},
   "outputs": [],
   "source": [
    "cats = df.cat0.unique()\n",
    "\n",
    "def compute_attr_presence(attr, min_pres):\n",
    "    all_meta_attr = [] \n",
    "\n",
    "    counts = []\n",
    "\n",
    "    for cat in cats:\n",
    "        df_cat = df[df.cat0 == cat]\n",
    "        meta_attrs = df_cat[attr].values\n",
    "        count = pd.Series([a for b in meta_attrs for a in b]).value_counts() / df_cat.shape[0]\n",
    "        min_count = count[count >= min_pres]\n",
    "        counts.append(count)\n",
    "        all_meta_attr += min_count.index.tolist()\n",
    "        #print(cat)\n",
    "        #print(count, '\\n')\n",
    "\n",
    "    all_meta_attr = np.unique(all_meta_attr)\n",
    "    \n",
    "    count_array = np.zeros((len(all_meta_attr), len(cats)))\n",
    "    \n",
    "    for i in range(len(cats)):\n",
    "        j = 0\n",
    "        for attr in all_meta_attr:\n",
    "            count_array[j,i] = counts[i].get(attr, 0)\n",
    "            j += 1\n",
    "        \n",
    "    return count_array, all_meta_attr\n",
    "    "
   ]
  },
  {
   "cell_type": "code",
   "execution_count": 26,
   "metadata": {},
   "outputs": [
    {
     "data": {
      "image/png": "[encoded data removed]",
      "text/plain": [
       "<Figure size 576x864 with 2 Axes>"
      ]
     },
     "metadata": {
      "needs_background": "light"
     },
     "output_type": "display_data"
    }
   ],
   "source": [
    "from mpl_toolkits.axes_grid1 import make_axes_locatable\n",
    "\n",
    "count_attr, attr_names = compute_attr_presence('meta_name', 0.15)\n",
    "\n",
    "fig, ax = plt.subplots(figsize=(8, 12))\n",
    "\n",
    "im = plt.imshow(count_attr, cmap='YlOrBr', interpolation='nearest', vmin=0, vmax=1)\n",
    "\n",
    "plt.xticks(np.arange(len(cats)), cats, rotation=90, fontsize=15)\n",
    "plt.yticks(np.arange(len(attr_names)), attr_names, fontsize=15)\n",
    "ax.xaxis.tick_top()\n",
    "\n",
    "divider = make_axes_locatable(ax)\n",
    "cax = divider.append_axes(\"right\", size=\"5%\", pad=0.3)\n",
    "\n",
    "plt.colorbar(im, cax=cax)\n",
    "\n",
    "#ax.title.set_text('Presence of the different kinds of \"name\" attribute w.r.t to categories'\n",
    "\n",
    "plt.savefig('metatags_dmoz_lang.png', bbox_inches='tight')\n",
    "\n",
    "plt.show()"
   ]
  },
  {
   "cell_type": "code",
   "execution_count": 23,
   "metadata": {},
   "outputs": [
    {
     "data": {
      "text/plain": [
       "array([[0.17435897, 0.19893899, 0.16965307, 0.14360119, 0.1875    ,\n",
       "        0.13959391, 0.20135983, 0.15762712, 0.17337461, 0.1880597 ,\n",
       "        0.22065064, 0.1761658 , 0.07608696],\n",
       "       [0.71794872, 0.57029178, 0.70758673, 0.53720238, 0.75138889,\n",
       "        0.64467005, 0.59884937, 0.60169492, 0.60371517, 0.53432836,\n",
       "        0.61386139, 0.71502591, 0.56521739],\n",
       "       [0.38974359, 0.45888594, 0.43423561, 0.47395833, 0.27222222,\n",
       "        0.49238579, 0.41527197, 0.46271186, 0.32198142, 0.49253731,\n",
       "        0.40169731, 0.46632124, 0.42391304],\n",
       "       [0.41794872, 0.35013263, 0.39763629, 0.31547619, 0.50138889,\n",
       "        0.37055838, 0.40533473, 0.38644068, 0.39628483, 0.31940299,\n",
       "        0.42998586, 0.3626943 , 0.2173913 ],\n",
       "       [0.11538462, 0.08222812, 0.15173465, 0.14955357, 0.15138889,\n",
       "        0.13959391, 0.10094142, 0.13728814, 0.13003096, 0.11641791,\n",
       "        0.10042433, 0.19689119, 0.22826087],\n",
       "       [0.34871795, 0.27320955, 0.39268014, 0.30357143, 0.45555556,\n",
       "        0.37563452, 0.30073222, 0.26779661, 0.25696594, 0.27164179,\n",
       "        0.32956153, 0.43005181, 0.39130435],\n",
       "       [0.19230769, 0.18302387, 0.22073961, 0.20684524, 0.175     ,\n",
       "        0.22335025, 0.14016736, 0.16610169, 0.14860681, 0.19701493,\n",
       "        0.15558699, 0.2746114 , 0.35869565],\n",
       "       [0.11794872, 0.09018568, 0.11627907, 0.10193452, 0.11527778,\n",
       "        0.1319797 , 0.07583682, 0.09152542, 0.09287926, 0.07761194,\n",
       "        0.09476662, 0.1761658 , 0.20652174],\n",
       "       [0.61538462, 0.55437666, 0.68433092, 0.6235119 , 0.69722222,\n",
       "        0.66243655, 0.50104603, 0.5779661 , 0.44272446, 0.65373134,\n",
       "        0.49646393, 0.68911917, 0.7173913 ]])"
      ]
     },
     "execution_count": 23,
     "metadata": {},
     "output_type": "execute_result"
    }
   ],
   "source": [
    "count_attr = "
   ]
  },
  {
   "cell_type": "code",
   "execution_count": 15,
   "metadata": {},
   "outputs": [
    {
     "name": "stdout",
     "output_type": "stream",
     "text": [
      "The presence-feature with the most variance are...\n",
      "viewport                  0.0844\n",
      "description               0.0702\n",
      "keywords                  0.0651\n",
      "robots                    0.0635\n",
      "generator                 0.0630\n",
      "twitter:card              0.0568\n",
      "twitter:site              0.0395\n",
      "msapplication-tileimage   0.0383\n",
      "twitter:title             0.0368\n",
      "google-site-verification  0.0359\n"
     ]
    }
   ],
   "source": [
    "std = []\n",
    "\n",
    "for i in range(count_attr.shape[0]):\n",
    "    std.append(np.std(count_attr[i]))\n",
    "    \n",
    "sorti = np.argsort(std)[::-1]\n",
    "\n",
    "print('The presence-feature with the most variance are...')\n",
    "\n",
    "for i in sorti[:10]:\n",
    "    print(\"{:<25} {:.4f}\".format(attr_names[i], std[i]))"
   ]
  },
  {
   "cell_type": "code",
   "execution_count": 32,
   "metadata": {},
   "outputs": [
    {
     "data": {
      "text/plain": [
       "['viewport',\n",
       " 'generator',\n",
       " 'description',\n",
       " 'twitter:site',\n",
       " 'twitter:card',\n",
       " 'robots',\n",
       " 'keywords',\n",
       " 'apple-mobile-web-app-capable',\n",
       " 'google-site-verification',\n",
       " 'msapplication-tileimage',\n",
       " 'msvalidate.01',\n",
       " 'apple-mobile-web-app-status-bar-style',\n",
       " 'shopify-digital-wallet',\n",
       " 'handheldfriendly',\n",
       " 'shopify-checkout-api-token',\n",
       " 'title',\n",
       " 'twitter:title',\n",
       " 'mobileoptimized',\n",
       " 'author',\n",
       " 'theme-color']"
      ]
     },
     "execution_count": 32,
     "metadata": {},
     "output_type": "execute_result"
    }
   ],
   "source": [
    "repr_meta = attr_names[sorti[:20]]\n",
    "repr_meta.tolist()"
   ]
  },
  {
   "cell_type": "code",
   "execution_count": 33,
   "metadata": {},
   "outputs": [],
   "source": [
    "repr_attributes = ['viewport','generator', 'description', 'twitter:site', 'twitter:card', 'robots', 'keywords', 'apple-mobile-web-app-capable', 'google-site-verification', 'msapplication-tileimage', 'msvalidate.01', 'apple-mobile-web-app-status-bar-style', 'shopify-digital-wallet', 'handheldfriendly', 'shopify-checkout-api-token', 'title', 'twitter:title', 'mobileoptimized', 'author', 'theme-color']"
   ]
  },
  {
   "cell_type": "code",
   "execution_count": 39,
   "metadata": {},
   "outputs": [],
   "source": [
    "def embed_metatags(soup):\n",
    "    metatags = soup.findAll('meta')\n",
    "    attr = [m.get('name', None) for m in metatags]\n",
    "    attr = [a.lower() for a in attr if a != None]\n",
    "    \n",
    "    attr_emb = [int(a in attr) for a in repr_attributes]\n",
    "    \n",
    "    return attr_emb"
   ]
  },
  {
   "cell_type": "code",
   "execution_count": 42,
   "metadata": {},
   "outputs": [],
   "source": [
    "r = requests.get('https://www.bbc.com')\n",
    "soup = BeautifulSoup(r.text, parser='lxml')"
   ]
  },
  {
   "cell_type": "code",
   "execution_count": 43,
   "metadata": {},
   "outputs": [
    {
     "data": {
      "text/plain": [
       "[1, 0, 1, 0, 0, 0, 1, 0, 0, 0, 1, 0, 0, 0, 0, 0, 0, 0, 0, 0]"
      ]
     },
     "execution_count": 43,
     "metadata": {},
     "output_type": "execute_result"
    }
   ],
   "source": [
    "embed_metatags(soup)"
   ]
  },
  {
   "cell_type": "code",
   "execution_count": null,
   "metadata": {},
   "outputs": [],
   "source": []
  }
 ],
 "metadata": {
  "kernelspec": {
   "display_name": "Python 3",
   "language": "python",
   "name": "python3"
  },
  "language_info": {
   "codemirror_mode": {
    "name": "ipython",
    "version": 3
   },
   "file_extension": ".py",
   "mimetype": "text/x-python",
   "name": "python",
   "nbconvert_exporter": "python",
   "pygments_lexer": "ipython3",
   "version": "3.8.5"
  }
 },
 "nbformat": 4,
 "nbformat_minor": 4
}
