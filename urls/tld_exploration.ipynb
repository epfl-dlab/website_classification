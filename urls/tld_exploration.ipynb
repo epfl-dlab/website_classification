{
 "cells": [
  {
   "cell_type": "code",
   "execution_count": 1,
   "metadata": {},
   "outputs": [],
   "source": [
    "import pandas as pd\n",
    "import numpy as np"
   ]
  },
  {
   "cell_type": "code",
   "execution_count": 18,
   "metadata": {},
   "outputs": [],
   "source": [
    "folder = '/dlabdata1/lugeon/datasets/'\n",
    "#folder = '../data/'\n",
    "name = 'websites_dmoz_multi'\n",
    "ext = '.gz'\n",
    "data = pd.read_csv(folder + name + ext, header=0)"
   ]
  },
  {
   "cell_type": "code",
   "execution_count": 19,
   "metadata": {},
   "outputs": [],
   "source": [
    "lang_id = pd.read_csv('language-codes_csv.csv')"
   ]
  },
  {
   "cell_type": "code",
   "execution_count": 20,
   "metadata": {},
   "outputs": [
    {
     "data": {
      "text/html": [
       "<div>\n",
       "<style scoped>\n",
       "    .dataframe tbody tr th:only-of-type {\n",
       "        vertical-align: middle;\n",
       "    }\n",
       "\n",
       "    .dataframe tbody tr th {\n",
       "        vertical-align: top;\n",
       "    }\n",
       "\n",
       "    .dataframe thead th {\n",
       "        text-align: right;\n",
       "    }\n",
       "</style>\n",
       "<table border=\"1\" class=\"dataframe\">\n",
       "  <thead>\n",
       "    <tr style=\"text-align: right;\">\n",
       "      <th></th>\n",
       "      <th>alpha2</th>\n",
       "      <th>English</th>\n",
       "    </tr>\n",
       "  </thead>\n",
       "  <tbody>\n",
       "    <tr>\n",
       "      <th>0</th>\n",
       "      <td>aa</td>\n",
       "      <td>Afar</td>\n",
       "    </tr>\n",
       "    <tr>\n",
       "      <th>1</th>\n",
       "      <td>ab</td>\n",
       "      <td>Abkhazian</td>\n",
       "    </tr>\n",
       "    <tr>\n",
       "      <th>2</th>\n",
       "      <td>ae</td>\n",
       "      <td>Avestan</td>\n",
       "    </tr>\n",
       "    <tr>\n",
       "      <th>3</th>\n",
       "      <td>af</td>\n",
       "      <td>Afrikaans</td>\n",
       "    </tr>\n",
       "    <tr>\n",
       "      <th>4</th>\n",
       "      <td>ak</td>\n",
       "      <td>Akan</td>\n",
       "    </tr>\n",
       "  </tbody>\n",
       "</table>\n",
       "</div>"
      ],
      "text/plain": [
       "  alpha2    English\n",
       "0     aa       Afar\n",
       "1     ab  Abkhazian\n",
       "2     ae    Avestan\n",
       "3     af  Afrikaans\n",
       "4     ak       Akan"
      ]
     },
     "execution_count": 20,
     "metadata": {},
     "output_type": "execute_result"
    }
   ],
   "source": [
    "lang_id.head()"
   ]
  },
  {
   "cell_type": "code",
   "execution_count": 21,
   "metadata": {},
   "outputs": [],
   "source": [
    "ids = lang_id.alpha2.values"
   ]
  },
  {
   "cell_type": "code",
   "execution_count": 22,
   "metadata": {},
   "outputs": [
    {
     "data": {
      "text/html": [
       "<div>\n",
       "<style scoped>\n",
       "    .dataframe tbody tr th:only-of-type {\n",
       "        vertical-align: middle;\n",
       "    }\n",
       "\n",
       "    .dataframe tbody tr th {\n",
       "        vertical-align: top;\n",
       "    }\n",
       "\n",
       "    .dataframe thead th {\n",
       "        text-align: right;\n",
       "    }\n",
       "</style>\n",
       "<table border=\"1\" class=\"dataframe\">\n",
       "  <thead>\n",
       "    <tr style=\"text-align: right;\">\n",
       "      <th></th>\n",
       "      <th>Unnamed: 0</th>\n",
       "      <th>uid</th>\n",
       "      <th>url</th>\n",
       "      <th>lang</th>\n",
       "      <th>lang_id</th>\n",
       "      <th>cat0</th>\n",
       "    </tr>\n",
       "  </thead>\n",
       "  <tbody>\n",
       "    <tr>\n",
       "      <th>0</th>\n",
       "      <td>0</td>\n",
       "      <td>184</td>\n",
       "      <td>www.delphipraxis.net</td>\n",
       "      <td>Deutsch</td>\n",
       "      <td>de</td>\n",
       "      <td>Computers</td>\n",
       "    </tr>\n",
       "    <tr>\n",
       "      <th>1</th>\n",
       "      <td>1</td>\n",
       "      <td>263</td>\n",
       "      <td>www.central-it.de</td>\n",
       "      <td>Deutsch</td>\n",
       "      <td>de</td>\n",
       "      <td>Computers</td>\n",
       "    </tr>\n",
       "    <tr>\n",
       "      <th>2</th>\n",
       "      <td>2</td>\n",
       "      <td>731</td>\n",
       "      <td>www.aus-wandern.de</td>\n",
       "      <td>Deutsch</td>\n",
       "      <td>de</td>\n",
       "      <td>Computers</td>\n",
       "    </tr>\n",
       "    <tr>\n",
       "      <th>3</th>\n",
       "      <td>3</td>\n",
       "      <td>1072</td>\n",
       "      <td>blog.cvjm-nuernberg.de</td>\n",
       "      <td>Deutsch</td>\n",
       "      <td>de</td>\n",
       "      <td>Computers</td>\n",
       "    </tr>\n",
       "    <tr>\n",
       "      <th>4</th>\n",
       "      <td>4</td>\n",
       "      <td>1101</td>\n",
       "      <td>www.ges-training.de</td>\n",
       "      <td>Deutsch</td>\n",
       "      <td>de</td>\n",
       "      <td>Computers</td>\n",
       "    </tr>\n",
       "  </tbody>\n",
       "</table>\n",
       "</div>"
      ],
      "text/plain": [
       "   Unnamed: 0   uid                     url     lang lang_id       cat0\n",
       "0           0   184    www.delphipraxis.net  Deutsch      de  Computers\n",
       "1           1   263       www.central-it.de  Deutsch      de  Computers\n",
       "2           2   731      www.aus-wandern.de  Deutsch      de  Computers\n",
       "3           3  1072  blog.cvjm-nuernberg.de  Deutsch      de  Computers\n",
       "4           4  1101     www.ges-training.de  Deutsch      de  Computers"
      ]
     },
     "execution_count": 22,
     "metadata": {},
     "output_type": "execute_result"
    }
   ],
   "source": [
    "data.head()"
   ]
  },
  {
   "cell_type": "code",
   "execution_count": 27,
   "metadata": {},
   "outputs": [
    {
     "data": {
      "text/html": [
       "<div>\n",
       "<style scoped>\n",
       "    .dataframe tbody tr th:only-of-type {\n",
       "        vertical-align: middle;\n",
       "    }\n",
       "\n",
       "    .dataframe tbody tr th {\n",
       "        vertical-align: top;\n",
       "    }\n",
       "\n",
       "    .dataframe thead th {\n",
       "        text-align: right;\n",
       "    }\n",
       "</style>\n",
       "<table border=\"1\" class=\"dataframe\">\n",
       "  <thead>\n",
       "    <tr style=\"text-align: right;\">\n",
       "      <th></th>\n",
       "      <th>Unnamed: 0</th>\n",
       "      <th>uid</th>\n",
       "      <th>url</th>\n",
       "      <th>lang</th>\n",
       "      <th>lang_id</th>\n",
       "      <th>cat0</th>\n",
       "    </tr>\n",
       "  </thead>\n",
       "  <tbody>\n",
       "    <tr>\n",
       "      <th>51950</th>\n",
       "      <td>51950</td>\n",
       "      <td>2197978</td>\n",
       "      <td>www.sdi.com.au</td>\n",
       "      <td>Deutsch</td>\n",
       "      <td>de</td>\n",
       "      <td>Business</td>\n",
       "    </tr>\n",
       "    <tr>\n",
       "      <th>67379</th>\n",
       "      <td>67379</td>\n",
       "      <td>1325020</td>\n",
       "      <td>www.kirche-sydney.org.au</td>\n",
       "      <td>Deutsch</td>\n",
       "      <td>de</td>\n",
       "      <td>Society</td>\n",
       "    </tr>\n",
       "    <tr>\n",
       "      <th>91916</th>\n",
       "      <td>91916</td>\n",
       "      <td>1815583</td>\n",
       "      <td>www.stormsurfers.com.au</td>\n",
       "      <td>Deutsch</td>\n",
       "      <td>de</td>\n",
       "      <td>Arts</td>\n",
       "    </tr>\n",
       "    <tr>\n",
       "      <th>180743</th>\n",
       "      <td>180743</td>\n",
       "      <td>1871094</td>\n",
       "      <td>www.woche.com.au</td>\n",
       "      <td>Deutsch</td>\n",
       "      <td>de</td>\n",
       "      <td>News</td>\n",
       "    </tr>\n",
       "    <tr>\n",
       "      <th>187538</th>\n",
       "      <td>187538</td>\n",
       "      <td>4714</td>\n",
       "      <td>www.langpro.com.au</td>\n",
       "      <td>Français</td>\n",
       "      <td>fr</td>\n",
       "      <td>Business</td>\n",
       "    </tr>\n",
       "    <tr>\n",
       "      <th>...</th>\n",
       "      <td>...</td>\n",
       "      <td>...</td>\n",
       "      <td>...</td>\n",
       "      <td>...</td>\n",
       "      <td>...</td>\n",
       "      <td>...</td>\n",
       "    </tr>\n",
       "    <tr>\n",
       "      <th>1024893</th>\n",
       "      <td>1024893</td>\n",
       "      <td>2486947</td>\n",
       "      <td>www.art-almanac.com.au</td>\n",
       "      <td>English</td>\n",
       "      <td>en</td>\n",
       "      <td>Reference</td>\n",
       "    </tr>\n",
       "    <tr>\n",
       "      <th>1024924</th>\n",
       "      <td>1024924</td>\n",
       "      <td>2487056</td>\n",
       "      <td>www.autorentals.com.au</td>\n",
       "      <td>English</td>\n",
       "      <td>en</td>\n",
       "      <td>Business</td>\n",
       "    </tr>\n",
       "    <tr>\n",
       "      <th>1025004</th>\n",
       "      <td>1025004</td>\n",
       "      <td>2487465</td>\n",
       "      <td>www.geocompconsult.com.au</td>\n",
       "      <td>English</td>\n",
       "      <td>en</td>\n",
       "      <td>Science</td>\n",
       "    </tr>\n",
       "    <tr>\n",
       "      <th>1025021</th>\n",
       "      <td>1025021</td>\n",
       "      <td>2487514</td>\n",
       "      <td>www.qam.com.au</td>\n",
       "      <td>English</td>\n",
       "      <td>en</td>\n",
       "      <td>Reference</td>\n",
       "    </tr>\n",
       "    <tr>\n",
       "      <th>1025159</th>\n",
       "      <td>1025159</td>\n",
       "      <td>2488150</td>\n",
       "      <td>www.smwilliamstown.catholic.edu.au</td>\n",
       "      <td>English</td>\n",
       "      <td>en</td>\n",
       "      <td>Society</td>\n",
       "    </tr>\n",
       "  </tbody>\n",
       "</table>\n",
       "<p>11595 rows × 6 columns</p>\n",
       "</div>"
      ],
      "text/plain": [
       "         Unnamed: 0      uid                                 url      lang  \\\n",
       "51950         51950  2197978                      www.sdi.com.au   Deutsch   \n",
       "67379         67379  1325020            www.kirche-sydney.org.au   Deutsch   \n",
       "91916         91916  1815583             www.stormsurfers.com.au   Deutsch   \n",
       "180743       180743  1871094                    www.woche.com.au   Deutsch   \n",
       "187538       187538     4714                  www.langpro.com.au  Français   \n",
       "...             ...      ...                                 ...       ...   \n",
       "1024893     1024893  2486947              www.art-almanac.com.au   English   \n",
       "1024924     1024924  2487056              www.autorentals.com.au   English   \n",
       "1025004     1025004  2487465           www.geocompconsult.com.au   English   \n",
       "1025021     1025021  2487514                      www.qam.com.au   English   \n",
       "1025159     1025159  2488150  www.smwilliamstown.catholic.edu.au   English   \n",
       "\n",
       "        lang_id       cat0  \n",
       "51950        de   Business  \n",
       "67379        de    Society  \n",
       "91916        de       Arts  \n",
       "180743       de       News  \n",
       "187538       fr   Business  \n",
       "...         ...        ...  \n",
       "1024893      en  Reference  \n",
       "1024924      en   Business  \n",
       "1025004      en    Science  \n",
       "1025021      en  Reference  \n",
       "1025159      en    Society  \n",
       "\n",
       "[11595 rows x 6 columns]"
      ]
     },
     "execution_count": 27,
     "metadata": {},
     "output_type": "execute_result"
    }
   ],
   "source": [
    "data[data.url.apply(lambda u: u.endswith('.au'))]"
   ]
  },
  {
   "cell_type": "code",
   "execution_count": 15,
   "metadata": {},
   "outputs": [],
   "source": [
    "domains = data.url.apply(lambda x: x.split('.')[-1])\n",
    "domains = domains[domains.apply(lambda x: x not in ids)]"
   ]
  },
  {
   "cell_type": "code",
   "execution_count": 37,
   "metadata": {},
   "outputs": [
    {
     "data": {
      "text/plain": [
       "com         482918\n",
       "org          86975\n",
       "net          38919\n",
       "jp           37072\n",
       "edu          11748\n",
       "au           11595\n",
       "at            8916\n",
       "cn            5944\n",
       "info          5710\n",
       "nz            2618\n",
       "biz           1890\n",
       "ua            1732\n",
       "us            1475\n",
       "gov            927\n",
       "in             919\n",
       "tv             903\n",
       "mx             834\n",
       "dk             809\n",
       "cc             656\n",
       "cl             609\n",
       "hk             562\n",
       "cz             560\n",
       "gr             513\n",
       "by             442\n",
       "il             366\n",
       "xn--p1ai       320\n",
       "ws             259\n",
       "me             192\n",
       "uy             188\n",
       "pk             175\n",
       "name           167\n",
       "kz             147\n",
       "nu             145\n",
       "ph             141\n",
       "coop           138\n",
       "pe             133\n",
       "pro            127\n",
       "fm             111\n",
       "int             90\n",
       "ag              71\n",
       "bz              68\n",
       "ma              59\n",
       "aero            58\n",
       "ec              51\n",
       "ir              51\n",
       "md              49\n",
       "cat             45\n",
       "ac              44\n",
       "club            44\n",
       "church          43\n",
       "Name: url, dtype: int64"
      ]
     },
     "execution_count": 37,
     "metadata": {},
     "output_type": "execute_result"
    }
   ],
   "source": [
    "domains.value_counts()[:50]"
   ]
  },
  {
   "cell_type": "code",
   "execution_count": 43,
   "metadata": {},
   "outputs": [],
   "source": [
    "rep_domains = ['com', 'org', 'net', 'edu', 'info', 'biz', 'gov', 'tv', 'me', 'name', 'coop', 'pro', 'fm', 'int', 'aero', 'club', 'church']"
   ]
  },
  {
   "cell_type": "code",
   "execution_count": 44,
   "metadata": {},
   "outputs": [
    {
     "data": {
      "text/plain": [
       "17"
      ]
     },
     "execution_count": 44,
     "metadata": {},
     "output_type": "execute_result"
    }
   ],
   "source": [
    "len(rep_domains)"
   ]
  },
  {
   "cell_type": "code",
   "execution_count": 46,
   "metadata": {},
   "outputs": [],
   "source": [
    "def embed_domains(url):\n",
    "    domain = url.split('.')[-1]\n",
    "    return [int(domain.startswith(d)) for d in rep_domains]"
   ]
  },
  {
   "cell_type": "code",
   "execution_count": 49,
   "metadata": {},
   "outputs": [
    {
     "data": {
      "text/plain": [
       "[0, 0, 0, 0, 0, 0, 0, 0, 0, 0, 1, 0, 0, 0, 0, 0, 0]"
      ]
     },
     "execution_count": 49,
     "metadata": {},
     "output_type": "execute_result"
    }
   ],
   "source": [
    "embed_domains('epfl.coop')"
   ]
  },
  {
   "cell_type": "code",
   "execution_count": null,
   "metadata": {},
   "outputs": [],
   "source": []
  }
 ],
 "metadata": {
  "kernelspec": {
   "display_name": "Python 3",
   "language": "python",
   "name": "python3"
  },
  "language_info": {
   "codemirror_mode": {
    "name": "ipython",
    "version": 3
   },
   "file_extension": ".py",
   "mimetype": "text/x-python",
   "name": "python",
   "nbconvert_exporter": "python",
   "pygments_lexer": "ipython3",
   "version": "3.8.5"
  }
 },
 "nbformat": 4,
 "nbformat_minor": 4
}
